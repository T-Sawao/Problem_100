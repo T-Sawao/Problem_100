{
 "cells": [
  {
   "cell_type": "code",
   "execution_count": 15,
   "id": "b7e0df00-ca72-4cd4-9d70-032f50dd3d46",
   "metadata": {},
   "outputs": [
    {
     "data": {
      "text/plain": [
       "'/home/work/work/Problem_100/nlp_100'"
      ]
     },
     "execution_count": 15,
     "metadata": {},
     "output_type": "execute_result"
    }
   ],
   "source": [
    "pwd"
   ]
  },
  {
   "cell_type": "markdown",
   "id": "08273508-9085-4aa1-957a-f5b2d64923ea",
   "metadata": {},
   "source": [
    "# 【言語処理100本ノック 2020】第2章: UNIXコマンド"
   ]
  },
  {
   "cell_type": "code",
   "execution_count": 16,
   "id": "065b229a-165a-4816-a989-423a138992c0",
   "metadata": {},
   "outputs": [
    {
     "name": "stdout",
     "output_type": "stream",
     "text": [
      "--2021-04-18 05:04:29--  https://nlp100.github.io/data/popular-names.txt\n",
      "Resolving nlp100.github.io (nlp100.github.io)... 185.199.109.153, 185.199.108.153, 185.199.110.153, ...\n",
      "Connecting to nlp100.github.io (nlp100.github.io)|185.199.109.153|:443... connected.\n",
      "HTTP request sent, awaiting response... 200 OK\n",
      "Length: 55026 (54K) [text/plain]\n",
      "Saving to: ‘popular-names.txt.2’\n",
      "\n",
      "popular-names.txt.2 100%[===================>]  53.74K  --.-KB/s    in 0.04s   \n",
      "\n",
      "2021-04-18 05:04:29 (1.26 MB/s) - ‘popular-names.txt.2’ saved [55026/55026]\n",
      "\n"
     ]
    }
   ],
   "source": [
    "!wget https://nlp100.github.io/data/popular-names.txt"
   ]
  },
  {
   "cell_type": "markdown",
   "id": "3f18f2c4-f5fb-4a17-b04e-99aaf4ff7968",
   "metadata": {},
   "source": [
    "### 10. 行数のカウント\n",
    "行数をカウントせよ．確認にはwcコマンドを用いよ．"
   ]
  },
  {
   "cell_type": "code",
   "execution_count": 19,
   "id": "4b507bae-2277-4bb4-b9ac-6126b7597888",
   "metadata": {},
   "outputs": [
    {
     "data": {
      "text/plain": [
       "'/home/work/work/Problem_100/nlp_100'"
      ]
     },
     "execution_count": 19,
     "metadata": {},
     "output_type": "execute_result"
    }
   ],
   "source": [
    "pwd"
   ]
  },
  {
   "cell_type": "code",
   "execution_count": 28,
   "id": "53b1a76f-ebdf-4144-9b8c-a8a0ee16d685",
   "metadata": {},
   "outputs": [
    {
     "data": {
      "text/plain": [
       "2780"
      ]
     },
     "execution_count": 28,
     "metadata": {},
     "output_type": "execute_result"
    }
   ],
   "source": [
    "# pandas\n",
    "\n",
    "import pandas as pd\n",
    "\n",
    "df_master = pd.read_table(\"popular-names.txt\", header=None)\n",
    "df = df_master.copy()\n",
    "len(df)"
   ]
  },
  {
   "cell_type": "code",
   "execution_count": 30,
   "id": "c033f8c4-7c8b-49c1-9588-cafeea83754e",
   "metadata": {},
   "outputs": [
    {
     "name": "stdout",
     "output_type": "stream",
     "text": [
      "2780 popular-names.txt\n"
     ]
    }
   ],
   "source": [
    "#UNIXコマンド\n",
    "!wc -l popular-names.txt"
   ]
  },
  {
   "cell_type": "markdown",
   "id": "156c7588-19ac-4f0e-a986-fa360bc9900d",
   "metadata": {},
   "source": [
    "### 11. タブをスペースに置換\n",
    "タブ1文字につきスペース1文字に置換せよ．確認にはsedコマンド，trコマンド，もしくはexpandコマンドを用いよ．"
   ]
  },
  {
   "cell_type": "code",
   "execution_count": 32,
   "id": "c657dc86-edc1-418b-a718-609ef5409762",
   "metadata": {},
   "outputs": [
    {
     "data": {
      "text/html": [
       "<div>\n",
       "<style scoped>\n",
       "    .dataframe tbody tr th:only-of-type {\n",
       "        vertical-align: middle;\n",
       "    }\n",
       "\n",
       "    .dataframe tbody tr th {\n",
       "        vertical-align: top;\n",
       "    }\n",
       "\n",
       "    .dataframe thead th {\n",
       "        text-align: right;\n",
       "    }\n",
       "</style>\n",
       "<table border=\"1\" class=\"dataframe\">\n",
       "  <thead>\n",
       "    <tr style=\"text-align: right;\">\n",
       "      <th></th>\n",
       "      <th>0</th>\n",
       "      <th>1</th>\n",
       "      <th>2</th>\n",
       "      <th>3</th>\n",
       "    </tr>\n",
       "  </thead>\n",
       "  <tbody>\n",
       "    <tr>\n",
       "      <th>0</th>\n",
       "      <td>Mary</td>\n",
       "      <td>F</td>\n",
       "      <td>7065</td>\n",
       "      <td>1880</td>\n",
       "    </tr>\n",
       "    <tr>\n",
       "      <th>1</th>\n",
       "      <td>Anna</td>\n",
       "      <td>F</td>\n",
       "      <td>2604</td>\n",
       "      <td>1880</td>\n",
       "    </tr>\n",
       "    <tr>\n",
       "      <th>2</th>\n",
       "      <td>Emma</td>\n",
       "      <td>F</td>\n",
       "      <td>2003</td>\n",
       "      <td>1880</td>\n",
       "    </tr>\n",
       "    <tr>\n",
       "      <th>3</th>\n",
       "      <td>Elizabeth</td>\n",
       "      <td>F</td>\n",
       "      <td>1939</td>\n",
       "      <td>1880</td>\n",
       "    </tr>\n",
       "    <tr>\n",
       "      <th>4</th>\n",
       "      <td>Minnie</td>\n",
       "      <td>F</td>\n",
       "      <td>1746</td>\n",
       "      <td>1880</td>\n",
       "    </tr>\n",
       "  </tbody>\n",
       "</table>\n",
       "</div>"
      ],
      "text/plain": [
       "           0  1     2     3\n",
       "0       Mary  F  7065  1880\n",
       "1       Anna  F  2604  1880\n",
       "2       Emma  F  2003  1880\n",
       "3  Elizabeth  F  1939  1880\n",
       "4     Minnie  F  1746  1880"
      ]
     },
     "execution_count": 32,
     "metadata": {},
     "output_type": "execute_result"
    }
   ],
   "source": [
    "# pandas\n",
    "df.head(5)"
   ]
  },
  {
   "cell_type": "code",
   "execution_count": 33,
   "id": "16c9a157-bff5-470d-b847-5015604ce5b2",
   "metadata": {},
   "outputs": [
    {
     "name": "stdout",
     "output_type": "stream",
     "text": [
      "Mary F 7065 1880\n",
      "Anna F 2604 1880\n",
      "Emma F 2003 1880\n",
      "Elizabeth F 1939 1880\n",
      "Minnie F 1746 1880\n",
      "sed: couldn't write 17 items to stdout: Broken pipe\n"
     ]
    }
   ],
   "source": [
    "#UNIXコマンド\n",
    "!sed -e 's/\\s/ /g' popular-names.txt | head -n 5"
   ]
  },
  {
   "cell_type": "markdown",
   "id": "a2d61115-718e-40bc-82ca-3bea276b51b5",
   "metadata": {},
   "source": [
    "### 12. 1列目をcol1.txtに，2列目をcol2.txtに保存\n",
    "各行の1列目だけを抜き出したものをcol1.txtに，2列目だけを抜き出したものをcol2.txtとしてファイルに保存せよ．確認にはcutコマンドを用いよ"
   ]
  },
  {
   "cell_type": "code",
   "execution_count": 55,
   "id": "9e9770f6-4b43-4afe-a2c6-badc296ddeac",
   "metadata": {},
   "outputs": [],
   "source": [
    "# pandas\n",
    "col1_p = df[0]\n",
    "col2_p = df[1]\n",
    "\n",
    "col1_p.to_csv(\"./col1_p.txt\")\n",
    "col2_p.to_csv(\"./col2_p.txt\")"
   ]
  },
  {
   "cell_type": "code",
   "execution_count": 52,
   "id": "596470b8-73bc-44fe-8eeb-51a1fb103fbe",
   "metadata": {},
   "outputs": [
    {
     "name": "stdout",
     "output_type": "stream",
     "text": [
      "Mary\n",
      "Anna\n",
      "Emma\n",
      "Elizabeth\n",
      "Minnie\n"
     ]
    }
   ],
   "source": [
    "#UNIXコマンド\n",
    "!cut -f 1 ./popular-names.txt > ./col1.txt\n",
    "!cat ./col1_chk.txt | head -n 5"
   ]
  },
  {
   "cell_type": "code",
   "execution_count": 53,
   "id": "7e236c41-bee4-47e8-89eb-07129cef8fa9",
   "metadata": {},
   "outputs": [
    {
     "name": "stdout",
     "output_type": "stream",
     "text": [
      "F\n",
      "F\n",
      "F\n",
      "F\n",
      "F\n"
     ]
    }
   ],
   "source": [
    "#UNIXコマンド\n",
    "!cut -f 2 ./popular-names.txt > ./col2.txt\n",
    "!cat ./col2_chk.txt | head -n 5"
   ]
  },
  {
   "cell_type": "markdown",
   "id": "80fbce73-f83c-42fa-b08e-e9d3cca2eda9",
   "metadata": {},
   "source": [
    "### 13. col1.txtとcol2.txtをマージ\n",
    "12で作ったcol1.txtとcol2.txtを結合し，元のファイルの1列目と2列目をタブ区切りで並べたテキストファイルを作成せよ．確認にはpasteコマンドを用いよ．"
   ]
  },
  {
   "cell_type": "code",
   "execution_count": 56,
   "id": "ce534344-b54d-4ae1-a322-82ca25d4bfe4",
   "metadata": {},
   "outputs": [
    {
     "data": {
      "text/html": [
       "<div>\n",
       "<style scoped>\n",
       "    .dataframe tbody tr th:only-of-type {\n",
       "        vertical-align: middle;\n",
       "    }\n",
       "\n",
       "    .dataframe tbody tr th {\n",
       "        vertical-align: top;\n",
       "    }\n",
       "\n",
       "    .dataframe thead th {\n",
       "        text-align: right;\n",
       "    }\n",
       "</style>\n",
       "<table border=\"1\" class=\"dataframe\">\n",
       "  <thead>\n",
       "    <tr style=\"text-align: right;\">\n",
       "      <th></th>\n",
       "      <th>0</th>\n",
       "      <th>1</th>\n",
       "    </tr>\n",
       "  </thead>\n",
       "  <tbody>\n",
       "    <tr>\n",
       "      <th>0</th>\n",
       "      <td>Mary</td>\n",
       "      <td>F</td>\n",
       "    </tr>\n",
       "    <tr>\n",
       "      <th>1</th>\n",
       "      <td>Anna</td>\n",
       "      <td>F</td>\n",
       "    </tr>\n",
       "    <tr>\n",
       "      <th>2</th>\n",
       "      <td>Emma</td>\n",
       "      <td>F</td>\n",
       "    </tr>\n",
       "    <tr>\n",
       "      <th>3</th>\n",
       "      <td>Elizabeth</td>\n",
       "      <td>F</td>\n",
       "    </tr>\n",
       "    <tr>\n",
       "      <th>4</th>\n",
       "      <td>Minnie</td>\n",
       "      <td>F</td>\n",
       "    </tr>\n",
       "  </tbody>\n",
       "</table>\n",
       "</div>"
      ],
      "text/plain": [
       "           0  1\n",
       "0       Mary  F\n",
       "1       Anna  F\n",
       "2       Emma  F\n",
       "3  Elizabeth  F\n",
       "4     Minnie  F"
      ]
     },
     "execution_count": 56,
     "metadata": {},
     "output_type": "execute_result"
    }
   ],
   "source": [
    "# pandas\n",
    "pd.concat([col1_p,col2_p], axis=1).head()"
   ]
  },
  {
   "cell_type": "code",
   "execution_count": 57,
   "id": "9c8c16e9-5fbd-49cf-8308-78b7f03f94a4",
   "metadata": {},
   "outputs": [
    {
     "name": "stdout",
     "output_type": "stream",
     "text": [
      "Mary\tF\n",
      "Anna\tF\n",
      "Emma\tF\n",
      "Elizabeth\tF\n",
      "Minnie\tF\n"
     ]
    }
   ],
   "source": [
    "#UNIXコマンド\n",
    "!paste col1.txt col2.txt | head -n 5"
   ]
  },
  {
   "cell_type": "markdown",
   "id": "6a0a50bb-90c4-4948-ba68-99d5e65d7312",
   "metadata": {},
   "source": [
    "### 14. 先頭からN行を出力\n",
    "自然数Nをコマンドライン引数などの手段で受け取り，入力のうち先頭のN行だけを表示せよ．確認にはheadコマンドを用いよ．"
   ]
  },
  {
   "cell_type": "code",
   "execution_count": 60,
   "id": "bbc10973-8d86-4c82-82d8-2f962ef96a37",
   "metadata": {},
   "outputs": [
    {
     "data": {
      "text/html": [
       "<div>\n",
       "<style scoped>\n",
       "    .dataframe tbody tr th:only-of-type {\n",
       "        vertical-align: middle;\n",
       "    }\n",
       "\n",
       "    .dataframe tbody tr th {\n",
       "        vertical-align: top;\n",
       "    }\n",
       "\n",
       "    .dataframe thead th {\n",
       "        text-align: right;\n",
       "    }\n",
       "</style>\n",
       "<table border=\"1\" class=\"dataframe\">\n",
       "  <thead>\n",
       "    <tr style=\"text-align: right;\">\n",
       "      <th></th>\n",
       "      <th>0</th>\n",
       "      <th>1</th>\n",
       "      <th>2</th>\n",
       "      <th>3</th>\n",
       "    </tr>\n",
       "  </thead>\n",
       "  <tbody>\n",
       "    <tr>\n",
       "      <th>0</th>\n",
       "      <td>Mary</td>\n",
       "      <td>F</td>\n",
       "      <td>7065</td>\n",
       "      <td>1880</td>\n",
       "    </tr>\n",
       "    <tr>\n",
       "      <th>1</th>\n",
       "      <td>Anna</td>\n",
       "      <td>F</td>\n",
       "      <td>2604</td>\n",
       "      <td>1880</td>\n",
       "    </tr>\n",
       "    <tr>\n",
       "      <th>2</th>\n",
       "      <td>Emma</td>\n",
       "      <td>F</td>\n",
       "      <td>2003</td>\n",
       "      <td>1880</td>\n",
       "    </tr>\n",
       "  </tbody>\n",
       "</table>\n",
       "</div>"
      ],
      "text/plain": [
       "      0  1     2     3\n",
       "0  Mary  F  7065  1880\n",
       "1  Anna  F  2604  1880\n",
       "2  Emma  F  2003  1880"
      ]
     },
     "execution_count": 60,
     "metadata": {},
     "output_type": "execute_result"
    }
   ],
   "source": [
    "# pandas\n",
    "N = 3\n",
    "df.head(N)"
   ]
  },
  {
   "cell_type": "code",
   "execution_count": 61,
   "id": "ec99d465-66d9-4b7c-b3e2-5ec225acf6de",
   "metadata": {},
   "outputs": [
    {
     "name": "stdout",
     "output_type": "stream",
     "text": [
      "Mary\tF\t7065\t1880\n",
      "Anna\tF\t2604\t1880\n",
      "Emma\tF\t2003\t1880\n",
      "Elizabeth\tF\t1939\t1880\n",
      "Minnie\tF\t1746\t1880\n"
     ]
    }
   ],
   "source": [
    "# UNIXコマンド\n",
    "!head -n 5 popular-names.txt"
   ]
  },
  {
   "cell_type": "markdown",
   "id": "2282e25b-434a-4ee9-be9d-aa8da7f042c0",
   "metadata": {},
   "source": [
    "### 15. 末尾のN行を出力\n",
    "自然数Nをコマンドライン引数などの手段で受け取り，入力のうち末尾のN行だけを表示せよ．確認にはtailコマンドを用いよ．"
   ]
  },
  {
   "cell_type": "code",
   "execution_count": 63,
   "id": "8e310506-968a-47ab-87a5-30afbde9c9da",
   "metadata": {},
   "outputs": [
    {
     "data": {
      "text/html": [
       "<div>\n",
       "<style scoped>\n",
       "    .dataframe tbody tr th:only-of-type {\n",
       "        vertical-align: middle;\n",
       "    }\n",
       "\n",
       "    .dataframe tbody tr th {\n",
       "        vertical-align: top;\n",
       "    }\n",
       "\n",
       "    .dataframe thead th {\n",
       "        text-align: right;\n",
       "    }\n",
       "</style>\n",
       "<table border=\"1\" class=\"dataframe\">\n",
       "  <thead>\n",
       "    <tr style=\"text-align: right;\">\n",
       "      <th></th>\n",
       "      <th>0</th>\n",
       "      <th>1</th>\n",
       "      <th>2</th>\n",
       "      <th>3</th>\n",
       "    </tr>\n",
       "  </thead>\n",
       "  <tbody>\n",
       "    <tr>\n",
       "      <th>2777</th>\n",
       "      <td>Lucas</td>\n",
       "      <td>M</td>\n",
       "      <td>12585</td>\n",
       "      <td>2018</td>\n",
       "    </tr>\n",
       "    <tr>\n",
       "      <th>2778</th>\n",
       "      <td>Mason</td>\n",
       "      <td>M</td>\n",
       "      <td>12435</td>\n",
       "      <td>2018</td>\n",
       "    </tr>\n",
       "    <tr>\n",
       "      <th>2779</th>\n",
       "      <td>Logan</td>\n",
       "      <td>M</td>\n",
       "      <td>12352</td>\n",
       "      <td>2018</td>\n",
       "    </tr>\n",
       "  </tbody>\n",
       "</table>\n",
       "</div>"
      ],
      "text/plain": [
       "          0  1      2     3\n",
       "2777  Lucas  M  12585  2018\n",
       "2778  Mason  M  12435  2018\n",
       "2779  Logan  M  12352  2018"
      ]
     },
     "execution_count": 63,
     "metadata": {},
     "output_type": "execute_result"
    }
   ],
   "source": [
    "# pandas\n",
    "N = 3\n",
    "df.tail(N)"
   ]
  },
  {
   "cell_type": "code",
   "execution_count": 64,
   "id": "b201c4b4-6434-499b-8ef6-e41f3f896450",
   "metadata": {},
   "outputs": [
    {
     "name": "stdout",
     "output_type": "stream",
     "text": [
      "Lucas\tM\t12585\t2018\n",
      "Mason\tM\t12435\t2018\n",
      "Logan\tM\t12352\t2018\n"
     ]
    }
   ],
   "source": [
    "# UNIXコマンド\n",
    "!tail -n 3 popular-names.txt"
   ]
  },
  {
   "cell_type": "markdown",
   "id": "a59373b8-04c8-435c-a03c-2ed3aa1be8b5",
   "metadata": {},
   "source": [
    "### 16. ファイルをN分割する\n",
    "自然数Nをコマンドライン引数などの手段で受け取り，入力のファイルを行単位でN分割せよ．同様の処理をsplitコマンドで実現せよ．"
   ]
  },
  {
   "cell_type": "code",
   "execution_count": 126,
   "id": "1d8c66d0-e749-41c0-99b3-fc1a20e75545",
   "metadata": {},
   "outputs": [
    {
     "data": {
      "text/html": [
       "<div>\n",
       "<style scoped>\n",
       "    .dataframe tbody tr th:only-of-type {\n",
       "        vertical-align: middle;\n",
       "    }\n",
       "\n",
       "    .dataframe tbody tr th {\n",
       "        vertical-align: top;\n",
       "    }\n",
       "\n",
       "    .dataframe thead th {\n",
       "        text-align: right;\n",
       "    }\n",
       "</style>\n",
       "<table border=\"1\" class=\"dataframe\">\n",
       "  <thead>\n",
       "    <tr style=\"text-align: right;\">\n",
       "      <th></th>\n",
       "      <th>0</th>\n",
       "      <th>1</th>\n",
       "      <th>2</th>\n",
       "      <th>3</th>\n",
       "    </tr>\n",
       "  </thead>\n",
       "  <tbody>\n",
       "    <tr>\n",
       "      <th>1668</th>\n",
       "      <td>Sandra</td>\n",
       "      <td>F</td>\n",
       "      <td>21619</td>\n",
       "      <td>1963</td>\n",
       "    </tr>\n",
       "    <tr>\n",
       "      <th>1669</th>\n",
       "      <td>Cynthia</td>\n",
       "      <td>F</td>\n",
       "      <td>21593</td>\n",
       "      <td>1963</td>\n",
       "    </tr>\n",
       "    <tr>\n",
       "      <th>1670</th>\n",
       "      <td>Michael</td>\n",
       "      <td>M</td>\n",
       "      <td>83782</td>\n",
       "      <td>1963</td>\n",
       "    </tr>\n",
       "    <tr>\n",
       "      <th>1671</th>\n",
       "      <td>John</td>\n",
       "      <td>M</td>\n",
       "      <td>78625</td>\n",
       "      <td>1963</td>\n",
       "    </tr>\n",
       "    <tr>\n",
       "      <th>1672</th>\n",
       "      <td>David</td>\n",
       "      <td>M</td>\n",
       "      <td>78467</td>\n",
       "      <td>1963</td>\n",
       "    </tr>\n",
       "    <tr>\n",
       "      <th>...</th>\n",
       "      <td>...</td>\n",
       "      <td>...</td>\n",
       "      <td>...</td>\n",
       "      <td>...</td>\n",
       "    </tr>\n",
       "    <tr>\n",
       "      <th>1941</th>\n",
       "      <td>Melissa</td>\n",
       "      <td>F</td>\n",
       "      <td>26886</td>\n",
       "      <td>1977</td>\n",
       "    </tr>\n",
       "    <tr>\n",
       "      <th>1942</th>\n",
       "      <td>Amy</td>\n",
       "      <td>F</td>\n",
       "      <td>26732</td>\n",
       "      <td>1977</td>\n",
       "    </tr>\n",
       "    <tr>\n",
       "      <th>1943</th>\n",
       "      <td>Jessica</td>\n",
       "      <td>F</td>\n",
       "      <td>24843</td>\n",
       "      <td>1977</td>\n",
       "    </tr>\n",
       "    <tr>\n",
       "      <th>1944</th>\n",
       "      <td>Heather</td>\n",
       "      <td>F</td>\n",
       "      <td>23777</td>\n",
       "      <td>1977</td>\n",
       "    </tr>\n",
       "    <tr>\n",
       "      <th>1945</th>\n",
       "      <td>Angela</td>\n",
       "      <td>F</td>\n",
       "      <td>20996</td>\n",
       "      <td>1977</td>\n",
       "    </tr>\n",
       "  </tbody>\n",
       "</table>\n",
       "<p>278 rows × 4 columns</p>\n",
       "</div>"
      ],
      "text/plain": [
       "            0  1      2     3\n",
       "1668   Sandra  F  21619  1963\n",
       "1669  Cynthia  F  21593  1963\n",
       "1670  Michael  M  83782  1963\n",
       "1671     John  M  78625  1963\n",
       "1672    David  M  78467  1963\n",
       "...       ... ..    ...   ...\n",
       "1941  Melissa  F  26886  1977\n",
       "1942      Amy  F  26732  1977\n",
       "1943  Jessica  F  24843  1977\n",
       "1944  Heather  F  23777  1977\n",
       "1945   Angela  F  20996  1977\n",
       "\n",
       "[278 rows x 4 columns]"
      ]
     },
     "execution_count": 126,
     "metadata": {},
     "output_type": "execute_result"
    }
   ],
   "source": [
    "# Pandas\n",
    "import numpy as np\n",
    "\n",
    "# 指定した整数でファイルを分割する関数\n",
    "def spl(x, N):\n",
    "    df_list = []\n",
    "    # カットする幅を計算。\n",
    "    a = np.round(len(df)/N).astype(int)\n",
    "    # 指定幅でファイルをカットしてリストに格納。\n",
    "    for i in range(N):\n",
    "        if i == 0:\n",
    "            df_list.append(df[:a])\n",
    "        else:\n",
    "            df_list.append(df[a*i:(a*(i+1))])\n",
    "    \n",
    "    # 端数を最後のファイルに追加する。\n",
    "    b = len(df_list[0] + df_list[1] + df_list[2]) - len(df)\n",
    "    if b != 0:\n",
    "        df_list[-1] = df_list[-1] + df[-b:]\n",
    "    return df_list\n",
    "\n",
    "\n",
    "N = 10\n",
    "cut_df = spl(df, N)\n",
    "cut_df[6]"
   ]
  },
  {
   "cell_type": "code",
   "execution_count": 102,
   "id": "1cff37be-2ae1-43d8-998e-d272a0cda224",
   "metadata": {},
   "outputs": [
    {
     "data": {
      "text/plain": [
       "700.0"
      ]
     },
     "execution_count": 102,
     "metadata": {},
     "output_type": "execute_result"
    }
   ],
   "source": [
    "2800/4"
   ]
  },
  {
   "cell_type": "code",
   "execution_count": null,
   "id": "3813409a-5037-4468-b6e2-d0167966ce38",
   "metadata": {},
   "outputs": [],
   "source": []
  }
 ],
 "metadata": {
  "kernelspec": {
   "display_name": "Python 3",
   "language": "python",
   "name": "python3"
  },
  "language_info": {
   "codemirror_mode": {
    "name": "ipython",
    "version": 3
   },
   "file_extension": ".py",
   "mimetype": "text/x-python",
   "name": "python",
   "nbconvert_exporter": "python",
   "pygments_lexer": "ipython3",
   "version": "3.9.4"
  },
  "widgets": {
   "application/vnd.jupyter.widget-state+json": {
    "state": {},
    "version_major": 2,
    "version_minor": 0
   }
  }
 },
 "nbformat": 4,
 "nbformat_minor": 5
}
