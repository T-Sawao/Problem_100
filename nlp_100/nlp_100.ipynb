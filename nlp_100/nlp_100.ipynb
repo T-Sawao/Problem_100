{
 "cells": [
  {
   "cell_type": "markdown",
   "id": "intended-affairs",
   "metadata": {},
   "source": [
    "# 【言語処理100本ノック 2020】第1章: 準備運動"
   ]
  },
  {
   "cell_type": "markdown",
   "id": "billion-offense",
   "metadata": {},
   "source": [
    "### 00. 文字列の逆順\n",
    "文字列”stressed”の文字を逆に（末尾から先頭に向かって）並べた文字列を得よ．"
   ]
  },
  {
   "cell_type": "code",
   "execution_count": 7,
   "id": "arranged-bicycle",
   "metadata": {},
   "outputs": [
    {
     "data": {
      "text/plain": [
       "'desserts'"
      ]
     },
     "execution_count": 7,
     "metadata": {},
     "output_type": "execute_result"
    }
   ],
   "source": [
    "a = \"stressed\"\n",
    "a[::-1]"
   ]
  },
  {
   "cell_type": "markdown",
   "id": "exciting-halloween",
   "metadata": {},
   "source": [
    "### 01. 「パタトクカシーー」\n",
    "「パタトクカシーー」という文字列の1,3,5,7文字目を取り出して連結した文字列を得よ．"
   ]
  },
  {
   "cell_type": "code",
   "execution_count": 9,
   "id": "fleet-spoke",
   "metadata": {},
   "outputs": [
    {
     "data": {
      "text/plain": [
       "'パトカー'"
      ]
     },
     "execution_count": 9,
     "metadata": {},
     "output_type": "execute_result"
    }
   ],
   "source": [
    "q = \"パタトクカシーー\"\n",
    "q[::2]"
   ]
  },
  {
   "cell_type": "markdown",
   "id": "accepting-hartford",
   "metadata": {},
   "source": [
    "### 02. 「パトカー」＋「タクシー」＝「パタトクカシーー」\n",
    "「パトカー」＋「タクシー」の文字を先頭から交互に連結して文字列「パタトクカシーー」を得よ．"
   ]
  },
  {
   "cell_type": "code",
   "execution_count": 10,
   "id": "emotional-playback",
   "metadata": {},
   "outputs": [
    {
     "name": "stdout",
     "output_type": "stream",
     "text": [
      "パタトクカシーー\n"
     ]
    }
   ],
   "source": [
    "a = \"パトカー\"\n",
    "b = \"タクシー\"\n",
    "\n",
    "print(\"\".join([word1 + word2 for word1, word2 in zip(a, b)]))"
   ]
  },
  {
   "cell_type": "markdown",
   "id": "clinical-madness",
   "metadata": {},
   "source": [
    "### 03. 円周率\n",
    "“Now I need a drink, alcoholic of course, after the heavy lectures involving quantum mechanics.”という文を単語に分解し，各単語の（アルファベットの）文字数を先頭から出現順に並べたリストを作成せよ．"
   ]
  },
  {
   "cell_type": "code",
   "execution_count": 12,
   "id": "yellow-detector",
   "metadata": {},
   "outputs": [
    {
     "data": {
      "text/plain": [
       "[3, 1, 4, 1, 5, 9, 2, 6, 5, 3, 5, 8, 9, 7, 9]"
      ]
     },
     "execution_count": 12,
     "metadata": {},
     "output_type": "execute_result"
    }
   ],
   "source": [
    "import re\n",
    "\n",
    "a = \"Now I need a drink, alcoholic of course, after the heavy lectures involving quantum mechanics.\"\n",
    "a = re.sub(\"[,\\.]\", \"\", a)\n",
    "splits = a.split()\n",
    "\n",
    "[len(i) for i in splits]"
   ]
  },
  {
   "cell_type": "markdown",
   "id": "protecting-anger",
   "metadata": {},
   "source": [
    "### 04. 元素記号\n",
    "“Hi He Lied Because Boron Could Not Oxidize Fluorine. New Nations Might Also Sign Peace Security Clause. Arthur King Can.”という文を単語に分解し，1, 5, 6, 7, 8, 9, 15, 16, 19番目の単語は先頭の1文字，それ以外の単語は先頭に2文字を取り出し，取り出した文字列から単語の位置（先頭から何番目の単語か）への連想配列（辞書型もしくはマップ型）を作成せよ．"
   ]
  },
  {
   "cell_type": "code",
   "execution_count": 33,
   "id": "following-portland",
   "metadata": {},
   "outputs": [
    {
     "data": {
      "text/plain": [
       "[0, 2, 3, 4, 10, 11, 12, 13, 14, 17, 18]"
      ]
     },
     "execution_count": 33,
     "metadata": {},
     "output_type": "execute_result"
    }
   ],
   "source": [
    "import re\n",
    "import numpy as np\n",
    "\n",
    "str = \"Hi He Lied Because Boron Could Not Oxidize Fluorine. New Nations Might Also Sign Peace Security Clause. Arthur King Can.\"\n",
    "str = re.sub(\"[,\\.]\", \"\", str)\n",
    "\n",
    "splits = str.split()\n",
    "\n",
    "# 文字を抜き出す単語のリスト\n",
    "word0 = np.arange(0, len(splits))\n",
    "word1 = [1, 5, 6, 7, 8, 9, 15, 16, 19]\n",
    "word2 = list(set(word0) - set(word1))\n",
    "\n"
   ]
  },
  {
   "cell_type": "code",
   "execution_count": 28,
   "id": "chinese-receiver",
   "metadata": {},
   "outputs": [
    {
     "name": "stdout",
     "output_type": "stream",
     "text": [
      "[11 13 15 17 19]\n"
     ]
    }
   ],
   "source": [
    "import numpy as np\n",
    "\n",
    "data = np.arange(10, 20)\n",
    "# [10 11 12 13 14 15 16 17 18 19]\n",
    "\n",
    "# 偶数の要素のインデックスを取得\n",
    "# (array([1, 3, 5, 7, 9], dtype=int64),)\n",
    "index = np.where(data%2 == 1)\n",
    "\n",
    "# インデックスを指定して要素を取得\n",
    "# [11 13 15 17 19]\n",
    "print(data[index])"
   ]
  },
  {
   "cell_type": "code",
   "execution_count": null,
   "id": "fossil-minimum",
   "metadata": {},
   "outputs": [],
   "source": []
  }
 ],
 "metadata": {
  "kernelspec": {
   "display_name": "Python 3",
   "language": "python",
   "name": "python3"
  },
  "language_info": {
   "codemirror_mode": {
    "name": "ipython",
    "version": 3
   },
   "file_extension": ".py",
   "mimetype": "text/x-python",
   "name": "python",
   "nbconvert_exporter": "python",
   "pygments_lexer": "ipython3",
   "version": "3.9.2"
  }
 },
 "nbformat": 4,
 "nbformat_minor": 5
}
