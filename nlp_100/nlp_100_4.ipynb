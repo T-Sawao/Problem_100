{
 "cells": [
  {
   "cell_type": "markdown",
   "id": "1e4b390e-a533-41ba-b30d-46dc6c1e285a",
   "metadata": {},
   "source": [
    "# 【言語処理100本ノック 2020】第4章: 形態素解析"
   ]
  },
  {
   "cell_type": "markdown",
   "id": "5ebca628-1678-4096-9811-e40c796fda25",
   "metadata": {},
   "source": [
    "## 第4章: 形態素解析\n",
    "夏目漱石の小説『吾輩は猫である』の文章（neko.txt）をMeCabを使って形態素解析し，その結果をneko.txt.mecabというファイルに保存せよ．このファイルを用いて，以下の問に対応するプログラムを実装せよ．"
   ]
  },
  {
   "cell_type": "markdown",
   "id": "6592a76a-8d26-4d44-b517-d3c0eea32705",
   "metadata": {},
   "source": [
    "### テキスト文章のダウンロード"
   ]
  },
  {
   "cell_type": "code",
   "execution_count": 1,
   "id": "bacb841d-7adb-4a7a-9a3a-94159bb914d9",
   "metadata": {},
   "outputs": [],
   "source": [
    "# オプション-Oで、上書き保存する様に指定。\n",
    "# !wget https://nlp100.github.io/data/neko.txt -O neko.txt　"
   ]
  },
  {
   "cell_type": "markdown",
   "id": "552cdb82-001a-4687-ba76-751da8e54778",
   "metadata": {},
   "source": [
    "### MeCabに辞書（neologd）を設定"
   ]
  },
  {
   "cell_type": "code",
   "execution_count": 2,
   "id": "a09c8bd0-1193-4385-a623-353f9011d942",
   "metadata": {},
   "outputs": [],
   "source": [
    "# mecabのインポート\n",
    "import MeCab"
   ]
  },
  {
   "cell_type": "code",
   "execution_count": 3,
   "id": "79c2de00-f82a-4571-8f06-9f4f465afea6",
   "metadata": {},
   "outputs": [
    {
     "name": "stdout",
     "output_type": "stream",
     "text": [
      "名\t接頭詞,名詞接続,*,*,*,*,名,メイ,メイ\n",
      "探偵\t名詞,サ変接続,*,*,*,*,探偵,タンテイ,タンテイ\n",
      "コナン\t名詞,固有名詞,人名,名,*,*,コナン,コナン,コナン\n",
      "、\t記号,読点,*,*,*,*,、,、,、\n",
      "鬼\t名詞,一般,*,*,*,*,鬼,オニ,オニ\n",
      "滅\t名詞,一般,*,*,*,*,滅,メツ,メツ\n",
      "の\t助詞,連体化,*,*,*,*,の,ノ,ノ\n",
      "刃\t名詞,一般,*,*,*,*,刃,ハ,ハ\n",
      "、\t記号,読点,*,*,*,*,、,、,、\n",
      "ラーメン\t名詞,一般,*,*,*,*,ラーメン,ラーメン,ラーメン\n",
      "大好き\t名詞,形容動詞語幹,*,*,*,*,大好き,ダイスキ,ダイスキ\n",
      "EOS\n",
      "\n"
     ]
    }
   ],
   "source": [
    "# mecabの動作確認\n",
    "tagger = MeCab.Tagger()\n",
    "print(tagger.parse(\"名探偵コナン、鬼滅の刃、ラーメン大好き\"))"
   ]
  },
  {
   "cell_type": "code",
   "execution_count": 4,
   "id": "ed0888c9-4770-4d87-b57f-c33a87c541c9",
   "metadata": {},
   "outputs": [
    {
     "name": "stdout",
     "output_type": "stream",
     "text": [
      "filename:\t/var/lib/mecab/dic/debian/sys.dic\n",
      "version:\t102\n",
      "charset:\tUTF-8\n",
      "type:\t0\n",
      "size:\t392127\n",
      "left size:\t1316\n",
      "right size:\t1316\n",
      "\n"
     ]
    }
   ],
   "source": [
    "# 設定辞書の確認\n",
    "!mecab -D"
   ]
  },
  {
   "cell_type": "code",
   "execution_count": 5,
   "id": "28b859ab-9f00-4682-80da-5f62cfb86f4a",
   "metadata": {},
   "outputs": [
    {
     "name": "stdout",
     "output_type": "stream",
     "text": [
      "/usr/lib/aarch64-linux-gnu/mecab/dic\n"
     ]
    }
   ],
   "source": [
    "# 辞書のインストール先を確認する\n",
    "!mecab-config --dicdir"
   ]
  },
  {
   "cell_type": "code",
   "execution_count": 6,
   "id": "315d5bfa-871b-4829-a469-e794c20f1f69",
   "metadata": {},
   "outputs": [
    {
     "name": "stdout",
     "output_type": "stream",
     "text": [
      "mecab-ipadic-neologd\n"
     ]
    }
   ],
   "source": [
    "# インストール先から辞書名を確認する\n",
    "!ls /usr/lib/aarch64-linux-gnu/mecab/dic"
   ]
  },
  {
   "cell_type": "code",
   "execution_count": 7,
   "id": "02cb61af-0c8b-421f-bc0e-2b31145802db",
   "metadata": {},
   "outputs": [
    {
     "name": "stdout",
     "output_type": "stream",
     "text": [
      "名探偵コナン\t名詞,固有名詞,一般,*,*,*,名探偵コナン,メイタンテイコナン,メイタンテイコナン\n",
      "、\t記号,読点,*,*,*,*,、,、,、\n",
      "鬼滅の刃\t名詞,固有名詞,一般,*,*,*,鬼滅の刃,キメツノヤイバ,キメツノヤイバ\n",
      "、\t記号,読点,*,*,*,*,、,、,、\n",
      "ラーメン\t名詞,一般,*,*,*,*,ラーメン,ラーメン,ラーメン\n",
      "大好き\t名詞,形容動詞語幹,*,*,*,*,大好き,ダイスキ,ダイスキ\n",
      "EOS\n",
      "\n"
     ]
    }
   ],
   "source": [
    "# mecabに辞書を指定する\n",
    "tagger = MeCab.Tagger(\n",
    "    '-d /usr/lib/aarch64-linux-gnu/mecab/dic/mecab-ipadic-neologd')\n",
    "\n",
    "print(tagger.parse(\"名探偵コナン、鬼滅の刃、ラーメン大好き\"))"
   ]
  },
  {
   "cell_type": "markdown",
   "id": "bea72887-c248-4fdb-8c01-03fa3b61edf7",
   "metadata": {},
   "source": [
    "## UNIXコマンドでの形態素解析"
   ]
  },
  {
   "cell_type": "code",
   "execution_count": 8,
   "id": "e6d4d64f-70f9-4438-a237-4daa734f2e94",
   "metadata": {},
   "outputs": [],
   "source": [
    "# -oでファイル名を指定して保存。\n",
    "!mecab -o ./neko.mecab ./neko.txt"
   ]
  },
  {
   "cell_type": "code",
   "execution_count": 9,
   "id": "07e315a9-7224-4804-903f-5d918dd3dda7",
   "metadata": {},
   "outputs": [
    {
     "name": "stdout",
     "output_type": "stream",
     "text": [
      "226266 ./neko.mecab\n"
     ]
    }
   ],
   "source": [
    "# 行数の確認\n",
    "!wc -l ./neko.mecab"
   ]
  },
  {
   "cell_type": "code",
   "execution_count": 10,
   "id": "f3adde31-f54a-4f0f-8ac7-d0c4414b465b",
   "metadata": {},
   "outputs": [
    {
     "name": "stdout",
     "output_type": "stream",
     "text": [
      "一\t名詞,数,*,*,*,*,一,イチ,イチ\n",
      "\t記号,一般,*,*,*,*,*\n",
      "EOS\n",
      "\t記号,一般,*,*,*,*,*\n",
      "EOS\n",
      "　\t記号,空白,*,*,*,*,　,　,　\n",
      "吾輩\t名詞,代名詞,一般,*,*,*,吾輩,ワガハイ,ワガハイ\n",
      "は\t助詞,係助詞,*,*,*,*,は,ハ,ワ\n",
      "猫\t名詞,一般,*,*,*,*,猫,ネコ,ネコ\n",
      "で\t助動詞,*,*,*,特殊・ダ,連用形,だ,デ,デ\n",
      "ある\t助動詞,*,*,*,五段・ラ行アル,基本形,ある,アル,アル\n",
      "。\t記号,句点,*,*,*,*,。,。,。\n",
      "\t記号,一般,*,*,*,*,*\n",
      "EOS\n",
      "名前\t名詞,一般,*,*,*,*,名前,ナマエ,ナマエ\n"
     ]
    }
   ],
   "source": [
    "# 先頭15行の確認\n",
    "!head -15 ./neko.mecab"
   ]
  },
  {
   "cell_type": "code",
   "execution_count": 11,
   "id": "6c40939b-5f20-4cf7-bbc7-5950e1977fb2",
   "metadata": {},
   "outputs": [],
   "source": [
    "# -dで辞書を指定\n",
    "!mecab -d '/usr/lib/aarch64-linux-gnu/mecab/dic/mecab-ipadic-neologd' -o ./neko.mecab ./neko.txt"
   ]
  },
  {
   "cell_type": "code",
   "execution_count": 12,
   "id": "7aee7814-536c-4440-bf9c-28c651dd9805",
   "metadata": {},
   "outputs": [
    {
     "name": "stdout",
     "output_type": "stream",
     "text": [
      "一\t名詞,数,*,*,*,*,一,イチ,イチ\n",
      "\t記号,一般,*,*,*,*,*\n",
      "EOS\n",
      "\t記号,一般,*,*,*,*,*\n",
      "EOS\n",
      "　\t記号,空白,*,*,*,*,　,　,　\n",
      "吾輩は猫である\t名詞,固有名詞,一般,*,*,*,吾輩は猫である,ワガハイハネコデアル,ワガハイワネコデアル\n",
      "。\t記号,句点,*,*,*,*,。,。,。\n",
      "\t記号,一般,*,*,*,*,*\n",
      "EOS\n",
      "名前\t名詞,一般,*,*,*,*,名前,ナマエ,ナマエ\n",
      "は\t助詞,係助詞,*,*,*,*,は,ハ,ワ\n",
      "まだ\t副詞,助詞類接続,*,*,*,*,まだ,マダ,マダ\n",
      "無い\t形容詞,自立,*,*,形容詞・アウオ段,基本形,無い,ナイ,ナイ\n",
      "。\t記号,句点,*,*,*,*,。,。,。\n"
     ]
    }
   ],
   "source": [
    "# 先頭15行の確認\n",
    "!head -15 ./neko.mecab"
   ]
  },
  {
   "cell_type": "code",
   "execution_count": 13,
   "id": "2f08e48a-5f42-47aa-88a3-8ea2185d0913",
   "metadata": {},
   "outputs": [],
   "source": [
    "# jupterデフォルト設定を出力する\n",
    "# !jupyter notebook --generate-config -y"
   ]
  },
  {
   "cell_type": "markdown",
   "id": "1ead5210-4c5c-4b22-b254-1fa58df35650",
   "metadata": {},
   "source": [
    "### 30. 形態素解析結果の読み込み\n",
    "形態素解析結果（neko.txt.mecab）を読み込むプログラムを実装せよ．ただし，各形態素は表層形（surface），基本形（base），品詞（pos），品詞細分類1（pos1）をキーとするマッピング型に格納し，1文を形態素（マッピング型）のリストとして表現せよ．第4章の残りの問題では，ここで作ったプログラムを活用せよ．"
   ]
  },
  {
   "cell_type": "code",
   "execution_count": 18,
   "id": "53fa2401-b662-4676-91f1-55729934f59e",
   "metadata": {},
   "outputs": [
    {
     "name": "stdout",
     "output_type": "stream",
     "text": [
      "私はじっとしている事が出来ない。探検し、実験していないとダメなのだ。私は自分の仕事に満足したことがない。私は自分の想像力の限界に憤慨する。\n"
     ]
    }
   ],
   "source": [
    "# 練習用テキストの作成\n",
    "filename = \"new_file\"\n",
    "text = \"私はじっとしている事が出来ない。探検し、実験していないとダメなのだ。私は自分の仕事に満足したことがない。私は自分の想像力の限界に憤慨する。\"\n",
    "with open(filename, mode='w') as f:\n",
    "    f.write(text)\n",
    "\n",
    "# 読み込み\n",
    "with open(filename) as f:\n",
    "    content = f.read()\n",
    "print(content)"
   ]
  },
  {
   "cell_type": "markdown",
   "id": "776f44e8-8aa7-4ddc-89dd-bc91ce81aef3",
   "metadata": {},
   "source": [
    "#### 読み込みの種類\n",
    "- read: 文字列\n",
    "- readlines: リスト "
   ]
  },
  {
   "cell_type": "code",
   "execution_count": 19,
   "id": "8f66c669-da90-4e7d-ac8f-840c7c43f846",
   "metadata": {
    "tags": []
   },
   "outputs": [],
   "source": [
    "# 形態素解析を行う。\n",
    "def parse(text, filename):\n",
    "    '''\n",
    "    文字列に形態素解析を行い、テキスト形式で保存する。\n",
    "    paramerater\n",
    "    ----------------------------\n",
    "    text: 文字列の変数\n",
    "    filename: 保存するテキストの名前\n",
    "    \n",
    "    output\n",
    "    ----------------------------\n",
    "    出力なし（形態素解析結果をテキストで保存)\n",
    "    '''\n",
    "    \n",
    "    tagger = MeCab.Tagger('-d /usr/lib/aarch64-linux-gnu/mecab/dic/mecab-ipadic-neologd')\n",
    "    parse = tagger.parse(text)\n",
    "    \n",
    "    with open(filename, mode='w') as f:\n",
    "        f.write(parse)"
   ]
  },
  {
   "cell_type": "code",
   "execution_count": 37,
   "id": "f142bbad-8377-44ad-b155-b99315f56a09",
   "metadata": {},
   "outputs": [],
   "source": [
    "def parse_to_line(parse): \n",
    "    '''\n",
    "    形態素解析した結果をリスト化する関数。\n",
    "    \n",
    "    paramerate\n",
    "    ----------------------------------------------\n",
    "    parse: 形態素解析した結果\n",
    "    \n",
    "    ・表層形（surface）\n",
    "    ・基本形（base）\n",
    "    ・品詞（pos）\n",
    "    ・品詞細分類1（pos1）\n",
    "    の4つをキーとする辞書に格納し1文ずつ、この辞書のリストとして返す。\n",
    "    \n",
    "    output\n",
    "    ----------------------------------------------\n",
    "    1文の各形態素を辞書化したリスト\n",
    "    '''\n",
    "    \n",
    "    sentences = []\n",
    "    morphs = []\n",
    "    with open(parse[:250], mode=\"r\") as f:\n",
    "        for line in f:\n",
    "            # 文末以外：形態素解析情報を形態素リストに追加\n",
    "            if line != 'EOS\\n':\n",
    "                fields = line.split('\\t')\n",
    "                # 文頭以外の空白と改行文字はスキップ\n",
    "                if len(fields) != 2 or fields[0] == \" \":\n",
    "                    continue\n",
    "                else:\n",
    "#                     print(\"☆☆\", fields)\n",
    "#                     print(\"★★\", fields[1])\n",
    "                    attr =  fields[1].split(',')\n",
    "                    morph = {\n",
    "                        'surface(表層形)': fields[0],\n",
    "                        'base(基本形)': attr[6],\n",
    "                        'pos(品詞)': attr[0],\n",
    "                        'pos1(品詞際分類1)': attr[1]\n",
    "                    }\n",
    "                    morphs.append(morph)\n",
    "            # 文末：形態素リストを文リストに追加\n",
    "            else:\n",
    "                sentences.append(morphs)\n",
    "                morphs = []\n",
    "    return sentences"
   ]
  },
  {
   "cell_type": "code",
   "execution_count": 38,
   "id": "154b7ada-bb71-47c4-ae24-774a3f152927",
   "metadata": {
    "collapsed": true,
    "jupyter": {
     "outputs_hidden": true
    },
    "tags": []
   },
   "outputs": [
    {
     "data": {
      "text/plain": [
       "[[{'surface(表層形)': '私',\n",
       "   'base(基本形)': '私',\n",
       "   'pos(品詞)': '名詞',\n",
       "   'pos1(品詞際分類1)': '代名詞'},\n",
       "  {'surface(表層形)': 'は',\n",
       "   'base(基本形)': 'は',\n",
       "   'pos(品詞)': '助詞',\n",
       "   'pos1(品詞際分類1)': '係助詞'},\n",
       "  {'surface(表層形)': 'じっと',\n",
       "   'base(基本形)': 'じっと',\n",
       "   'pos(品詞)': '副詞',\n",
       "   'pos1(品詞際分類1)': '一般'},\n",
       "  {'surface(表層形)': 'し',\n",
       "   'base(基本形)': 'する',\n",
       "   'pos(品詞)': '動詞',\n",
       "   'pos1(品詞際分類1)': '自立'},\n",
       "  {'surface(表層形)': 'て',\n",
       "   'base(基本形)': 'て',\n",
       "   'pos(品詞)': '助詞',\n",
       "   'pos1(品詞際分類1)': '接続助詞'},\n",
       "  {'surface(表層形)': 'いる',\n",
       "   'base(基本形)': 'いる',\n",
       "   'pos(品詞)': '動詞',\n",
       "   'pos1(品詞際分類1)': '非自立'},\n",
       "  {'surface(表層形)': '事',\n",
       "   'base(基本形)': '事',\n",
       "   'pos(品詞)': '名詞',\n",
       "   'pos1(品詞際分類1)': '非自立'},\n",
       "  {'surface(表層形)': 'が',\n",
       "   'base(基本形)': 'が',\n",
       "   'pos(品詞)': '助詞',\n",
       "   'pos1(品詞際分類1)': '格助詞'},\n",
       "  {'surface(表層形)': '出来',\n",
       "   'base(基本形)': '出来る',\n",
       "   'pos(品詞)': '動詞',\n",
       "   'pos1(品詞際分類1)': '自立'},\n",
       "  {'surface(表層形)': 'ない',\n",
       "   'base(基本形)': 'ない',\n",
       "   'pos(品詞)': '助動詞',\n",
       "   'pos1(品詞際分類1)': '*'},\n",
       "  {'surface(表層形)': '。',\n",
       "   'base(基本形)': '。',\n",
       "   'pos(品詞)': '記号',\n",
       "   'pos1(品詞際分類1)': '句点'},\n",
       "  {'surface(表層形)': '探検',\n",
       "   'base(基本形)': '探検',\n",
       "   'pos(品詞)': '名詞',\n",
       "   'pos1(品詞際分類1)': 'サ変接続'},\n",
       "  {'surface(表層形)': 'し',\n",
       "   'base(基本形)': 'する',\n",
       "   'pos(品詞)': '動詞',\n",
       "   'pos1(品詞際分類1)': '自立'},\n",
       "  {'surface(表層形)': '、',\n",
       "   'base(基本形)': '、',\n",
       "   'pos(品詞)': '記号',\n",
       "   'pos1(品詞際分類1)': '読点'},\n",
       "  {'surface(表層形)': '実験',\n",
       "   'base(基本形)': '実験',\n",
       "   'pos(品詞)': '名詞',\n",
       "   'pos1(品詞際分類1)': 'サ変接続'},\n",
       "  {'surface(表層形)': 'し',\n",
       "   'base(基本形)': 'する',\n",
       "   'pos(品詞)': '動詞',\n",
       "   'pos1(品詞際分類1)': '自立'},\n",
       "  {'surface(表層形)': 'て',\n",
       "   'base(基本形)': 'て',\n",
       "   'pos(品詞)': '助詞',\n",
       "   'pos1(品詞際分類1)': '接続助詞'},\n",
       "  {'surface(表層形)': 'い',\n",
       "   'base(基本形)': 'いる',\n",
       "   'pos(品詞)': '動詞',\n",
       "   'pos1(品詞際分類1)': '非自立'},\n",
       "  {'surface(表層形)': 'ない',\n",
       "   'base(基本形)': 'ない',\n",
       "   'pos(品詞)': '助動詞',\n",
       "   'pos1(品詞際分類1)': '*'},\n",
       "  {'surface(表層形)': 'と',\n",
       "   'base(基本形)': 'と',\n",
       "   'pos(品詞)': '助詞',\n",
       "   'pos1(品詞際分類1)': '接続助詞'},\n",
       "  {'surface(表層形)': 'ダメ',\n",
       "   'base(基本形)': 'ダメ',\n",
       "   'pos(品詞)': '名詞',\n",
       "   'pos1(品詞際分類1)': '形容動詞語幹'},\n",
       "  {'surface(表層形)': 'な',\n",
       "   'base(基本形)': 'だ',\n",
       "   'pos(品詞)': '助動詞',\n",
       "   'pos1(品詞際分類1)': '*'},\n",
       "  {'surface(表層形)': 'の',\n",
       "   'base(基本形)': 'の',\n",
       "   'pos(品詞)': '名詞',\n",
       "   'pos1(品詞際分類1)': '非自立'},\n",
       "  {'surface(表層形)': 'だ',\n",
       "   'base(基本形)': 'だ',\n",
       "   'pos(品詞)': '助動詞',\n",
       "   'pos1(品詞際分類1)': '*'},\n",
       "  {'surface(表層形)': '。',\n",
       "   'base(基本形)': '。',\n",
       "   'pos(品詞)': '記号',\n",
       "   'pos1(品詞際分類1)': '句点'},\n",
       "  {'surface(表層形)': '私',\n",
       "   'base(基本形)': '私',\n",
       "   'pos(品詞)': '名詞',\n",
       "   'pos1(品詞際分類1)': '代名詞'},\n",
       "  {'surface(表層形)': 'は',\n",
       "   'base(基本形)': 'は',\n",
       "   'pos(品詞)': '助詞',\n",
       "   'pos1(品詞際分類1)': '係助詞'},\n",
       "  {'surface(表層形)': '自分',\n",
       "   'base(基本形)': '自分',\n",
       "   'pos(品詞)': '名詞',\n",
       "   'pos1(品詞際分類1)': '一般'},\n",
       "  {'surface(表層形)': 'の',\n",
       "   'base(基本形)': 'の',\n",
       "   'pos(品詞)': '助詞',\n",
       "   'pos1(品詞際分類1)': '連体化'},\n",
       "  {'surface(表層形)': '仕事',\n",
       "   'base(基本形)': '仕事',\n",
       "   'pos(品詞)': '名詞',\n",
       "   'pos1(品詞際分類1)': 'サ変接続'},\n",
       "  {'surface(表層形)': 'に',\n",
       "   'base(基本形)': 'に',\n",
       "   'pos(品詞)': '助詞',\n",
       "   'pos1(品詞際分類1)': '格助詞'},\n",
       "  {'surface(表層形)': '満足',\n",
       "   'base(基本形)': '満足',\n",
       "   'pos(品詞)': '名詞',\n",
       "   'pos1(品詞際分類1)': 'サ変接続'},\n",
       "  {'surface(表層形)': 'し',\n",
       "   'base(基本形)': 'する',\n",
       "   'pos(品詞)': '動詞',\n",
       "   'pos1(品詞際分類1)': '自立'},\n",
       "  {'surface(表層形)': 'た',\n",
       "   'base(基本形)': 'た',\n",
       "   'pos(品詞)': '助動詞',\n",
       "   'pos1(品詞際分類1)': '*'},\n",
       "  {'surface(表層形)': 'こと',\n",
       "   'base(基本形)': 'こと',\n",
       "   'pos(品詞)': '名詞',\n",
       "   'pos1(品詞際分類1)': '非自立'},\n",
       "  {'surface(表層形)': 'が',\n",
       "   'base(基本形)': 'が',\n",
       "   'pos(品詞)': '助詞',\n",
       "   'pos1(品詞際分類1)': '格助詞'},\n",
       "  {'surface(表層形)': 'ない',\n",
       "   'base(基本形)': 'ない',\n",
       "   'pos(品詞)': '形容詞',\n",
       "   'pos1(品詞際分類1)': '自立'},\n",
       "  {'surface(表層形)': '。',\n",
       "   'base(基本形)': '。',\n",
       "   'pos(品詞)': '記号',\n",
       "   'pos1(品詞際分類1)': '句点'},\n",
       "  {'surface(表層形)': '私',\n",
       "   'base(基本形)': '私',\n",
       "   'pos(品詞)': '名詞',\n",
       "   'pos1(品詞際分類1)': '代名詞'},\n",
       "  {'surface(表層形)': 'は',\n",
       "   'base(基本形)': 'は',\n",
       "   'pos(品詞)': '助詞',\n",
       "   'pos1(品詞際分類1)': '係助詞'},\n",
       "  {'surface(表層形)': '自分',\n",
       "   'base(基本形)': '自分',\n",
       "   'pos(品詞)': '名詞',\n",
       "   'pos1(品詞際分類1)': '一般'},\n",
       "  {'surface(表層形)': 'の',\n",
       "   'base(基本形)': 'の',\n",
       "   'pos(品詞)': '助詞',\n",
       "   'pos1(品詞際分類1)': '連体化'},\n",
       "  {'surface(表層形)': '想像力',\n",
       "   'base(基本形)': '想像力',\n",
       "   'pos(品詞)': '名詞',\n",
       "   'pos1(品詞際分類1)': '固有名詞'},\n",
       "  {'surface(表層形)': 'の',\n",
       "   'base(基本形)': 'の',\n",
       "   'pos(品詞)': '助詞',\n",
       "   'pos1(品詞際分類1)': '連体化'},\n",
       "  {'surface(表層形)': '限界',\n",
       "   'base(基本形)': '限界',\n",
       "   'pos(品詞)': '名詞',\n",
       "   'pos1(品詞際分類1)': '一般'},\n",
       "  {'surface(表層形)': 'に',\n",
       "   'base(基本形)': 'に',\n",
       "   'pos(品詞)': '助詞',\n",
       "   'pos1(品詞際分類1)': '格助詞'},\n",
       "  {'surface(表層形)': '憤慨',\n",
       "   'base(基本形)': '憤慨',\n",
       "   'pos(品詞)': '名詞',\n",
       "   'pos1(品詞際分類1)': 'サ変接続'},\n",
       "  {'surface(表層形)': 'する',\n",
       "   'base(基本形)': 'する',\n",
       "   'pos(品詞)': '動詞',\n",
       "   'pos1(品詞際分類1)': '自立'},\n",
       "  {'surface(表層形)': '。',\n",
       "   'base(基本形)': '。',\n",
       "   'pos(品詞)': '記号',\n",
       "   'pos1(品詞際分類1)': '句点'}]]"
      ]
     },
     "execution_count": 38,
     "metadata": {},
     "output_type": "execute_result"
    }
   ],
   "source": [
    "parse(content, filename=\"sample_file\")\n",
    "\n",
    "text = \"sample_file\"\n",
    "parse_to_line(text)"
   ]
  },
  {
   "cell_type": "markdown",
   "id": "ae04fe5e-c13c-49b9-8e32-f5ba4d61eb91",
   "metadata": {},
   "source": [
    "## 31. 動詞\n",
    "動詞の表層形をすべて抽出せよ．"
   ]
  },
  {
   "cell_type": "code",
   "execution_count": null,
   "id": "9a6fbfb6-fc5c-494c-8140-f69f492ee18a",
   "metadata": {},
   "outputs": [],
   "source": []
  },
  {
   "cell_type": "code",
   "execution_count": null,
   "id": "5c68f22c-ff2d-4c55-89ef-89c69f812ee1",
   "metadata": {},
   "outputs": [],
   "source": []
  },
  {
   "cell_type": "code",
   "execution_count": null,
   "id": "7329752b-be08-42d2-94b3-58a45a0750c5",
   "metadata": {},
   "outputs": [],
   "source": []
  },
  {
   "cell_type": "code",
   "execution_count": null,
   "id": "65aae62e-8020-441e-ba79-87229281d694",
   "metadata": {},
   "outputs": [],
   "source": []
  },
  {
   "cell_type": "code",
   "execution_count": null,
   "id": "d65d63a6-e9f1-4ee9-b77a-f57f6af49d5e",
   "metadata": {},
   "outputs": [],
   "source": []
  },
  {
   "cell_type": "code",
   "execution_count": null,
   "id": "49ec0d8c-42b7-4d10-9888-995706fc71a9",
   "metadata": {},
   "outputs": [],
   "source": []
  },
  {
   "cell_type": "code",
   "execution_count": null,
   "id": "1dd7d1be-75b6-4cee-8a81-90c10310317d",
   "metadata": {},
   "outputs": [],
   "source": []
  },
  {
   "cell_type": "code",
   "execution_count": null,
   "id": "86232171-ce44-4d1a-938b-d14c41d9bdeb",
   "metadata": {},
   "outputs": [],
   "source": []
  },
  {
   "cell_type": "code",
   "execution_count": null,
   "id": "979786a0-fe5f-415e-b262-4bb3c4ac193b",
   "metadata": {},
   "outputs": [],
   "source": []
  },
  {
   "cell_type": "code",
   "execution_count": null,
   "id": "85fe332f-ad45-4d87-be6c-55bd7f98446d",
   "metadata": {},
   "outputs": [],
   "source": []
  },
  {
   "cell_type": "code",
   "execution_count": null,
   "id": "5407d470-cd04-4d56-9cb0-f7259604505e",
   "metadata": {},
   "outputs": [],
   "source": []
  },
  {
   "cell_type": "code",
   "execution_count": null,
   "id": "9ee8f4a4-5d52-4cd0-82b8-3b8437cb1cab",
   "metadata": {},
   "outputs": [],
   "source": []
  },
  {
   "cell_type": "code",
   "execution_count": null,
   "id": "8b82276f-8b33-4323-843e-8d2c63883e10",
   "metadata": {},
   "outputs": [],
   "source": []
  },
  {
   "cell_type": "code",
   "execution_count": null,
   "id": "d6afe6b3-ae2a-4a37-92da-f223513acfa0",
   "metadata": {},
   "outputs": [],
   "source": []
  },
  {
   "cell_type": "code",
   "execution_count": null,
   "id": "9d0b86f6-c6b9-4f2a-90a6-6c3278a0749d",
   "metadata": {},
   "outputs": [],
   "source": []
  }
 ],
 "metadata": {
  "kernelspec": {
   "display_name": "Python 3",
   "language": "python",
   "name": "python3"
  },
  "language_info": {
   "codemirror_mode": {
    "name": "ipython",
    "version": 3
   },
   "file_extension": ".py",
   "mimetype": "text/x-python",
   "name": "python",
   "nbconvert_exporter": "python",
   "pygments_lexer": "ipython3",
   "version": "3.9.4"
  },
  "widgets": {
   "application/vnd.jupyter.widget-state+json": {
    "state": {},
    "version_major": 2,
    "version_minor": 0
   }
  }
 },
 "nbformat": 4,
 "nbformat_minor": 5
}
