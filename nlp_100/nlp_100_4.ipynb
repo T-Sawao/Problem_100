{
 "cells": [
  {
   "cell_type": "markdown",
   "id": "1e4b390e-a533-41ba-b30d-46dc6c1e285a",
   "metadata": {},
   "source": [
    "# 【言語処理100本ノック 2020】第4章: 形態素解析"
   ]
  },
  {
   "cell_type": "markdown",
   "id": "5ebca628-1678-4096-9811-e40c796fda25",
   "metadata": {},
   "source": [
    "## 第4章: 形態素解析\n",
    "夏目漱石の小説『吾輩は猫である』の文章（neko.txt）をMeCabを使って形態素解析し，その結果をneko.txt.mecabというファイルに保存せよ．このファイルを用いて，以下の問に対応するプログラムを実装せよ．"
   ]
  },
  {
   "cell_type": "markdown",
   "id": "6592a76a-8d26-4d44-b517-d3c0eea32705",
   "metadata": {},
   "source": [
    "### テキスト文章のダウンロード"
   ]
  },
  {
   "cell_type": "code",
   "execution_count": 31,
   "id": "bacb841d-7adb-4a7a-9a3a-94159bb914d9",
   "metadata": {},
   "outputs": [],
   "source": [
    "# オプション-Oで、上書き保存する様に指定。\n",
    "# !wget https://nlp100.github.io/data/neko.txt -O neko.txt　"
   ]
  },
  {
   "cell_type": "markdown",
   "id": "552cdb82-001a-4687-ba76-751da8e54778",
   "metadata": {},
   "source": [
    "### MeCabに辞書（neologd）を設定"
   ]
  },
  {
   "cell_type": "code",
   "execution_count": 32,
   "id": "a09c8bd0-1193-4385-a623-353f9011d942",
   "metadata": {},
   "outputs": [],
   "source": [
    "# mecabのインポート\n",
    "import MeCab"
   ]
  },
  {
   "cell_type": "code",
   "execution_count": 33,
   "id": "79c2de00-f82a-4571-8f06-9f4f465afea6",
   "metadata": {},
   "outputs": [
    {
     "data": {
      "text/plain": [
       "'ブンブン\\t副詞,助詞類接続,*,*,*,*,ブンブン,ブンブン,ブンブン\\nハロー\\t名詞,一般,*,*,*,*,ハロー,ハロー,ハロー\\nYouTube\\t名詞,一般,*,*,*,*,*\\n、\\t記号,読点,*,*,*,*,、,、,、\\nどうも\\t副詞,一般,*,*,*,*,どうも,ドウモ,ドーモ\\nヒカキン\\t名詞,一般,*,*,*,*,*\\nです\\t助動詞,*,*,*,特殊・デス,基本形,です,デス,デス\\n！\\t記号,一般,*,*,*,*,！,！,！\\nEOS\\n'"
      ]
     },
     "execution_count": 33,
     "metadata": {},
     "output_type": "execute_result"
    }
   ],
   "source": [
    "# mecabの動作確認\n",
    "tagger = MeCab.Tagger()\n",
    "tagger.parse(\"ブンブンハローYouTube、どうもヒカキンです！\")"
   ]
  },
  {
   "cell_type": "code",
   "execution_count": 34,
   "id": "ed0888c9-4770-4d87-b57f-c33a87c541c9",
   "metadata": {},
   "outputs": [
    {
     "name": "stdout",
     "output_type": "stream",
     "text": [
      "filename:\t/var/lib/mecab/dic/debian/sys.dic\n",
      "version:\t102\n",
      "charset:\tUTF-8\n",
      "type:\t0\n",
      "size:\t392127\n",
      "left size:\t1316\n",
      "right size:\t1316\n",
      "\n"
     ]
    }
   ],
   "source": [
    "# 設定辞書の確認\n",
    "!mecab -D"
   ]
  },
  {
   "cell_type": "code",
   "execution_count": 35,
   "id": "28b859ab-9f00-4682-80da-5f62cfb86f4a",
   "metadata": {},
   "outputs": [
    {
     "name": "stdout",
     "output_type": "stream",
     "text": [
      "/usr/lib/aarch64-linux-gnu/mecab/dic\n"
     ]
    }
   ],
   "source": [
    "# 辞書のインストール先を確認する\n",
    "!mecab-config --dicdir"
   ]
  },
  {
   "cell_type": "code",
   "execution_count": 36,
   "id": "315d5bfa-871b-4829-a469-e794c20f1f69",
   "metadata": {},
   "outputs": [
    {
     "name": "stdout",
     "output_type": "stream",
     "text": [
      "mecab-ipadic-neologd\n"
     ]
    }
   ],
   "source": [
    "# インストール先から辞書名を確認する\n",
    "!ls /usr/lib/aarch64-linux-gnu/mecab/dic"
   ]
  },
  {
   "cell_type": "code",
   "execution_count": 37,
   "id": "02cb61af-0c8b-421f-bc0e-2b31145802db",
   "metadata": {},
   "outputs": [
    {
     "name": "stdout",
     "output_type": "stream",
     "text": [
      "ブンブンハローYouTube\t名詞,固有名詞,一般,*,*,*,ブンブンハローYouTube,ブンブンハローユーチューブ,ブンブンハローユーチューブ\n",
      "、\t記号,読点,*,*,*,*,、,、,、\n",
      "どうも\t副詞,一般,*,*,*,*,どうも,ドウモ,ドーモ\n",
      "ヒカキン\t名詞,固有名詞,一般,*,*,*,HIKAKIN,ヒカキン,ヒカキン\n",
      "です\t助動詞,*,*,*,特殊・デス,基本形,です,デス,デス\n",
      "！\t記号,一般,*,*,*,*,！,！,！\n",
      "EOS\n",
      "\n"
     ]
    }
   ],
   "source": [
    "# mecabに辞書を指定する\n",
    "tagger = MeCab.Tagger(\n",
    "    '-d /usr/lib/aarch64-linux-gnu/mecab/dic/mecab-ipadic-neologd')\n",
    "\n",
    "print(tagger.parse('ブンブンハローYouTube、どうもヒカキンです！'))"
   ]
  },
  {
   "cell_type": "markdown",
   "id": "bea72887-c248-4fdb-8c01-03fa3b61edf7",
   "metadata": {},
   "source": [
    "## UNIXコマンドでの形態素解析"
   ]
  },
  {
   "cell_type": "code",
   "execution_count": 38,
   "id": "e6d4d64f-70f9-4438-a237-4daa734f2e94",
   "metadata": {},
   "outputs": [],
   "source": [
    "# -oでファイル名を指定して保存。\n",
    "!mecab -o ./neko.mecab ./neko.txt"
   ]
  },
  {
   "cell_type": "code",
   "execution_count": 39,
   "id": "07e315a9-7224-4804-903f-5d918dd3dda7",
   "metadata": {},
   "outputs": [
    {
     "name": "stdout",
     "output_type": "stream",
     "text": [
      "226266 ./neko.mecab\n"
     ]
    }
   ],
   "source": [
    "# 行数の確認\n",
    "!wc -l ./neko.mecab"
   ]
  },
  {
   "cell_type": "code",
   "execution_count": 40,
   "id": "f3adde31-f54a-4f0f-8ac7-d0c4414b465b",
   "metadata": {},
   "outputs": [
    {
     "name": "stdout",
     "output_type": "stream",
     "text": [
      "一\t名詞,数,*,*,*,*,一,イチ,イチ\n",
      "\t記号,一般,*,*,*,*,*\n",
      "EOS\n",
      "\t記号,一般,*,*,*,*,*\n",
      "EOS\n",
      "　\t記号,空白,*,*,*,*,　,　,　\n",
      "吾輩\t名詞,代名詞,一般,*,*,*,吾輩,ワガハイ,ワガハイ\n",
      "は\t助詞,係助詞,*,*,*,*,は,ハ,ワ\n",
      "猫\t名詞,一般,*,*,*,*,猫,ネコ,ネコ\n",
      "で\t助動詞,*,*,*,特殊・ダ,連用形,だ,デ,デ\n",
      "ある\t助動詞,*,*,*,五段・ラ行アル,基本形,ある,アル,アル\n",
      "。\t記号,句点,*,*,*,*,。,。,。\n",
      "\t記号,一般,*,*,*,*,*\n",
      "EOS\n",
      "名前\t名詞,一般,*,*,*,*,名前,ナマエ,ナマエ\n"
     ]
    }
   ],
   "source": [
    "# 先頭15行の確認\n",
    "!head -15 ./neko.mecab"
   ]
  },
  {
   "cell_type": "code",
   "execution_count": 41,
   "id": "6c40939b-5f20-4cf7-bbc7-5950e1977fb2",
   "metadata": {},
   "outputs": [],
   "source": [
    "# -dで辞書を指定\n",
    "!mecab -d '/usr/lib/aarch64-linux-gnu/mecab/dic/mecab-ipadic-neologd' -o ./neko.mecab ./neko.txt"
   ]
  },
  {
   "cell_type": "code",
   "execution_count": 42,
   "id": "7aee7814-536c-4440-bf9c-28c651dd9805",
   "metadata": {},
   "outputs": [
    {
     "name": "stdout",
     "output_type": "stream",
     "text": [
      "一\t名詞,数,*,*,*,*,一,イチ,イチ\n",
      "\t記号,一般,*,*,*,*,*\n",
      "EOS\n",
      "\t記号,一般,*,*,*,*,*\n",
      "EOS\n",
      "　\t記号,空白,*,*,*,*,　,　,　\n",
      "吾輩は猫である\t名詞,固有名詞,一般,*,*,*,吾輩は猫である,ワガハイハネコデアル,ワガハイワネコデアル\n",
      "。\t記号,句点,*,*,*,*,。,。,。\n",
      "\t記号,一般,*,*,*,*,*\n",
      "EOS\n",
      "名前\t名詞,一般,*,*,*,*,名前,ナマエ,ナマエ\n",
      "は\t助詞,係助詞,*,*,*,*,は,ハ,ワ\n",
      "まだ\t副詞,助詞類接続,*,*,*,*,まだ,マダ,マダ\n",
      "無い\t形容詞,自立,*,*,形容詞・アウオ段,基本形,無い,ナイ,ナイ\n",
      "。\t記号,句点,*,*,*,*,。,。,。\n"
     ]
    }
   ],
   "source": [
    "# 先頭15行の確認\n",
    "!head -15 ./neko.mecab"
   ]
  },
  {
   "cell_type": "code",
   "execution_count": 43,
   "id": "2f08e48a-5f42-47aa-88a3-8ea2185d0913",
   "metadata": {},
   "outputs": [],
   "source": [
    "# jupterデフォルト設定を出力する\n",
    "# !jupyter notebook --generate-config -y"
   ]
  },
  {
   "cell_type": "markdown",
   "id": "1ead5210-4c5c-4b22-b254-1fa58df35650",
   "metadata": {},
   "source": [
    "### 30. 形態素解析結果の読み込み\n",
    "形態素解析結果（neko.txt.mecab）を読み込むプログラムを実装せよ．ただし，各形態素は表層形（surface），基本形（base），品詞（pos），品詞細分類1（pos1）をキーとするマッピング型に格納し，1文を形態素（マッピング型）のリストとして表現せよ．第4章の残りの問題では，ここで作ったプログラムを活用せよ．"
   ]
  },
  {
   "cell_type": "code",
   "execution_count": 44,
   "id": "a6224e39-0835-44b7-9048-7c2693304f86",
   "metadata": {},
   "outputs": [],
   "source": [
    "# 単純に読み込み\n",
    "with open(\"./neko.txt\") as f:\n",
    "    neko_f = f.readlines()"
   ]
  },
  {
   "cell_type": "markdown",
   "id": "776f44e8-8aa7-4ddc-89dd-bc91ce81aef3",
   "metadata": {},
   "source": [
    "#### 読み込みの種類\n",
    "- read: 文字列\n",
    "- readlines: リスト "
   ]
  },
  {
   "cell_type": "code",
   "execution_count": 45,
   "id": "5c013195-eb87-407d-8a5b-3607313c0e34",
   "metadata": {
    "tags": []
   },
   "outputs": [
    {
     "data": {
      "text/plain": [
       "['一\\n',\n",
       " '\\n',\n",
       " '\\u3000吾輩は猫である。\\n',\n",
       " '名前はまだ無い。\\n',\n",
       " '\\n',\n",
       " '\\u3000どこで生れたかとんと見当がつかぬ。\\n',\n",
       " '何でも薄暗いじめじめした所でニャーニャー泣いていた事だけは記憶している。\\n',\n",
       " '吾輩はここで始めて人間というものを見た。\\n',\n",
       " 'しかもあとで聞くとそれは書生という人間中で一番獰悪な種族であったそうだ。\\n',\n",
       " 'この書生というのは時々我々を捕えて煮て食うという話である。\\n',\n",
       " 'しかしその当時は何という考もなかったから別段恐しいとも思わなかった。\\n',\n",
       " 'ただ彼の掌に載せられてスーと持ち上げられた時何だかフワフワした感じがあったばかりである。\\n',\n",
       " '掌の上で少し落ちついて書生の顔を見たのがいわゆる人間というものの見始であろう。\\n',\n",
       " 'この時妙なものだと思った感じが今でも残っている。\\n',\n",
       " '第一毛をもって装飾されべきはずの顔がつるつるしてまるで薬缶だ。\\n',\n",
       " 'その後猫にもだいぶ逢ったがこんな片輪には一度も出会わした事がない。\\n',\n",
       " 'のみならず顔の真中があまりに突起している。\\n',\n",
       " 'そうしてその穴の中から時々ぷうぷうと煙を吹く。\\n',\n",
       " 'どうも咽せぽくて実に弱った。\\n',\n",
       " 'これが人間の飲む煙草というものである事はようやくこの頃知った。\\n']"
      ]
     },
     "execution_count": 45,
     "metadata": {},
     "output_type": "execute_result"
    }
   ],
   "source": [
    "neko_f[:20]"
   ]
  },
  {
   "cell_type": "code",
   "execution_count": 61,
   "id": "8f66c669-da90-4e7d-ac8f-840c7c43f846",
   "metadata": {
    "tags": []
   },
   "outputs": [
    {
     "name": "stdout",
     "output_type": "stream",
     "text": [
      "詞,自立,*,*,サ変・スル,連用形,する,シ,シ\n",
      "て\t助詞,接続助詞,*,*,*,*,て,テ,テ\n",
      "不可思議\t名詞,形容動詞語幹,*,*,*,*,不可思議,フカシギ,フカシギ\n",
      "の\t助詞,連体化,*,*,*,*,の,ノ,ノ\n",
      "太平\t名詞,一般,*,*,*,*,太平,タイヘイ,タイヘイ\n",
      "に\t助詞,格助詞,一般,*,*,*,に,ニ,ニ\n",
      "入る\t動詞,自立,*,*,五段・ラ行,基本形,入る,ハイル,ハイル\n",
      "。\t記号,句点,*,*,*,*,。,。,。\n",
      "吾輩\t名詞,代名詞,一般,*,*,*,吾輩,ワガハイ,ワガハイ\n",
      "は\t助詞,係助詞,*,*,*,*,は,ハ,ワ\n",
      "死ぬ\t動詞,自立,*,*,五段・ナ行,基本形,死ぬ,シヌ,シヌ\n",
      "。\t記号,句点,*,*,*,*,。,。,。\n",
      "死ん\t動詞,自立,*,*,五段・ナ行,連用タ接続,死ぬ,シン,シン\n",
      "で\t助詞,接続助詞,*,*,*,*,で,デ,デ\n",
      "この\t連体詞,*,*,*,*,*,この,コノ,コノ\n",
      "太平\t名詞,一般,*,*,*,*,太平,タイヘイ,タイヘイ\n",
      "を\t助詞,格助詞,一般,*,*,*,を,ヲ,ヲ\n",
      "得る\t動詞,自立,*,*,一段,基本形,得る,エル,エル\n",
      "。\t記号,句点,*,*,*,*,。,。,。\n",
      "太平\t名詞,一般,*,*,*,*,太平,タイヘイ,タイヘイ\n",
      "は\t助詞,係助詞,*,*,*,*,は,ハ,ワ\n",
      "死な\t動詞,自立,*,*,五段・ナ行,未然形,死ぬ,シナ,シナ\n",
      "なけれ\t助動詞,*,*,*,特殊・ナイ,仮定形,ない,ナケレ,ナケレ\n",
      "ば\t助詞,接続助詞,*,*,*,*,ば,バ,バ\n",
      "得\t動詞,自立,*,*,一段,未然形,得る,エ,エ\n",
      "られ\t動詞,接尾,*,*,一段,未然形,られる,ラレ,ラレ\n",
      "ぬ\t助動詞,*,*,*,特殊・ヌ,基本形,ぬ,ヌ,ヌ\n",
      "。\t記号,句点,*,*,*,*,。,。,。\n",
      "南無阿弥陀仏\t名詞,一般,*,*,*,*,南無阿弥陀仏,ナムアミダブツ,ナムアミダブツ\n",
      "南無阿弥陀仏\t名詞,一般,*,*,*,*,南無阿弥陀仏,ナムアミダブツ,ナムアミダブツ\n",
      "。\t記号,句点,*,*,*,*,。,。,。\n",
      "ありがたい\t形容詞,自立,*,*,形容詞・アウオ段,基本形,ありがたい,アリガタイ,アリガタイ\n",
      "ありがたい\t形容詞,自立,*,*,形容詞・アウオ段,基本形,ありがたい,アリガタイ,アリガタイ\n",
      "。\t記号,句点,*,*,*,*,。,。,。\n",
      "EOS\n",
      "\n"
     ]
    }
   ],
   "source": [
    "# 形態素解析を行う。\n",
    "FILE_NAME = \"./neko.txt\"\n",
    "\n",
    "with open(FILE_NAME, \"r\", encoding=\"utf-8\") as f:\n",
    "    CONTENT = f.read()\n",
    "\n",
    "tagger = MeCab.Tagger('-d \\\n",
    "    /usr/lib/aarch64-linux-gnu/mecab/dic/mecab-ipadic-neologd')\n",
    "\n",
    "parse = tagger.parse(CONTENT)\n",
    "print(parse[-1000:])"
   ]
  },
  {
   "cell_type": "code",
   "execution_count": 47,
   "id": "87978cc9-a11a-459d-a0be-ad2fc4565cc8",
   "metadata": {
    "tags": []
   },
   "outputs": [],
   "source": [
    "import MeCab\n",
    "\n",
    "# 使用するファイル\n",
    "file = \"./neko.txt\"\n",
    "\n",
    "def parse(file):\n",
    "    '''\n",
    "    各形態素を下記4つをキーとして辞書化する。\n",
    "    ・表層形（surface）\n",
    "    ・基本形（base）\n",
    "    ・品詞（pos）\n",
    "    ・品詞細分類1（pos1）\n",
    "    \n",
    "    parameter\n",
    "    --------------------\n",
    "    fiel: 文章\n",
    "    \n",
    "    output\n",
    "    --------------------\n",
    "    1文の各形態素を辞書化したリスト\n",
    "    '''\n",
    "    \n",
    "    with open(txt) as data_file, \\\n",
    "            open(txt +\".mecab\", mode=\"w\") as out_file:\n",
    "        \n",
    "        mecab = MeCab.Tagger()\n",
    "        txt = out_file.write(mecab.parse(data_file.read()))\n",
    "        return txt"
   ]
  },
  {
   "cell_type": "code",
   "execution_count": 48,
   "id": "f142bbad-8377-44ad-b155-b99315f56a09",
   "metadata": {},
   "outputs": [],
   "source": [
    "def parse_to_line(parse): \n",
    "    '''\n",
    "    形態素解析した結果をリスト化する関数。\n",
    "    \n",
    "    paramerate\n",
    "    ----------------------------------------------\n",
    "    parse: 形態素解析した結果\n",
    "    \n",
    "    ・表層形（surface）\n",
    "    ・基本形（base）\n",
    "    ・品詞（pos）\n",
    "    ・品詞細分類1（pos1）\n",
    "    の4つをキーとする辞書に格納し1文ずつ、この辞書のリストとして返す。\n",
    "    \n",
    "    output\n",
    "    ----------------------------------------------\n",
    "    1文の各形態素を辞書化したリスト\n",
    "    '''\n",
    "    \n",
    "    sentences = []\n",
    "    morphs = []\n",
    "    with open(parse, mode='r') as f:\n",
    "        for line in f:\n",
    "            # 文末以外：形態素解析情報を辞書型に格納して形態素リストに追加\n",
    "            if line != 'EOS\\n':  \n",
    "                fields = line.split('\\t')\n",
    "            # 文頭以外の空白と改行文字はスキップ\n",
    "                if len(fields) != 2 or fields[0] == '':\n",
    "                    continue\n",
    "                else:\n",
    "                    attr =  fields[1].split(',')\n",
    "                    morph = {\n",
    "                        'surface': fields[0],\n",
    "                        'base': attr[6],\n",
    "                        'pos': attr[0],\n",
    "                        'pos1': attr[1]\n",
    "                    }\n",
    "                    morphs.append(morph)\n",
    "            # 文末：形態素リストを文リストに追加\n",
    "            else:\n",
    "                sentences.append(morphs)\n",
    "                morphs = []\n",
    "    return senthences"
   ]
  },
  {
   "cell_type": "code",
   "execution_count": 50,
   "id": "76c6b84e-981b-47ee-b7ef-6cd0408b1525",
   "metadata": {},
   "outputs": [
    {
     "ename": "TypeError",
     "evalue": "expected str, bytes or os.PathLike object, not function",
     "output_type": "error",
     "traceback": [
      "\u001b[0;31m\u001b[0m",
      "\u001b[0;31mTypeError\u001b[0mTraceback (most recent call last)",
      "\u001b[0;32m<ipython-input-50-64d379fe699b>\u001b[0m in \u001b[0;36m<module>\u001b[0;34m\u001b[0m\n\u001b[0;32m----> 1\u001b[0;31m \u001b[0ma\u001b[0m \u001b[0;34m=\u001b[0m \u001b[0mparse_to_line\u001b[0m\u001b[0;34m(\u001b[0m\u001b[0mparse\u001b[0m\u001b[0;34m)\u001b[0m\u001b[0;34m\u001b[0m\u001b[0;34m\u001b[0m\u001b[0m\n\u001b[0m",
      "\u001b[0;32m<ipython-input-48-06053b5fb0e2>\u001b[0m in \u001b[0;36mparse_to_line\u001b[0;34m(parse)\u001b[0m\n\u001b[1;32m     20\u001b[0m     \u001b[0msentences\u001b[0m \u001b[0;34m=\u001b[0m \u001b[0;34m[\u001b[0m\u001b[0;34m]\u001b[0m\u001b[0;34m\u001b[0m\u001b[0;34m\u001b[0m\u001b[0m\n\u001b[1;32m     21\u001b[0m     \u001b[0mmorphs\u001b[0m \u001b[0;34m=\u001b[0m \u001b[0;34m[\u001b[0m\u001b[0;34m]\u001b[0m\u001b[0;34m\u001b[0m\u001b[0;34m\u001b[0m\u001b[0m\n\u001b[0;32m---> 22\u001b[0;31m     \u001b[0;32mwith\u001b[0m \u001b[0mopen\u001b[0m\u001b[0;34m(\u001b[0m\u001b[0mparse\u001b[0m\u001b[0;34m,\u001b[0m \u001b[0mmode\u001b[0m\u001b[0;34m=\u001b[0m\u001b[0;34m'r'\u001b[0m\u001b[0;34m)\u001b[0m \u001b[0;32mas\u001b[0m \u001b[0mf\u001b[0m\u001b[0;34m:\u001b[0m\u001b[0;34m\u001b[0m\u001b[0;34m\u001b[0m\u001b[0m\n\u001b[0m\u001b[1;32m     23\u001b[0m         \u001b[0;32mfor\u001b[0m \u001b[0mline\u001b[0m \u001b[0;32min\u001b[0m \u001b[0mf\u001b[0m\u001b[0;34m:\u001b[0m\u001b[0;34m\u001b[0m\u001b[0;34m\u001b[0m\u001b[0m\n\u001b[1;32m     24\u001b[0m             \u001b[0;31m# 文末以外：形態素解析情報を辞書型に格納して形態素リストに追加\u001b[0m\u001b[0;34m\u001b[0m\u001b[0;34m\u001b[0m\u001b[0;34m\u001b[0m\u001b[0m\n",
      "\u001b[0;31mTypeError\u001b[0m: expected str, bytes or os.PathLike object, not function"
     ]
    }
   ],
   "source": [
    "a = parse_to_line(parse)"
   ]
  },
  {
   "cell_type": "code",
   "execution_count": null,
   "id": "deb847e3-5d5a-42eb-8265-98b2419d44b1",
   "metadata": {},
   "outputs": [],
   "source": []
  },
  {
   "cell_type": "code",
   "execution_count": null,
   "id": "9a6fbfb6-fc5c-494c-8140-f69f492ee18a",
   "metadata": {},
   "outputs": [],
   "source": []
  },
  {
   "cell_type": "code",
   "execution_count": null,
   "id": "5c68f22c-ff2d-4c55-89ef-89c69f812ee1",
   "metadata": {},
   "outputs": [],
   "source": []
  },
  {
   "cell_type": "code",
   "execution_count": null,
   "id": "7329752b-be08-42d2-94b3-58a45a0750c5",
   "metadata": {},
   "outputs": [],
   "source": []
  },
  {
   "cell_type": "code",
   "execution_count": null,
   "id": "65aae62e-8020-441e-ba79-87229281d694",
   "metadata": {},
   "outputs": [],
   "source": []
  },
  {
   "cell_type": "code",
   "execution_count": null,
   "id": "d65d63a6-e9f1-4ee9-b77a-f57f6af49d5e",
   "metadata": {},
   "outputs": [],
   "source": []
  },
  {
   "cell_type": "code",
   "execution_count": null,
   "id": "49ec0d8c-42b7-4d10-9888-995706fc71a9",
   "metadata": {},
   "outputs": [],
   "source": []
  },
  {
   "cell_type": "code",
   "execution_count": null,
   "id": "1dd7d1be-75b6-4cee-8a81-90c10310317d",
   "metadata": {},
   "outputs": [],
   "source": []
  },
  {
   "cell_type": "code",
   "execution_count": null,
   "id": "86232171-ce44-4d1a-938b-d14c41d9bdeb",
   "metadata": {},
   "outputs": [],
   "source": []
  },
  {
   "cell_type": "code",
   "execution_count": null,
   "id": "979786a0-fe5f-415e-b262-4bb3c4ac193b",
   "metadata": {},
   "outputs": [],
   "source": []
  },
  {
   "cell_type": "code",
   "execution_count": null,
   "id": "85fe332f-ad45-4d87-be6c-55bd7f98446d",
   "metadata": {},
   "outputs": [],
   "source": []
  },
  {
   "cell_type": "code",
   "execution_count": null,
   "id": "5407d470-cd04-4d56-9cb0-f7259604505e",
   "metadata": {},
   "outputs": [],
   "source": []
  },
  {
   "cell_type": "code",
   "execution_count": null,
   "id": "9ee8f4a4-5d52-4cd0-82b8-3b8437cb1cab",
   "metadata": {},
   "outputs": [],
   "source": []
  },
  {
   "cell_type": "code",
   "execution_count": null,
   "id": "8b82276f-8b33-4323-843e-8d2c63883e10",
   "metadata": {},
   "outputs": [],
   "source": []
  },
  {
   "cell_type": "code",
   "execution_count": null,
   "id": "d6afe6b3-ae2a-4a37-92da-f223513acfa0",
   "metadata": {},
   "outputs": [],
   "source": []
  },
  {
   "cell_type": "code",
   "execution_count": null,
   "id": "9d0b86f6-c6b9-4f2a-90a6-6c3278a0749d",
   "metadata": {},
   "outputs": [],
   "source": []
  }
 ],
 "metadata": {
  "kernelspec": {
   "display_name": "Python 3",
   "language": "python",
   "name": "python3"
  },
  "language_info": {
   "codemirror_mode": {
    "name": "ipython",
    "version": 3
   },
   "file_extension": ".py",
   "mimetype": "text/x-python",
   "name": "python",
   "nbconvert_exporter": "python",
   "pygments_lexer": "ipython3",
   "version": "3.9.4"
  },
  "widgets": {
   "application/vnd.jupyter.widget-state+json": {
    "state": {},
    "version_major": 2,
    "version_minor": 0
   }
  }
 },
 "nbformat": 4,
 "nbformat_minor": 5
}
