{
 "cells": [
  {
   "cell_type": "markdown",
   "id": "08273508-9085-4aa1-957a-f5b2d64923ea",
   "metadata": {},
   "source": [
    "# 【言語処理100本ノック 2020】第2章: UNIXコマンド"
   ]
  },
  {
   "cell_type": "code",
   "execution_count": 32,
   "id": "065b229a-165a-4816-a989-423a138992c0",
   "metadata": {},
   "outputs": [
    {
     "name": "stdout",
     "output_type": "stream",
     "text": [
      "--2021-04-17 05:56:13--  https://nlp100.github.io/data/popular-names.txt\n",
      "Resolving nlp100.github.io (nlp100.github.io)... 185.199.110.153, 185.199.111.153, 185.199.108.153, ...\n",
      "Connecting to nlp100.github.io (nlp100.github.io)|185.199.110.153|:443... connected.\n",
      "HTTP request sent, awaiting response... 200 OK\n",
      "Length: 55026 (54K) [text/plain]\n",
      "Saving to: ‘popular-names.txt’\n",
      "\n",
      "popular-names.txt   100%[===================>]  53.74K  --.-KB/s    in 0.02s   \n",
      "\n",
      "2021-04-17 05:56:13 (3.20 MB/s) - ‘popular-names.txt’ saved [55026/55026]\n",
      "\n"
     ]
    }
   ],
   "source": [
    "!wget https://nlp100.github.io/data/popular-names.txt"
   ]
  },
  {
   "cell_type": "markdown",
   "id": "3f18f2c4-f5fb-4a17-b04e-99aaf4ff7968",
   "metadata": {},
   "source": [
    "### 10. 行数のカウント\n",
    "行数をカウントせよ．確認にはwcコマンドを用いよ．"
   ]
  },
  {
   "cell_type": "code",
   "execution_count": 35,
   "id": "c033f8c4-7c8b-49c1-9588-cafeea83754e",
   "metadata": {},
   "outputs": [
    {
     "name": "stdout",
     "output_type": "stream",
     "text": [
      "2780 popular-names.txt\n"
     ]
    }
   ],
   "source": [
    "!wc -l popular-names.txt"
   ]
  },
  {
   "cell_type": "markdown",
   "id": "156c7588-19ac-4f0e-a986-fa360bc9900d",
   "metadata": {},
   "source": [
    "### 11. タブをスペースに置換\n",
    "タブ1文字につきスペース1文字に置換せよ．確認にはsedコマンド，trコマンド，もしくはexpandコマンドを用いよ．"
   ]
  },
  {
   "cell_type": "code",
   "execution_count": 36,
   "id": "16c9a157-bff5-470d-b847-5015604ce5b2",
   "metadata": {},
   "outputs": [
    {
     "name": "stdout",
     "output_type": "stream",
     "text": [
      "Mary F 7065 1880\n",
      "Anna F 2604 1880\n",
      "Emma F 2003 1880\n",
      "Elizabeth F 1939 1880\n",
      "Minnie F 1746 1880\n",
      "sed: couldn't write 17 items to stdout: Broken pipe\n"
     ]
    }
   ],
   "source": [
    "!sed -e 's/\\s/ /g' popular-names.txt | head -n 5"
   ]
  },
  {
   "cell_type": "code",
   "execution_count": 30,
   "id": "694ca7b0-55a3-4e63-b33b-0b9dc7f48761",
   "metadata": {},
   "outputs": [
    {
     "name": "stdout",
     "output_type": "stream",
     "text": [
      "[Errno 2] No such file or directory: 'nlp_100'\n",
      "/home/work/work/Problem_100/nlp_100\n"
     ]
    }
   ],
   "source": [
    "cd nlp_100"
   ]
  },
  {
   "cell_type": "code",
   "execution_count": 33,
   "id": "af5cb8a0-66bf-4b22-89fb-c5da01f29e57",
   "metadata": {},
   "outputs": [
    {
     "name": "stdout",
     "output_type": "stream",
     "text": [
      "nlp_100.ipynb  popular-names.txt\n"
     ]
    }
   ],
   "source": [
    "ls"
   ]
  }
 ],
 "metadata": {
  "kernelspec": {
   "display_name": "Python 3",
   "language": "python",
   "name": "python3"
  },
  "language_info": {
   "codemirror_mode": {
    "name": "ipython",
    "version": 3
   },
   "file_extension": ".py",
   "mimetype": "text/x-python",
   "name": "python",
   "nbconvert_exporter": "python",
   "pygments_lexer": "ipython3",
   "version": "3.9.4"
  },
  "widgets": {
   "application/vnd.jupyter.widget-state+json": {
    "state": {},
    "version_major": 2,
    "version_minor": 0
   }
  }
 },
 "nbformat": 4,
 "nbformat_minor": 5
}
