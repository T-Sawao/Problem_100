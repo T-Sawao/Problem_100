{
 "cells": [
  {
   "cell_type": "markdown",
   "metadata": {
    "colab_type": "text",
    "id": "view-in-github"
   },
   "source": [
    "<a href=\"https://colab.research.google.com/github/yoyoyo-yo/Gasyori100knock/blob/master/Question_11_20/Question_11_20.ipynb\" target=\"_parent\"><img src=\"https://colab.research.google.com/assets/colab-badge.svg\" alt=\"Open In Colab\"/></a>"
   ]
  },
  {
   "cell_type": "markdown",
   "metadata": {
    "colab_type": "text",
    "id": "XmIVQTSIjCBO"
   },
   "source": [
    "# Question 11 - 20\n",
    "\n",
    "- Q.11 平滑化フィルタ\n",
    "- Q.12 モーションフィルタ\n",
    "- Q.13 Max-Minフィルタ\n",
    "- Q.14 微分フィルタ\n",
    "- Q.15 プリューウィットフィルタ\n",
    "- Q.16　ソーベルフィルタ\n",
    "- Q.17 ラプラシアンフィルタ\n",
    "- Q.18 エンボスフィルタ\n",
    "- Q.19 LoGフィルタ\n",
    "- Q.20 ヒストグラム表示"
   ]
  },
  {
   "cell_type": "code",
   "execution_count": 1,
   "metadata": {
    "colab": {
     "base_uri": "https://localhost:8080/",
     "height": 221
    },
    "colab_type": "code",
    "id": "24BzkAwcjCBQ",
    "outputId": "061928a0-733e-47c8-af52-8d76944778e8",
    "scrolled": true
   },
   "outputs": [
    {
     "name": "stdout",
     "output_type": "stream",
     "text": [
      "Requirement already satisfied: numpy in /usr/local/lib/python3.9/site-packages (1.20.1)\n",
      "Requirement already satisfied: matplotlib in /usr/local/lib/python3.9/site-packages (3.3.4)\n",
      "Requirement already satisfied: opencv-python in /usr/local/lib/python3.9/site-packages (4.5.1.48)\n",
      "Requirement already satisfied: sklearn in /usr/local/lib/python3.9/site-packages (0.0)\n",
      "Requirement already satisfied: kiwisolver>=1.0.1 in /usr/local/lib/python3.9/site-packages (from matplotlib) (1.3.1)\n",
      "Requirement already satisfied: pyparsing!=2.0.4,!=2.1.2,!=2.1.6,>=2.0.3 in /usr/local/lib/python3.9/site-packages (from matplotlib) (2.4.7)\n",
      "Requirement already satisfied: cycler>=0.10 in /usr/local/lib/python3.9/site-packages (from matplotlib) (0.10.0)\n",
      "Requirement already satisfied: pillow>=6.2.0 in /usr/local/lib/python3.9/site-packages (from matplotlib) (8.1.1)\n",
      "Requirement already satisfied: python-dateutil>=2.1 in /usr/local/lib/python3.9/site-packages (from matplotlib) (2.8.1)\n",
      "Requirement already satisfied: six in /usr/local/lib/python3.9/site-packages (from cycler>=0.10->matplotlib) (1.15.0)\n",
      "Requirement already satisfied: scikit-learn in /usr/local/lib/python3.9/site-packages (from sklearn) (0.24.1)\n",
      "Requirement already satisfied: scipy>=0.19.1 in /usr/local/lib/python3.9/site-packages (from scikit-learn->sklearn) (1.6.1)\n",
      "Requirement already satisfied: joblib>=0.11 in /usr/local/lib/python3.9/site-packages (from scikit-learn->sklearn) (1.0.1)\n",
      "Requirement already satisfied: threadpoolctl>=2.0.0 in /usr/local/lib/python3.9/site-packages (from scikit-learn->sklearn) (2.1.0)\n"
     ]
    }
   ],
   "source": [
    "!pip install numpy matplotlib opencv-python sklearn"
   ]
  },
  {
   "cell_type": "code",
   "execution_count": 2,
   "metadata": {},
   "outputs": [
    {
     "name": "stdout",
     "output_type": "stream",
     "text": [
      "Requirement already satisfied: opencv-python in /usr/local/lib/python3.9/site-packages (4.5.1.48)\n",
      "Requirement already satisfied: numpy>=1.19.3 in /usr/local/lib/python3.9/site-packages (from opencv-python) (1.20.1)\n",
      "Note: you may need to restart the kernel to use updated packages.\n"
     ]
    }
   ],
   "source": [
    "pip install opencv-python"
   ]
  },
  {
   "cell_type": "code",
   "execution_count": 3,
   "metadata": {},
   "outputs": [
    {
     "name": "stdout",
     "output_type": "stream",
     "text": [
      "Requirement already satisfied: opencv-contrib-python in /usr/local/lib/python3.9/site-packages (4.5.1.48)\n",
      "Requirement already satisfied: numpy>=1.19.3 in /usr/local/lib/python3.9/site-packages (from opencv-contrib-python) (1.20.1)\n",
      "Note: you may need to restart the kernel to use updated packages.\n"
     ]
    }
   ],
   "source": [
    "pip install opencv-contrib-python"
   ]
  },
  {
   "cell_type": "code",
   "execution_count": 4,
   "metadata": {},
   "outputs": [
    {
     "name": "stdout",
     "output_type": "stream",
     "text": [
      "\n",
      "Usage:   \n",
      "  /usr/local/bin/python -m pip install [options] <requirement specifier> [package-index-options] ...\n",
      "  /usr/local/bin/python -m pip install [options] -r <requirements file> [package-index-options] ...\n",
      "  /usr/local/bin/python -m pip install [options] [-e] <vcs project url> ...\n",
      "  /usr/local/bin/python -m pip install [options] [-e] <local project path> ...\n",
      "  /usr/local/bin/python -m pip install [options] <archive url/path> ...\n",
      "\n",
      "no such option: -y\n",
      "Note: you may need to restart the kernel to use updated packages.\n"
     ]
    }
   ],
   "source": [
    "pip install -y libgl1-mesa-dev"
   ]
  },
  {
   "cell_type": "code",
   "execution_count": 7,
   "metadata": {},
   "outputs": [
    {
     "ename": "SyntaxError",
     "evalue": "invalid syntax (<ipython-input-7-d7f934de68ef>, line 1)",
     "output_type": "error",
     "traceback": [
      "\u001b[0;36m  File \u001b[0;32m\"<ipython-input-7-d7f934de68ef>\"\u001b[0;36m, line \u001b[0;32m1\u001b[0m\n\u001b[0;31m    RUN apt-get update && apt-get upgrade -y\u001b[0m\n\u001b[0m        ^\u001b[0m\n\u001b[0;31mSyntaxError\u001b[0m\u001b[0;31m:\u001b[0m invalid syntax\n"
     ]
    }
   ],
   "source": [
    "RUN apt-get update && apt-get upgrade -y"
   ]
  },
  {
   "cell_type": "code",
   "execution_count": 5,
   "metadata": {
    "colab": {
     "base_uri": "https://localhost:8080/",
     "height": 162
    },
    "colab_type": "code",
    "id": "11wrcKQxjCBa",
    "outputId": "d57adbac-2e0a-40e9-c606-6998869e3453"
   },
   "outputs": [
    {
     "ename": "ImportError",
     "evalue": "libGL.so.1: cannot open shared object file: No such file or directory",
     "output_type": "error",
     "traceback": [
      "\u001b[0;31m---------------------------------------------------------------------------\u001b[0m",
      "\u001b[0;31mImportError\u001b[0m                               Traceback (most recent call last)",
      "\u001b[0;32m<ipython-input-5-52180d636eba>\u001b[0m in \u001b[0;36m<module>\u001b[0;34m\u001b[0m\n\u001b[1;32m      1\u001b[0m \u001b[0;32mimport\u001b[0m \u001b[0mnumpy\u001b[0m \u001b[0;32mas\u001b[0m \u001b[0mnp\u001b[0m\u001b[0;34m\u001b[0m\u001b[0;34m\u001b[0m\u001b[0m\n\u001b[1;32m      2\u001b[0m \u001b[0;32mimport\u001b[0m \u001b[0mmatplotlib\u001b[0m\u001b[0;34m.\u001b[0m\u001b[0mpyplot\u001b[0m \u001b[0;32mas\u001b[0m \u001b[0mplt\u001b[0m\u001b[0;34m\u001b[0m\u001b[0;34m\u001b[0m\u001b[0m\n\u001b[0;32m----> 3\u001b[0;31m \u001b[0;32mimport\u001b[0m \u001b[0mcv2\u001b[0m\u001b[0;34m\u001b[0m\u001b[0;34m\u001b[0m\u001b[0m\n\u001b[0m\u001b[1;32m      4\u001b[0m \u001b[0;32mfrom\u001b[0m \u001b[0mskimage\u001b[0m \u001b[0;32mimport\u001b[0m \u001b[0mio\u001b[0m\u001b[0;34m\u001b[0m\u001b[0;34m\u001b[0m\u001b[0m\n\u001b[1;32m      5\u001b[0m \u001b[0;34m\u001b[0m\u001b[0m\n",
      "\u001b[0;32m/usr/local/lib/python3.9/site-packages/cv2/__init__.py\u001b[0m in \u001b[0;36m<module>\u001b[0;34m\u001b[0m\n\u001b[1;32m      3\u001b[0m \u001b[0;32mimport\u001b[0m \u001b[0msys\u001b[0m\u001b[0;34m\u001b[0m\u001b[0;34m\u001b[0m\u001b[0m\n\u001b[1;32m      4\u001b[0m \u001b[0;34m\u001b[0m\u001b[0m\n\u001b[0;32m----> 5\u001b[0;31m \u001b[0;32mfrom\u001b[0m \u001b[0;34m.\u001b[0m\u001b[0mcv2\u001b[0m \u001b[0;32mimport\u001b[0m \u001b[0;34m*\u001b[0m\u001b[0;34m\u001b[0m\u001b[0;34m\u001b[0m\u001b[0m\n\u001b[0m\u001b[1;32m      6\u001b[0m \u001b[0;32mfrom\u001b[0m \u001b[0;34m.\u001b[0m\u001b[0mdata\u001b[0m \u001b[0;32mimport\u001b[0m \u001b[0;34m*\u001b[0m\u001b[0;34m\u001b[0m\u001b[0;34m\u001b[0m\u001b[0m\n\u001b[1;32m      7\u001b[0m \u001b[0;34m\u001b[0m\u001b[0m\n",
      "\u001b[0;31mImportError\u001b[0m: libGL.so.1: cannot open shared object file: No such file or directory"
     ]
    }
   ],
   "source": [
    "import numpy as np\n",
    "import matplotlib.pyplot as plt\n",
    "import cv2\n",
    "from skimage import io\n",
    "\n",
    "img_orig = io.imread('https://yoyoyo-yo.github.io/Gasyori100knock/assets/imori_256x256.png')\n",
    "img_noise = io.imread('https://yoyoyo-yo.github.io/Gasyori100knock/assets/imori_256x256_noise.png')\n",
    "img_gray = cv2.cvtColor(img_orig, cv2.COLOR_RGB2GRAY)\n",
    "\n",
    "plt.subplot(1, 3, 1); plt.imshow(img_orig); plt.title('orig')\n",
    "plt.subplot(1, 3, 2); plt.imshow(img_noise); plt.title('noise')\n",
    "plt.subplot(1, 3, 3); plt.imshow(img_gray, cmap='gray'); plt.title('gray')\n",
    "plt.show()"
   ]
  },
  {
   "cell_type": "markdown",
   "metadata": {
    "colab_type": "text",
    "id": "D8A-Vlc-jN1H"
   },
   "source": [
    "## Q.11 平滑化フィルタ, Smoothing filter\n",
    "\n",
    "ノイズ画像に対して、平滑化フィルタ(5x5)をかけよ。\n",
    "\n",
    "平滑化フィルタはフィルタ内の画素の平均値を出力するフィルタである。"
   ]
  },
  {
   "cell_type": "code",
   "execution_count": null,
   "metadata": {
    "colab": {
     "base_uri": "https://localhost:8080/",
     "height": 227
    },
    "colab_type": "code",
    "id": "Bdju3YpyjXcq",
    "outputId": "a6e7f273-5e1b-4d14-e1b2-6fdcd816290c"
   },
   "outputs": [],
   "source": [
    "# opencv\n",
    "img_smoth = cv2.blur(img_noise, (5, 5)) # smoothing filtering\n",
    "\n",
    "plt.figure(figsize=(12, 3))\n",
    "plt.subplot(1, 2, 1); plt.title('input'); plt.imshow(img_noise)\n",
    "plt.subplot(1, 2, 2); plt.title('answer'); plt.imshow(img_smoth)\n",
    "plt.show()"
   ]
  },
  {
   "cell_type": "code",
   "execution_count": null,
   "metadata": {
    "colab": {
     "base_uri": "https://localhost:8080/",
     "height": 227
    },
    "colab_type": "code",
    "id": "6E-S10NujzsS",
    "outputId": "5bf871e0-3937-4408-da8e-1bbdc14d2628"
   },
   "outputs": [],
   "source": [
    "# answer\n",
    "def filter_smooth(img, ksize=(3, 3)):\n",
    "    _img = img.copy().astype(np.float32)\n",
    "    ksize_h, ksize_w = ksize\n",
    "    \n",
    "    # padding\n",
    "    h, w = img.shape[:2]\n",
    "    pad_top, pad_bottom = ksize_h, ksize_h\n",
    "    pad_left, pad_right = ksize_w, ksize_w\n",
    "    \n",
    "    _img = np.pad(_img, [(pad_top, pad_bottom), (pad_left, pad_right), (0, 0)], 'edge')\n",
    "    out = np.zeros_like(_img)\n",
    "    \n",
    "    new_h, new_w = out.shape[:2]\n",
    "    c = 1 if len(out.shape) == 2 else out.shape[2]\n",
    "\n",
    "    # filtering\n",
    "    for iy in range(new_h - ksize_h):\n",
    "        for ix in range(new_w - ksize_w):\n",
    "            for ic in range(c):\n",
    "                out[iy, ix, ic] = np.mean(_img[iy : iy + ksize_h, ix : ix + ksize_w, ic])\n",
    "            \n",
    "    out = out[pad_top : pad_top + h, pad_left : pad_left + w]\n",
    "    return np.clip(out, 0, 255).astype(np.uint8)\n",
    "\n",
    "img_smoth = filter_smooth(img_noise, (5, 5))\n",
    "plt.figure(figsize=(12, 3))\n",
    "plt.subplot(1, 2, 1); plt.title('input'); plt.imshow(img_noise)\n",
    "plt.subplot(1, 2, 2); plt.title('answer'); plt.imshow(img_smoth)\n",
    "plt.show()"
   ]
  },
  {
   "cell_type": "markdown",
   "metadata": {
    "colab_type": "text",
    "id": "jWpxkxuFkqu2"
   },
   "source": [
    "## カーネルサイズを変えてみる\n",
    "\n",
    "カーネルサイズを大きくすると、ノイズが消えると同時に画像がぼやけるようになる。"
   ]
  },
  {
   "cell_type": "code",
   "execution_count": null,
   "metadata": {
    "colab": {
     "base_uri": "https://localhost:8080/",
     "height": 227
    },
    "colab_type": "code",
    "id": "HqmuGJiHkiYs",
    "outputId": "9ca12bf5-0186-4ece-e6b5-8ecb495119bd"
   },
   "outputs": [],
   "source": [
    "img_smooth = filter_smooth(img_noise, (9, 9))\n",
    "plt.figure(figsize=(12, 3))\n",
    "plt.subplot(1, 2, 1); plt.title('input'); plt.imshow(img_noise)\n",
    "plt.subplot(1, 2, 2); plt.title('answer'); plt.imshow(img_smooth)\n",
    "plt.show()"
   ]
  },
  {
   "cell_type": "markdown",
   "metadata": {
    "colab_type": "text",
    "id": "nAre7DAplVe_"
   },
   "source": [
    "## Q.12 モーションフィルタ, Motion filter\n",
    "\n",
    "モーションフィルタ(5x5)を実装せよ。\n",
    "\n",
    "モーションフィルタとは対角方向の平均値を取るフィルタであり、k x kのフィルタは次式で定義される。\n",
    "\n",
    "$\n",
    "\\begin{pmatrix}\n",
    "\\frac{1}{k} & 0 & ... & 0 \\\\\n",
    "0 & \\frac{1}{k} & ... & 0 \\\\\n",
    "... \\\\\n",
    "0 & 0 & ... & \\frac{1}{k}\n",
    "\\end{pmatrix}\n",
    "$\n",
    "\n",
    "例えば、カーネルサイズ3x3では次式となる。\n",
    "\n",
    "$\n",
    "\\begin{pmatrix}\n",
    "\\frac{1}{3} & 0 & 0 \\\\\n",
    "0 & \\frac{1}{3} & 0 \\\\\n",
    "0 & 0 & \\frac{1}{3}\n",
    "\\end{pmatrix}\n",
    "$"
   ]
  },
  {
   "cell_type": "code",
   "execution_count": null,
   "metadata": {
    "colab": {
     "base_uri": "https://localhost:8080/",
     "height": 227
    },
    "colab_type": "code",
    "id": "KW6Zfn3PlGgX",
    "outputId": "d06967be-da46-43e5-ac65-2404da69707e"
   },
   "outputs": [],
   "source": [
    "# answer 1\n",
    "def filter_motion(img, k_size=(3, 3)):\n",
    "    kernel = np.zeros(k_size) \n",
    "    kernel[range(k_size[0]), range(k_size[0])] = 1 / k_size[0]\n",
    "    return cv2.filter2D(img, -1, kernel) \n",
    "  \n",
    "img_motion = filter_motion(img_orig, k_size=(5, 5))\n",
    "\n",
    "plt.figure(figsize=(12, 3))\n",
    "plt.subplot(1, 2, 1); plt.title('input'); plt.imshow(img_orig)\n",
    "plt.subplot(1, 2, 2); plt.title('answer'); plt.imshow(img_motion)\n",
    "plt.show()"
   ]
  },
  {
   "cell_type": "code",
   "execution_count": null,
   "metadata": {
    "colab": {
     "base_uri": "https://localhost:8080/",
     "height": 227
    },
    "colab_type": "code",
    "id": "zcYnTtvnnOUk",
    "outputId": "ed6a53b4-52c0-4cbc-ec89-7f451311052e"
   },
   "outputs": [],
   "source": [
    "# answer 2\n",
    "def filter_motion(img, k_size=(3, 3)):\n",
    "    _img = img.copy().astype(np.float32)\n",
    "    ksize_h, ksize_w = k_size\n",
    "    \n",
    "    # padding\n",
    "    h, w = img.shape[:2]\n",
    "    pad_top, pad_bottom = ksize_h, ksize_h\n",
    "    pad_left, pad_right = ksize_w, ksize_w\n",
    "    \n",
    "    _img = np.pad(_img, [(pad_top, pad_bottom), (pad_left, pad_right), (0, 0)], 'edge')\n",
    "    out = np.zeros_like(_img)\n",
    "    \n",
    "    new_h, new_w = out.shape[:2]\n",
    "    c = 1 if len(out.shape) == 2 else out.shape[2]\n",
    "\n",
    "    # define kernel\n",
    "    k = np.zeros(k_size) \n",
    "    k[range(k_size[0]), range(k_size[0])] = 1 / k_size[0]\n",
    "\n",
    "    # filtering\n",
    "    for iy in range(new_h - ksize_h):\n",
    "        for ix in range(new_w - ksize_w):\n",
    "            for ic in range(c):\n",
    "                out[iy, ix, ic] = np.sum(_img[iy : iy + ksize_h, ix : ix + ksize_w, ic] * k)\n",
    "            \n",
    "    out = out[pad_top : pad_top + h, pad_left : pad_left + w]\n",
    "    return np.clip(out, 0, 255).astype(np.uint8)\n",
    "\n",
    "img_motion = filter_motion(img_orig, (5, 5))\n",
    "plt.figure(figsize=(12, 3))\n",
    "plt.subplot(1, 2, 1); plt.title('input'); plt.imshow(img_orig)\n",
    "plt.subplot(1, 2, 2); plt.title('answer'); plt.imshow(img_motion)\n",
    "plt.show()"
   ]
  },
  {
   "cell_type": "markdown",
   "metadata": {
    "colab_type": "text",
    "id": "YpM5ue-_pKsE"
   },
   "source": [
    "## Q.13 Max-Minフィルタ, Max-Min filter\n",
    "\n",
    "グレースケールに対してMAX-MINフィルタ(3x3)を実装せよ。\n",
    "\n",
    "MAX-MINフィルタとはフィルタ内の画素の最大値と最小値の差を出力するフィルタであり、**エッジ検出**のフィルタの一つである。\n",
    "\n",
    "エッジ検出とは画像内の線を検出るすることであり、このような画像内の情報を抜き出す操作を**特徴抽出**と呼ぶ。\n",
    "\n",
    "エッジ検出では多くの場合、グレースケール画像に対してフィルタリングを行う。"
   ]
  },
  {
   "cell_type": "code",
   "execution_count": null,
   "metadata": {
    "colab": {
     "base_uri": "https://localhost:8080/",
     "height": 227
    },
    "colab_type": "code",
    "id": "80k0yyyTn-iE",
    "outputId": "6a57c36a-45bf-488c-dacf-d6432a521874"
   },
   "outputs": [],
   "source": [
    "# answer\n",
    "def filter_max_min(img, ksize=(5, 5)):\n",
    "    _img = img.copy().astype(np.float32)\n",
    "    ksize_h, ksize_w = ksize\n",
    "    \n",
    "    # padding\n",
    "    h, w = img.shape[:2]\n",
    "    pad_top, pad_bottom = ksize_h, ksize_h\n",
    "    pad_left, pad_right = ksize_w, ksize_w\n",
    "    \n",
    "    if len(_img.shape) == 2:\n",
    "        _img = np.expand_dims(_img, axis=-1)\n",
    "\n",
    "    _img = np.pad(_img, [(pad_top, pad_bottom), (pad_left, pad_right), (0, 0)], 'edge')\n",
    "    out = np.zeros_like(_img)\n",
    "    \n",
    "    new_h, new_w = out.shape[:2]\n",
    "    c = 1 if len(out.shape) == 2 else out.shape[2]\n",
    "\n",
    "    # filtering\n",
    "    for iy in range(new_h - ksize_h):\n",
    "        for ix in range(new_w - ksize_w):\n",
    "            for ic in range(c):\n",
    "                out[iy, ix, ic] = _img[iy : iy + ksize_h, ix : ix + ksize_w, ic].max() - _img[iy : iy + ksize_h, ix : ix + ksize_w, ic].min()\n",
    "            \n",
    "    out = out[pad_top : pad_top + h, pad_left : pad_left + w]\n",
    "    return np.clip(out, 0, 255).astype(np.uint8)\n",
    "\n",
    "img_mm = filter_max_min(img_gray, (5, 5))\n",
    "plt.figure(figsize=(12, 3))\n",
    "plt.subplot(1, 2, 1); plt.title('input'); plt.imshow(img_gray, cmap='gray')\n",
    "plt.subplot(1, 2, 2); plt.title('answer'); plt.imshow(img_mm[..., 0], cmap='gray')\n",
    "plt.show()"
   ]
  },
  {
   "cell_type": "markdown",
   "metadata": {
    "colab_type": "text",
    "id": "PL_I3aTitXUm"
   },
   "source": [
    "## Q.14. 微分フィルタ, Differential filter\n",
    "\n",
    "グレースケールに対して、微分フィルタ(3x3)を実装せよ。\n",
    "\n",
    "微分フィルタは輝度の急激な変化が起こっている部分のエッジを取り出すフィルタであり、隣り合う画素同士の差を取る。赤線のR成分を取り出すと輪郭や、目の境目など色が変わる部分でR値が急激に変化している。この部分がエッジとなる。"
   ]
  },
  {
   "cell_type": "code",
   "execution_count": null,
   "metadata": {
    "colab": {
     "base_uri": "https://localhost:8080/",
     "height": 265
    },
    "colab_type": "code",
    "id": "Coo8ZYiuQ-ch",
    "outputId": "5fc4e542-4837-4b4d-dfd5-45a3edebccb0"
   },
   "outputs": [],
   "source": [
    "_w = img_orig.shape[1]\n",
    "plt.figure(figsize=(12, 4))\n",
    "plt.subplot(1, 3, 1); plt.imshow(img_orig); plt.plot(np.arange(_w), [150] * _w, color='red')\n",
    "plt.subplot(1, 3, 2); plt.plot(np.arange(_w), img_orig[150, :, 0])\n",
    "plt.show()"
   ]
  },
  {
   "cell_type": "markdown",
   "metadata": {
    "colab_type": "text",
    "id": "tmLDWzUkSdFb"
   },
   "source": [
    "この色の変化量は微分で表される。I(x, y)は画像の(x, y)の位置の輝度にあたる。\n",
    "\n",
    "$\\frac{\\partial I(x, y)}{\\partial x} = \\frac{I(x + 1, y) - I(x, y)}{(x + 1) - x} = I(x + 1, y) - I(x, y)$\n",
    "\n",
    "つまり隣合うピクセルの差分がピクセルの微分値になる。これを縦方向、横方向で表すと次のフィルタを適用するのと同じになる。\n",
    "$\n",
    "\\begin{align}\n",
    "k_x = \\begin{pmatrix}\n",
    "0 & 0 & 0 \\\\\n",
    "-1 & 1 & 0 \\\\\n",
    "0 & 0 & 0\n",
    "\\end{pmatrix}  & \\,\\, ,\n",
    "k_y = \\begin{pmatrix}\n",
    "0 & -1 & 0 \\\\\n",
    "0 & 1 & 0 \\\\\n",
    "0 & 0 & 0\n",
    "\\end{pmatrix}\n",
    "\\end{align}\n",
    "$"
   ]
  },
  {
   "cell_type": "code",
   "execution_count": null,
   "metadata": {
    "colab": {
     "base_uri": "https://localhost:8080/",
     "height": 227
    },
    "colab_type": "code",
    "id": "TnoGdLwOrljR",
    "outputId": "d9b5c04e-82a6-41ed-cd6d-6c14cab2022f"
   },
   "outputs": [],
   "source": [
    "# answer\n",
    "def filter_diff(img, mode='y'):\n",
    "    kernel = np.array([[0, 0, 0], [-1, 1, 0], [0, 0, 0]])\n",
    "    if mode == 'y':\n",
    "        kernel = np.array([[0, -1, 0], [0, 1, 0], [0, 0, 0]])\n",
    "    return cv2.filter2D(img, -1, kernel) \n",
    "  \n",
    "img_diff_x = filter_diff(img_gray)\n",
    "img_diff_y = filter_diff(img_gray, mode='y')\n",
    "\n",
    "plt.figure(figsize=(12, 3))\n",
    "plt.subplot(1, 3, 1); plt.title('input'); plt.imshow(img_orig, cmap='gray')\n",
    "plt.subplot(1, 3, 2); plt.title('answer x'); plt.imshow(img_diff_x, cmap='gray')\n",
    "plt.subplot(1, 3, 3); plt.title('answer y'); plt.imshow(img_diff_y, cmap='gray')\n",
    "plt.show()"
   ]
  },
  {
   "cell_type": "markdown",
   "metadata": {
    "colab_type": "text",
    "id": "m5y8ehvXwMYp"
   },
   "source": [
    "## Q.15. プリューウィットフィルタ, Prewitt filter\n",
    "\n",
    "グレースケールに対して、Prewittフィルタ(5x5)を実装せよ。\n",
    "\n",
    "Prewitt(プレウィット)フィルタはエッジ抽出フィルタの一種であり、カーネルサイズk x kでは次式で定義される。\n",
    "\n",
    "$\n",
    "\\begin{align}\n",
    "k_x = \\begin{pmatrix}\n",
    "1 & 0 & ... 0 & -1 \\\\\n",
    "1 & 0 & ... 0 & -1 \\\\\n",
    "... \\\\\n",
    "1 & 0 & ... 0 & -1\n",
    "\\end{pmatrix}  & \\,\\, ,\n",
    "k_y = \\begin{pmatrix}\n",
    "1 & 1 & ... & 1 \\\\\n",
    "0 & 0 & ... & 0 \\\\\n",
    "... \\\\\n",
    "-1 & -1 & ... & -1\n",
    "\\end{pmatrix}\n",
    "\\end{align}\n",
    "$\n"
   ]
  },
  {
   "cell_type": "code",
   "execution_count": null,
   "metadata": {
    "colab": {
     "base_uri": "https://localhost:8080/",
     "height": 227
    },
    "colab_type": "code",
    "id": "6E3NluZsv2zq",
    "outputId": "086e9dda-20c4-47ee-b3b4-8f95a1d04293"
   },
   "outputs": [],
   "source": [
    "# answer\n",
    "def filter_prewitt(img, k_size=(3, 3), mode='x'):\n",
    "    k = np.zeros(k_size)\n",
    "    if mode == 'x':\n",
    "        k[:, 0] = 1\n",
    "        k[:, -1] = -1\n",
    "    else:\n",
    "        k[0] = 1\n",
    "        k[-1] = -1\n",
    "    return cv2.filter2D(img, -1, k) \n",
    "  \n",
    "img_prewitt_x = filter_prewitt(img_gray)\n",
    "img_prewitt_y = filter_prewitt(img_gray, mode='y')\n",
    "\n",
    "plt.figure(figsize=(12, 3))\n",
    "plt.subplot(1, 3, 1); plt.title('input'); plt.imshow(img_orig, cmap='gray')\n",
    "plt.subplot(1, 3, 2); plt.title('answer x'); plt.imshow(img_prewitt_x, cmap='gray')\n",
    "plt.subplot(1, 3, 3); plt.title('answer y'); plt.imshow(img_prewitt_y, cmap='gray')\n",
    "plt.show()"
   ]
  },
  {
   "cell_type": "markdown",
   "metadata": {
    "colab_type": "text",
    "id": "giTI4y8myH8A"
   },
   "source": [
    "## Q.16. ソーベルフィルタ, Sobel filter\n",
    "\n",
    "グレースケール に対して、Sobelフィルタ(3x3)を実装せよ。\n",
    "\n",
    "Sobelフィルタもエッジを抽出するフィルタであり、次式でそれぞれ定義される。\n",
    "これはprewittフィルタの中心部分に重みをつけたフィルタである。\n",
    "\n",
    "$\n",
    "\\begin{align}\n",
    "k_x = \\begin{pmatrix}\n",
    "1 & 0 & ... 0 & -1 \\\\\n",
    "... \\\\\n",
    "1 & 0 & ... 0 & -1\\\\\n",
    "2 & 0 & ... 0 & -2 \\\\\n",
    "1 & 0 & ... 0 & -1\\\\\n",
    "... \\\\\n",
    "1 & 0 & ... 0 & -1\n",
    "\\end{pmatrix} & \\,\\, ,\n",
    "k_y = \\begin{pmatrix}\n",
    "1 & ... & 1 & 2 & 1 & ... & 1 \\\\\n",
    "0 & ...  \\\\\n",
    "... \\\\\n",
    "-1 & ... & -1 & -2 & -1 & ... & -1\n",
    "\\end{pmatrix}\n",
    "\\end{align}  \n",
    "$\n"
   ]
  },
  {
   "cell_type": "code",
   "execution_count": null,
   "metadata": {
    "colab": {
     "base_uri": "https://localhost:8080/",
     "height": 227
    },
    "colab_type": "code",
    "id": "ghCPF6Cpxtxk",
    "outputId": "a151b3e6-3783-4797-f81b-c6f579406efc"
   },
   "outputs": [],
   "source": [
    "# opencv\n",
    "img_sobel_x = cv2.Sobel(img_gray, cv2.CV_32F, 1, 0, ksize=3)\n",
    "img_sobel_x -= img_sobel_x.min()  # normalize > [0, 1]\n",
    "img_sobel_x /= img_sobel_x.max()\n",
    "img_sobel_y = cv2.Sobel(img_gray, cv2.CV_32F, 0, 1, ksize=3)\n",
    "img_sobel_y -= img_sobel_y.min()  # normalize > [0, 1]\n",
    "img_sobel_y /= img_sobel_y.max()\n",
    "\n",
    "plt.figure(figsize=(12, 3))\n",
    "plt.subplot(1, 3, 1); plt.title('input'); plt.imshow(img_orig, cmap='gray')\n",
    "plt.subplot(1, 3, 2); plt.title('answer x'); plt.imshow(img_sobel_x, cmap='gray')\n",
    "plt.subplot(1, 3, 3); plt.title('answer y'); plt.imshow(img_sobel_y, cmap='gray')\n",
    "plt.show()"
   ]
  },
  {
   "cell_type": "code",
   "execution_count": null,
   "metadata": {
    "colab": {
     "base_uri": "https://localhost:8080/",
     "height": 227
    },
    "colab_type": "code",
    "id": "7Fi4-hDIzJLa",
    "outputId": "ceb70256-7c0b-48e7-d627-1b8f7888f089"
   },
   "outputs": [],
   "source": [
    "# answer\n",
    "def filter_sobel(img, k_size=(3, 3), mode='x'):\n",
    "    k = np.zeros(k_size)\n",
    "    if mode == 'x':\n",
    "        k[:, 0] = 1\n",
    "        k[k_size[0] // 2, 0] = 2\n",
    "        k[:, -1] = -1\n",
    "        k[k_size[0] // 2, -1] = -2\n",
    "    else:\n",
    "        k[0] = 1\n",
    "        k[0, k_size[0] // 2] = 2\n",
    "        k[-1] = -1\n",
    "        k[-1, k_size[0] // 2] = -2\n",
    "    out = cv2.filter2D(img.astype(np.float32), -1, k)\n",
    "    out -= out.min()  # normalize > [0, 1]\n",
    "    out /= out.max()\n",
    "    return out\n",
    "  \n",
    "img_sobel_x = filter_sobel(img_gray)\n",
    "img_sobel_y = filter_sobel(img_gray, mode='y')\n",
    "\n",
    "plt.figure(figsize=(12, 3))\n",
    "plt.subplot(1, 3, 1); plt.title('input'); plt.imshow(img_orig, cmap='gray')\n",
    "plt.subplot(1, 3, 2); plt.title('answer x'); plt.imshow(img_sobel_x, cmap='gray')\n",
    "plt.subplot(1, 3, 3); plt.title('answer y'); plt.imshow(img_sobel_y, cmap='gray')\n",
    "plt.show()"
   ]
  },
  {
   "cell_type": "markdown",
   "metadata": {
    "colab_type": "text",
    "id": "Qo7qf36X44Z2"
   },
   "source": [
    "## Q.17. ラプラシアンフィルタ, Laplacian filter\n",
    "\n",
    "グレースケールに対して、Laplacianフィルタを実装せよ。\n",
    "\n",
    "Laplacianフィルタとは輝度の二次微分をとることでエッジ検出を行うフィルタである。\n",
    "\n",
    "デジタル画像は離散データであるので、x方向・y方向の一次微分は、それぞれ次式で表される。（微分フィルタと同じ）\n",
    "\n",
    "$I_x = I(x + 1, y) - I(x, y)$\n",
    "$I_y = I(x, y + 1) - I(x, y)$\n",
    "\n",
    "さらに、二次微分は次式となる。\n",
    "\n",
    "$\n",
    "I_{xx} = \\frac{I_x(x, y) - I_x(x -1, y)}{(x + 1) - x} = I_x(x, y) - I_x(x - 1, y) = I(x + 1, y) - 2I(x, y) + I(x - 1, y)\n",
    "$\n",
    "\n",
    "$I_{yy} = I(x, y + 1) - 2I(x, y) + I(x, y - 1)$\n",
    "\n",
    "これらより、ラプラシアンはx,yの両方の偏微分の和となり、次式で定義される。\n",
    "\n",
    "$D^2I(x, y) = I_{xx} + I_{yy} = I(x + 1, y) + I(x, y + 1) - 4I(x, y) + I(x - 1, y) + I(x, y - 1)$\n",
    "\n",
    "これをカーネルで表すと、次式となる。\n",
    "\n",
    "$\n",
    "k = \\begin{pmatrix}\n",
    "0 & 1 & 0 \\\\\n",
    "1 & -4 & 1  \\\\\n",
    "0 & 1 & 0\n",
    "\\end{pmatrix}\n",
    "$"
   ]
  },
  {
   "cell_type": "code",
   "execution_count": null,
   "metadata": {
    "colab": {
     "base_uri": "https://localhost:8080/",
     "height": 227
    },
    "colab_type": "code",
    "id": "uONmNHEi2fwO",
    "outputId": "98c61ccf-0013-4cb5-c776-7a2bc2c156cc"
   },
   "outputs": [],
   "source": [
    "# opencv\n",
    "img_lapl = cv2.Laplacian(img_gray, cv2.CV_32F)\n",
    "img_lapl -= img_lapl.min()  # normalize > [0, 1]\n",
    "img_lapl /= img_lapl.max()\n",
    "\n",
    "plt.figure(figsize=(12, 3))\n",
    "plt.subplot(1, 2, 1); plt.title('input'); plt.imshow(img_gray, cmap='gray')\n",
    "plt.subplot(1, 2, 2); plt.title('answer'); plt.imshow(img_lapl, cmap='gray')\n",
    "plt.show()"
   ]
  },
  {
   "cell_type": "code",
   "execution_count": null,
   "metadata": {
    "colab": {
     "base_uri": "https://localhost:8080/",
     "height": 227
    },
    "colab_type": "code",
    "id": "oQe5B-Hq7evV",
    "outputId": "148a169b-c526-444c-d575-70587210b06d"
   },
   "outputs": [],
   "source": [
    "# answer\n",
    "def filter_laplacian(img):\n",
    "    k = np.array([[0, 1, 0], [1, -4, 1], [0, 1, 0]])\n",
    "    out = cv2.filter2D(img.astype(np.float32), -1, k)\n",
    "    out -= out.min() # normalize > [0, 1]\n",
    "    out /= out.max() \n",
    "    return out\n",
    "\n",
    "img_lapl = filter_laplacian(img_gray)\n",
    "\n",
    "plt.figure(figsize=(12, 3))\n",
    "plt.subplot(1, 2, 1); plt.title('input'); plt.imshow(img_gray, cmap='gray')\n",
    "plt.subplot(1, 2, 2); plt.title('answer'); plt.imshow(img_lapl, cmap='gray')\n",
    "plt.show()"
   ]
  },
  {
   "cell_type": "markdown",
   "metadata": {
    "colab_type": "text",
    "id": "bxXhh5Vl8Wlb"
   },
   "source": [
    "## Q.18. エンボスフィルタ, Emboss filter\n",
    "グレースケールに対して、Embossフィルタを実装せよ。\n",
    "\n",
    "Embossフィルタとは輪郭部分を浮き出しにするフィルタで、次式で定義される。\n",
    "\n",
    "$\n",
    "k = \\begin{pmatrix}\n",
    "-2 & -1 & 0 \\\\\n",
    "-1 & 1 & 1  \\\\\n",
    "0 & 1 & 2\n",
    "\\end{pmatrix}\n",
    "$"
   ]
  },
  {
   "cell_type": "code",
   "execution_count": null,
   "metadata": {
    "colab": {
     "base_uri": "https://localhost:8080/",
     "height": 227
    },
    "colab_type": "code",
    "id": "GA6TWBjj8Lr0",
    "outputId": "ed561e4e-b924-4980-ef85-31c2bf165aef"
   },
   "outputs": [],
   "source": [
    "# answer\n",
    "def filter_emboss(img):\n",
    "    k = np.array([[-2, -1, 0], [-1, 1, 1], [0, 1, 2]])\n",
    "    out = cv2.filter2D(img.astype(np.float32), -1, k)\n",
    "    out -= out.min() # normalize > [0, 1]\n",
    "    out /= out.max() \n",
    "    return out\n",
    "\n",
    "img_emboss = filter_emboss(img_gray)\n",
    "\n",
    "plt.figure(figsize=(12, 3))\n",
    "plt.subplot(1, 2, 1); plt.title('input'); plt.imshow(img_gray, cmap='gray')\n",
    "plt.subplot(1, 2, 2); plt.title('answer'); plt.imshow(img_emboss, cmap='gray')\n",
    "plt.show()"
   ]
  },
  {
   "cell_type": "markdown",
   "metadata": {
    "colab_type": "text",
    "id": "CxoFdFTrC8TN"
   },
   "source": [
    "## Q.19. LoGフィルタ, LoG filter\n",
    "\n",
    "LoGフィルタ(sigma=3、カーネルサイズ=5)を実装し、*imori_noise_256x256.png*のエッジを検出せよ。\n",
    "\n",
    "LoGフィルタとはLaplacian of Gaussianであり、ガウシアンフィルタで画像を平滑化した後にラプラシアンフィルタで輪郭を取り出すフィルタである。\n",
    "\n",
    "Laplcianフィルタは二次微分をとるのでノイズが強調されるのを防ぐために、予めGaussianフィルタでノイズを抑える。LoGフィルタは次式で定義される。\n",
    "\n",
    "ラプラシアンを$\\nabla^2$、ガウシアンフィルタを$G$、画像を$I$とする。次式によって、ガウシアンフィルタリング後にラプラシアンフィルタする操作を、ガウシアンフィルタをラプラシアンしたものでフィルタリングする操作に置き換えることが可能。\n",
    "\n",
    "$\\nabla^2 (G \\ast I) = (\\nabla^2 G) \\ast I$ \n",
    "\n",
    "ラプラシアンフィルタの中身はxとyに関する２時微分の和で表される。ガウシアンフィルタをxに関して１時微分したものは、次式。\n",
    "\n",
    "$ \\frac{\\partial}{\\partial x} G =  \\frac{\\partial}{\\partial x} \\frac{1}{2\\pi \\sigma^2} e^{-\\frac{x^2 + y^2}{2 \\sigma^2}} = \\frac{1}{2\\pi \\sigma^2} e^{- \\frac{x^2 + y^2}{2 \\sigma^2}}(- \\frac{x}{\\sigma^2})$ \n",
    "\n",
    "２時微分は次式。\n",
    "\n",
    "$ \\frac{\\partial^2 }{\\partial^2 x} G\n",
    " = \\frac{1}{2\\pi \\sigma^2} e^{- \\frac{x^2 + y^2}{2 \\sigma^2}}(- \\frac{x}{\\sigma^2} + \\frac{x^2}{\\sigma^4}  )$ \n",
    "\n",
    "yに関してはxの部分を入れ替えるだけでいいので、LoGフィルタは次式となる。\n",
    "\n",
    "$ k = \\nabla^2G = (\\frac{\\partial^2}{\\partial^2x} + \\frac{\\partial^2}{\\partial^2y} )G\n",
    "= \\frac{x^2 + y^2 - 2 \\sigma^2}{2 \\pi \\sigma^6}e^{-\\frac{x^2 + y^2}{2 \\sigma^2}} $"
   ]
  },
  {
   "cell_type": "code",
   "execution_count": null,
   "metadata": {
    "colab": {
     "base_uri": "https://localhost:8080/",
     "height": 227
    },
    "colab_type": "code",
    "id": "UfwvnWAPCzS9",
    "outputId": "4e8f44fa-038a-4572-c182-23b55000a922"
   },
   "outputs": [],
   "source": [
    "# answer\n",
    "def filter_LoG(img, k_size=(3, 3), sigma=1.2):\n",
    "    # kernel\n",
    "    k = np.zeros(k_size, dtype=np.float)\n",
    "    pad_x = k_size[0] // 2\n",
    "    pad_y = k_size[1] // 2\n",
    "    for x in range(-pad_y, -pad_y + k_size[1]):\n",
    "        for y in range(-pad_x, -pad_x + k_size[0]):\n",
    "            k[y + pad_y, x + pad_y] = (x ** 2 + y ** 2 - 2 * (sigma ** 2)) * np.exp( - (x ** 2 + y ** 2) / (2 * (sigma ** 2)))\n",
    "    k /= (2 * np.pi * (sigma ** 6))\n",
    "    k /= k.sum()\n",
    " \n",
    "    out = cv2.filter2D(img.astype(np.float32), -1, k)\n",
    "    out -= out.min() # normalize > [0, 1]\n",
    "    out /= out.max() \n",
    "    return out\n",
    "\n",
    "img_log = filter_LoG(img_noise, k_size=(5, 5), sigma=3)\n",
    "\n",
    "plt.figure(figsize=(12, 3))\n",
    "plt.subplot(1, 2, 1); plt.title('input'); plt.imshow(img_noise, cmap='gray')\n",
    "plt.subplot(1, 2, 2); plt.title('answer'); plt.imshow(img_log, cmap='gray')\n",
    "plt.show()"
   ]
  },
  {
   "cell_type": "markdown",
   "metadata": {
    "colab_type": "text",
    "id": "FaBZtLSmHFzK"
   },
   "source": [
    "### カーネルのパラメータを変える\n",
    "\n",
    "カーネルサイズを大きくすると画像が暗くなるが、$\\sigma$を大きくするとノイズが消えて、かつ画像も明るくなった。"
   ]
  },
  {
   "cell_type": "code",
   "execution_count": null,
   "metadata": {
    "colab": {
     "base_uri": "https://localhost:8080/",
     "height": 209
    },
    "colab_type": "code",
    "id": "-5n62eNPF-Lq",
    "outputId": "127072f3-6119-49af-a879-b9f42548cd0a"
   },
   "outputs": [],
   "source": [
    "plt.figure(figsize=(12, 3))\n",
    "plt.subplot(1, 4, 1); plt.title('input'); plt.imshow(img_noise)\n",
    "\n",
    "img_log = filter_LoG(img_noise, k_size=(5, 5), sigma=3)\n",
    "plt.subplot(1, 4, 2); plt.title('answer'); plt.imshow(img_log)\n",
    "\n",
    "img_log = filter_LoG(img_noise, k_size=(12, 12), sigma=3)\n",
    "plt.subplot(1, 4, 3); plt.title('answer'); plt.imshow(img_log)\n",
    "\n",
    "img_log = filter_LoG(img_noise, k_size=(9, 9), sigma=9)\n",
    "plt.subplot(1, 4, 4); plt.title('answer'); plt.imshow(img_log)\n",
    "plt.show()"
   ]
  },
  {
   "cell_type": "markdown",
   "metadata": {
    "colab_type": "text",
    "id": "O6NnOdalIb4w"
   },
   "source": [
    "### Laplacian + Gaussian との比較"
   ]
  },
  {
   "cell_type": "code",
   "execution_count": null,
   "metadata": {
    "colab": {
     "base_uri": "https://localhost:8080/",
     "height": 209
    },
    "colab_type": "code",
    "id": "tSX50X8iHV99",
    "outputId": "638b70ba-fc7d-49d1-ccbd-beb76628e042"
   },
   "outputs": [],
   "source": [
    "img_gau = cv2.GaussianBlur(img_noise, (5, 5), 3)\n",
    "img_lapl = filter_laplacian(img_gau.astype(np.float32))\n",
    "img_lapl -= img_lapl.min()  # normalize > [0, 1]\n",
    "img_lapl /= img_lapl.max()\n",
    "\n",
    "plt.figure(figsize=(12, 4))\n",
    "plt.subplot(1, 4, 1); plt.imshow(img_noise); plt.title('input')\n",
    "plt.subplot(1, 4, 2); plt.imshow(img_gau); plt.title('Gaussian')\n",
    "plt.subplot(1, 4, 3); plt.imshow(img_lapl); plt.title('Lap + Gau')\n",
    "plt.show()"
   ]
  },
  {
   "cell_type": "markdown",
   "metadata": {
    "colab_type": "text",
    "id": "3bjiK3amN-Gu"
   },
   "source": [
    "## Q.20. ヒストグラム表示\n",
    "\n",
    "matplotlibを用いて*imori_256x256_dark.png*のヒストグラムを表示せよ。\n",
    "\n",
    "ヒストグラムとは画素の出現回数をグラフにしたものである。\n",
    "matplotlibではhist()という関数がすでにあるので、それを利用する。"
   ]
  },
  {
   "cell_type": "code",
   "execution_count": null,
   "metadata": {
    "colab": {
     "base_uri": "https://localhost:8080/",
     "height": 269
    },
    "colab_type": "code",
    "id": "N01Sr0o6N9RK",
    "outputId": "6ce9c1f6-cc55-4b5e-ae02-8db022fc7ed5"
   },
   "outputs": [],
   "source": [
    "img_dark = io.imread('https://yoyoyo-yo.github.io/Gasyori100knock/assets/imori_256x256_dark.png')\n",
    "plt.imshow(img_dark); plt.show()"
   ]
  },
  {
   "cell_type": "code",
   "execution_count": null,
   "metadata": {
    "colab": {
     "base_uri": "https://localhost:8080/",
     "height": 265
    },
    "colab_type": "code",
    "id": "H8NOtcj3N9fO",
    "outputId": "bbe388bb-ad0d-4423-f22b-a4594c1ba275"
   },
   "outputs": [],
   "source": [
    "plt.hist(img_dark.ravel(), bins=255, rwidth=0.8, range=(0, 255))\n",
    "plt.show()"
   ]
  },
  {
   "cell_type": "code",
   "execution_count": null,
   "metadata": {
    "colab": {},
    "colab_type": "code",
    "id": "o5pUhqG-OdAQ"
   },
   "outputs": [],
   "source": []
  }
 ],
 "metadata": {
  "colab": {
   "collapsed_sections": [],
   "include_colab_link": true,
   "name": "Question_11_20.ipynb",
   "provenance": [],
   "toc_visible": true
  },
  "kernelspec": {
   "display_name": "Python 3",
   "language": "python",
   "name": "python3"
  },
  "language_info": {
   "codemirror_mode": {
    "name": "ipython",
    "version": 3
   },
   "file_extension": ".py",
   "mimetype": "text/x-python",
   "name": "python",
   "nbconvert_exporter": "python",
   "pygments_lexer": "ipython3",
   "version": "3.9.4"
  },
  "widgets": {
   "application/vnd.jupyter.widget-state+json": {
    "state": {},
    "version_major": 2,
    "version_minor": 0
   }
  }
 },
 "nbformat": 4,
 "nbformat_minor": 4
}
