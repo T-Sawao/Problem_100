{
 "cells": [
  {
   "cell_type": "markdown",
   "metadata": {},
   "source": [
    "# 100 numpy exercises\n",
    "\n",
    "This is a collection of exercises that have been collected in the numpy mailing list, on stack overflow\n",
    "and in the numpy documentation. The goal of this collection is to offer a quick reference for both old\n",
    "and new users but also to provide a set of exercises for those who teach.\n",
    "\n",
    "\n",
    "If you find an error or think you've a better way to solve some of them, feel\n",
    "free to open an issue at <https://github.com/rougier/numpy-100>."
   ]
  },
  {
   "cell_type": "markdown",
   "metadata": {},
   "source": [
    "File automatically generated. See the documentation to update questions/answers/hints programmatically."
   ]
  },
  {
   "cell_type": "markdown",
   "metadata": {},
   "source": [
    "Run the `initialize.py` module, then for each question you can query the\n",
    "answer or an hint with `hint(n)` or `answer(n)` for `n` question number."
   ]
  },
  {
   "cell_type": "code",
   "execution_count": 1,
   "metadata": {},
   "outputs": [],
   "source": [
    "%run initialise.py"
   ]
  },
  {
   "cell_type": "markdown",
   "metadata": {},
   "source": [
    "#### 1. Import the numpy package under the name `np` (★☆☆)"
   ]
  },
  {
   "cell_type": "code",
   "execution_count": 2,
   "metadata": {},
   "outputs": [],
   "source": [
    "import numpy as np"
   ]
  },
  {
   "cell_type": "markdown",
   "metadata": {},
   "source": [
    "#### 2. Print the numpy version and the configuration (★☆☆)\n",
    "numpyバージョンと構成を印刷します"
   ]
  },
  {
   "cell_type": "code",
   "execution_count": 3,
   "metadata": {},
   "outputs": [
    {
     "name": "stdout",
     "output_type": "stream",
     "text": [
      "1.20.1\n",
      "blas_mkl_info:\n",
      "  NOT AVAILABLE\n",
      "blis_info:\n",
      "  NOT AVAILABLE\n",
      "openblas_info:\n",
      "    libraries = ['openblas', 'openblas']\n",
      "    library_dirs = ['/usr/local/lib']\n",
      "    language = c\n",
      "    define_macros = [('HAVE_CBLAS', None)]\n",
      "blas_opt_info:\n",
      "    libraries = ['openblas', 'openblas']\n",
      "    library_dirs = ['/usr/local/lib']\n",
      "    language = c\n",
      "    define_macros = [('HAVE_CBLAS', None)]\n",
      "lapack_mkl_info:\n",
      "  NOT AVAILABLE\n",
      "openblas_lapack_info:\n",
      "    libraries = ['openblas', 'openblas']\n",
      "    library_dirs = ['/usr/local/lib']\n",
      "    language = c\n",
      "    define_macros = [('HAVE_CBLAS', None)]\n",
      "lapack_opt_info:\n",
      "    libraries = ['openblas', 'openblas']\n",
      "    library_dirs = ['/usr/local/lib']\n",
      "    language = c\n",
      "    define_macros = [('HAVE_CBLAS', None)]\n"
     ]
    }
   ],
   "source": [
    "print(np.__version__)\n",
    "np.show_config()"
   ]
  },
  {
   "cell_type": "markdown",
   "metadata": {},
   "source": [
    "#### 3. Create a null vector of size 10 (★☆☆)"
   ]
  },
  {
   "cell_type": "code",
   "execution_count": 4,
   "metadata": {},
   "outputs": [
    {
     "data": {
      "text/plain": [
       "array([0., 0., 0., 0., 0., 0., 0., 0., 0., 0.])"
      ]
     },
     "execution_count": 4,
     "metadata": {},
     "output_type": "execute_result"
    }
   ],
   "source": [
    "np.zeros(10)"
   ]
  },
  {
   "cell_type": "markdown",
   "metadata": {},
   "source": [
    "#### 4. How to find the memory size of any array (★☆☆)\n",
    "配列のメモリサイズを見つける方法"
   ]
  },
  {
   "cell_type": "code",
   "execution_count": 5,
   "metadata": {
    "tags": []
   },
   "outputs": [
    {
     "name": "stdout",
     "output_type": "stream",
     "text": [
      "800 bytes\n"
     ]
    }
   ],
   "source": [
    "Z = np.zeros((10,10))\n",
    "print(f\"{Z.size * Z.itemsize} bytes\")"
   ]
  },
  {
   "cell_type": "markdown",
   "metadata": {},
   "source": [
    "#### 5. How to get the documentation of the numpy add function from the command line? (★☆☆)\n",
    "コマンドラインからnumpyadd関数のドキュメントを取得するにはどうすればよいですか？"
   ]
  },
  {
   "cell_type": "code",
   "execution_count": 6,
   "metadata": {
    "tags": []
   },
   "outputs": [
    {
     "name": "stdout",
     "output_type": "stream",
     "text": [
      "add(x1, x2, /, out=None, *, where=True, casting='same_kind', order='K', dtype=None, subok=True[, signature, extobj])\n",
      "\n",
      "Add arguments element-wise.\n",
      "\n",
      "Parameters\n",
      "----------\n",
      "x1, x2 : array_like\n",
      "    The arrays to be added.\n",
      "    If ``x1.shape != x2.shape``, they must be broadcastable to a common\n",
      "    shape (which becomes the shape of the output).\n",
      "out : ndarray, None, or tuple of ndarray and None, optional\n",
      "    A location into which the result is stored. If provided, it must have\n",
      "    a shape that the inputs broadcast to. If not provided or None,\n",
      "    a freshly-allocated array is returned. A tuple (possible only as a\n",
      "    keyword argument) must have length equal to the number of outputs.\n",
      "where : array_like, optional\n",
      "    This condition is broadcast over the input. At locations where the\n",
      "    condition is True, the `out` array will be set to the ufunc result.\n",
      "    Elsewhere, the `out` array will retain its original value.\n",
      "    Note that if an uninitialized `out` array is created via the default\n",
      "    ``out=None``, locations within it where the condition is False will\n",
      "    remain uninitialized.\n",
      "**kwargs\n",
      "    For other keyword-only arguments, see the\n",
      "    :ref:`ufunc docs <ufuncs.kwargs>`.\n",
      "\n",
      "Returns\n",
      "-------\n",
      "add : ndarray or scalar\n",
      "    The sum of `x1` and `x2`, element-wise.\n",
      "    This is a scalar if both `x1` and `x2` are scalars.\n",
      "\n",
      "Notes\n",
      "-----\n",
      "Equivalent to `x1` + `x2` in terms of array broadcasting.\n",
      "\n",
      "Examples\n",
      "--------\n",
      ">>> np.add(1.0, 4.0)\n",
      "5.0\n",
      ">>> x1 = np.arange(9.0).reshape((3, 3))\n",
      ">>> x2 = np.arange(3.0)\n",
      ">>> np.add(x1, x2)\n",
      "array([[  0.,   2.,   4.],\n",
      "       [  3.,   5.,   7.],\n",
      "       [  6.,   8.,  10.]])\n",
      "\n",
      "The ``+`` operator can be used as a shorthand for ``np.add`` on ndarrays.\n",
      "\n",
      ">>> x1 = np.arange(9.0).reshape((3, 3))\n",
      ">>> x2 = np.arange(3.0)\n",
      ">>> x1 + x2\n",
      "array([[ 0.,  2.,  4.],\n",
      "       [ 3.,  5.,  7.],\n",
      "       [ 6.,  8., 10.]])\n"
     ]
    }
   ],
   "source": [
    "np.info(np.add)"
   ]
  },
  {
   "cell_type": "markdown",
   "metadata": {},
   "source": [
    "#### 6. Create a null vector of size 10 but the fifth value which is 1 (★☆☆)\n",
    "サイズ10のヌルベクトルを作成しますが、5番目の値は1です"
   ]
  },
  {
   "cell_type": "code",
   "execution_count": 7,
   "metadata": {
    "jupyter": {
     "source_hidden": true
    },
    "tags": []
   },
   "outputs": [
    {
     "data": {
      "text/plain": [
       "array([0., 0., 0., 0., 0., 1., 0., 0., 0., 0.])"
      ]
     },
     "execution_count": 7,
     "metadata": {},
     "output_type": "execute_result"
    }
   ],
   "source": [
    "a = np.zeros(10)\n",
    "a[5] = 1\n",
    "a"
   ]
  },
  {
   "cell_type": "markdown",
   "metadata": {},
   "source": [
    "#### 7. Create a vector with values ranging from 10 to 49 (★☆☆)\n",
    "10から49の範囲の値を持つベクトルを作成します\n"
   ]
  },
  {
   "cell_type": "code",
   "execution_count": 8,
   "metadata": {
    "tags": []
   },
   "outputs": [
    {
     "data": {
      "text/plain": [
       "array([10, 11, 12, 13, 14, 15, 16, 17, 18, 19, 20, 21, 22, 23, 24, 25, 26,\n",
       "       27, 28, 29, 30, 31, 32, 33, 34, 35, 36, 37, 38, 39, 40, 41, 42, 43,\n",
       "       44, 45, 46, 47, 48, 49])"
      ]
     },
     "execution_count": 8,
     "metadata": {},
     "output_type": "execute_result"
    }
   ],
   "source": [
    "np.arange(10,50)"
   ]
  },
  {
   "cell_type": "markdown",
   "metadata": {},
   "source": [
    "#### 8. Reverse a vector (first element becomes last) (★☆☆)"
   ]
  },
  {
   "cell_type": "code",
   "execution_count": 9,
   "metadata": {
    "tags": []
   },
   "outputs": [
    {
     "data": {
      "text/plain": [
       "array([49, 48, 47, 46, 45, 44, 43, 42, 41, 40, 39, 38, 37, 36, 35, 34, 33,\n",
       "       32, 31, 30, 29, 28, 27, 26, 25, 24, 23, 22, 21, 20, 19, 18, 17, 16,\n",
       "       15, 14, 13, 12, 11, 10])"
      ]
     },
     "execution_count": 9,
     "metadata": {},
     "output_type": "execute_result"
    }
   ],
   "source": [
    "a = np.arange(10,50)\n",
    "a[::-1]"
   ]
  },
  {
   "cell_type": "markdown",
   "metadata": {},
   "source": [
    "#### 9. Create a 3x3 matrix with values ranging from 0 to 8 (★☆☆)"
   ]
  },
  {
   "cell_type": "code",
   "execution_count": 10,
   "metadata": {
    "tags": []
   },
   "outputs": [
    {
     "data": {
      "text/plain": [
       "array([[0, 1, 2],\n",
       "       [3, 4, 5],\n",
       "       [6, 7, 8]])"
      ]
     },
     "execution_count": 10,
     "metadata": {},
     "output_type": "execute_result"
    }
   ],
   "source": [
    "np.arange(0,9).reshape(3,3)"
   ]
  },
  {
   "cell_type": "markdown",
   "metadata": {},
   "source": [
    "#### 10. Find indices of non-zero elements from [1,2,0,0,4,0] (★☆☆)"
   ]
  },
  {
   "cell_type": "code",
   "execution_count": 11,
   "metadata": {
    "tags": []
   },
   "outputs": [
    {
     "data": {
      "text/plain": [
       "(array([0, 1, 4]),)"
      ]
     },
     "execution_count": 11,
     "metadata": {},
     "output_type": "execute_result"
    }
   ],
   "source": [
    "np.nonzero([1,2,0,0,4,0])"
   ]
  },
  {
   "cell_type": "markdown",
   "metadata": {},
   "source": [
    "#### 11. Create a 3x3 identity matrix (★☆☆)"
   ]
  },
  {
   "cell_type": "code",
   "execution_count": 12,
   "metadata": {
    "tags": []
   },
   "outputs": [
    {
     "data": {
      "text/plain": [
       "array([[1., 0., 0.],\n",
       "       [0., 1., 0.],\n",
       "       [0., 0., 1.]])"
      ]
     },
     "execution_count": 12,
     "metadata": {},
     "output_type": "execute_result"
    }
   ],
   "source": [
    "np.eye(3,3)"
   ]
  },
  {
   "cell_type": "markdown",
   "metadata": {},
   "source": [
    "#### 12. Create a 3x3x3 array with random values (★☆☆)\n",
    "ランダムな値で3x3x3配列を作成します"
   ]
  },
  {
   "cell_type": "code",
   "execution_count": 13,
   "metadata": {
    "tags": []
   },
   "outputs": [
    {
     "data": {
      "text/plain": [
       "array([[[0.80915099, 0.27784241, 0.76979658],\n",
       "        [0.90167448, 0.13109662, 0.78434777],\n",
       "        [0.39989639, 0.57915768, 0.67262741]],\n",
       "\n",
       "       [[0.86453664, 0.79694599, 0.5206366 ],\n",
       "        [0.93340941, 0.7035042 , 0.88012673],\n",
       "        [0.03219727, 0.12247989, 0.79019936]],\n",
       "\n",
       "       [[0.23076248, 0.74272468, 0.00671637],\n",
       "        [0.41761075, 0.50274953, 0.05187814],\n",
       "        [0.72816065, 0.53707363, 0.19891342]]])"
      ]
     },
     "execution_count": 13,
     "metadata": {},
     "output_type": "execute_result"
    }
   ],
   "source": [
    "np.random.random((3,3,3))"
   ]
  },
  {
   "cell_type": "markdown",
   "metadata": {},
   "source": [
    "#### 13. Create a 10x10 array with random values and find the minimum and maximum values (★☆☆)\n",
    "ランダムな値で10x10の配列を作成し、最小値と最大値を見つけます\n"
   ]
  },
  {
   "cell_type": "code",
   "execution_count": 14,
   "metadata": {},
   "outputs": [
    {
     "name": "stdout",
     "output_type": "stream",
     "text": [
      "0.9857061090957958 0.003550790577247054\n"
     ]
    }
   ],
   "source": [
    "a = np.random.random((10,10))\n",
    "print(a.max(),a.min())"
   ]
  },
  {
   "cell_type": "markdown",
   "metadata": {},
   "source": [
    "#### 14. Create a random vector of size 30 and find the mean value (★☆☆)\n",
    "サイズ30のランダムなベクトルを作成し、平均値を見つけます"
   ]
  },
  {
   "cell_type": "code",
   "execution_count": 15,
   "metadata": {
    "tags": []
   },
   "outputs": [
    {
     "data": {
      "text/plain": [
       "0.6260316514637075"
      ]
     },
     "execution_count": 15,
     "metadata": {},
     "output_type": "execute_result"
    }
   ],
   "source": [
    "np.random.random(30).mean()"
   ]
  },
  {
   "cell_type": "markdown",
   "metadata": {},
   "source": [
    "#### 15. Create a 2d array with 1 on the border and 0 inside (★☆☆)\n",
    "境界に1、内側に0の2次元配列を作成します\n"
   ]
  },
  {
   "cell_type": "code",
   "execution_count": 16,
   "metadata": {
    "tags": []
   },
   "outputs": [
    {
     "data": {
      "text/plain": [
       "array([[1., 1., 1., 1., 1.],\n",
       "       [1., 0., 0., 0., 1.],\n",
       "       [1., 0., 0., 0., 1.],\n",
       "       [1., 0., 0., 0., 1.],\n",
       "       [1., 1., 1., 1., 1.]])"
      ]
     },
     "execution_count": 16,
     "metadata": {},
     "output_type": "execute_result"
    }
   ],
   "source": [
    "a = np.ones((5,5))\n",
    "a[1:-1, 1:-1] = 0\n",
    "a"
   ]
  },
  {
   "cell_type": "markdown",
   "metadata": {},
   "source": [
    "#### 16. How to add a border (filled with 0's) around an existing array? (★☆☆)"
   ]
  },
  {
   "cell_type": "code",
   "execution_count": 17,
   "metadata": {
    "tags": []
   },
   "outputs": [
    {
     "data": {
      "text/plain": [
       "array([[0., 0., 0., 0., 0., 0., 0.],\n",
       "       [0., 1., 1., 1., 1., 1., 0.],\n",
       "       [0., 1., 1., 1., 1., 1., 0.],\n",
       "       [0., 1., 1., 1., 1., 1., 0.],\n",
       "       [0., 1., 1., 1., 1., 1., 0.],\n",
       "       [0., 1., 1., 1., 1., 1., 0.],\n",
       "       [0., 0., 0., 0., 0., 0., 0.]])"
      ]
     },
     "execution_count": 17,
     "metadata": {},
     "output_type": "execute_result"
    }
   ],
   "source": [
    "a = np.ones((5,5))\n",
    "np.pad(a,(1,1))"
   ]
  },
  {
   "cell_type": "markdown",
   "metadata": {},
   "source": [
    "#### 17. What is the result of the following expression? (★☆☆)\n",
    "次の式の結果は何ですか？\n",
    "\n",
    "```python\n",
    "0 * np.nan\n",
    "np.nan == np.nan\n",
    "np.inf > np.nan\n",
    "np.nan - np.nan\n",
    "np.nan in set([np.nan])\n",
    "0.3 == 3 * 0.1\n",
    "```"
   ]
  },
  {
   "cell_type": "code",
   "execution_count": 18,
   "metadata": {},
   "outputs": [
    {
     "name": "stdout",
     "output_type": "stream",
     "text": [
      "nan\n",
      "False\n",
      "False\n",
      "nan\n",
      "True\n",
      "False\n"
     ]
    }
   ],
   "source": [
    "print(0 * np.nan)\n",
    "print(np.nan == np.nan)\n",
    "print(np.inf > np.nan)\n",
    "print(np.nan - np.nan)\n",
    "print(np.nan in set([np.nan]))\n",
    "print(0.3 == 3 * 0.1)"
   ]
  },
  {
   "cell_type": "markdown",
   "metadata": {},
   "source": [
    "#### 18. Create a 5x5 matrix with values 1,2,3,4 just below the diagonal (★☆☆)\n",
    "対角のすぐ下に値1、2、3、4の5x5行列を作成します"
   ]
  },
  {
   "cell_type": "code",
   "execution_count": 19,
   "metadata": {},
   "outputs": [
    {
     "data": {
      "text/plain": [
       "array([[0, 0, 0, 0, 0],\n",
       "       [1, 0, 0, 0, 0],\n",
       "       [0, 2, 0, 0, 0],\n",
       "       [0, 0, 3, 0, 0],\n",
       "       [0, 0, 0, 4, 0]])"
      ]
     },
     "execution_count": 19,
     "metadata": {},
     "output_type": "execute_result"
    }
   ],
   "source": [
    "np.diag(np.arange(1,5),k=-1)"
   ]
  },
  {
   "cell_type": "markdown",
   "metadata": {},
   "source": [
    "#### 19. Create a 8x8 matrix and fill it with a checkerboard pattern (★☆☆)\n",
    "8x8マトリックスを作成し、チェッカーボードパターンで塗りつぶします\n"
   ]
  },
  {
   "cell_type": "code",
   "execution_count": 20,
   "metadata": {
    "tags": []
   },
   "outputs": [
    {
     "data": {
      "text/plain": [
       "array([[0., 1., 0., 1., 0., 1., 0., 1.],\n",
       "       [1., 0., 1., 0., 1., 0., 1., 0.],\n",
       "       [0., 1., 0., 1., 0., 1., 0., 1.],\n",
       "       [1., 0., 1., 0., 1., 0., 1., 0.],\n",
       "       [0., 1., 0., 1., 0., 1., 0., 1.],\n",
       "       [1., 0., 1., 0., 1., 0., 1., 0.],\n",
       "       [0., 1., 0., 1., 0., 1., 0., 1.],\n",
       "       [1., 0., 1., 0., 1., 0., 1., 0.]])"
      ]
     },
     "execution_count": 20,
     "metadata": {},
     "output_type": "execute_result"
    }
   ],
   "source": [
    "a = np.zeros((8,8))\n",
    "a[1::2, ::2] = 1\n",
    "a[::2, 1::2] = 1\n",
    "a"
   ]
  },
  {
   "cell_type": "markdown",
   "metadata": {},
   "source": [
    "#### 20. Consider a (6,7,8) shape array, what is the index (x,y,z) of the 100th element?\n",
    "（6,7,8）形状配列を考えてみましょう。100番目の要素のインデックス（x、y、z）は何ですか？\n"
   ]
  },
  {
   "cell_type": "code",
   "execution_count": 21,
   "metadata": {},
   "outputs": [
    {
     "data": {
      "text/plain": [
       "(1, 5, 4)"
      ]
     },
     "execution_count": 21,
     "metadata": {},
     "output_type": "execute_result"
    }
   ],
   "source": [
    "np.unravel_index(100,(6,7,8))"
   ]
  },
  {
   "cell_type": "markdown",
   "metadata": {},
   "source": [
    "#### 21. Create a checkerboard 8x8 matrix using the tile function (★☆☆)\n",
    "タイル関数を使用してチェッカーボード8x8マトリックスを作成します"
   ]
  },
  {
   "cell_type": "code",
   "execution_count": 22,
   "metadata": {
    "tags": []
   },
   "outputs": [
    {
     "data": {
      "text/plain": [
       "array([[0, 1, 0, 1, 0, 1, 0, 1],\n",
       "       [1, 0, 1, 0, 1, 0, 1, 0],\n",
       "       [0, 1, 0, 1, 0, 1, 0, 1],\n",
       "       [1, 0, 1, 0, 1, 0, 1, 0],\n",
       "       [0, 1, 0, 1, 0, 1, 0, 1],\n",
       "       [1, 0, 1, 0, 1, 0, 1, 0],\n",
       "       [0, 1, 0, 1, 0, 1, 0, 1],\n",
       "       [1, 0, 1, 0, 1, 0, 1, 0]])"
      ]
     },
     "execution_count": 22,
     "metadata": {},
     "output_type": "execute_result"
    }
   ],
   "source": [
    "a = np.array([[0,1],[1,0]])\n",
    "np.tile(a,(4,4))"
   ]
  },
  {
   "cell_type": "markdown",
   "metadata": {},
   "source": [
    "#### 22. Normalize a 5x5 random matrix (★☆☆)\n",
    "5x5のランダム行列を正規化する"
   ]
  },
  {
   "cell_type": "code",
   "execution_count": 23,
   "metadata": {
    "tags": []
   },
   "outputs": [
    {
     "data": {
      "text/plain": [
       "array([[-0.02083962, -0.14542027, -0.08791932, -0.09292105,  0.55950931],\n",
       "       [ 0.18720638, -0.04310316,  0.56093467,  0.33793268,  0.05167304],\n",
       "       [-0.25396696, -0.3516471 ,  0.27022922,  0.01751783, -0.29516408],\n",
       "       [ 0.15616402, -0.18221139,  0.01206505,  0.16681504, -0.42916734],\n",
       "       [-0.08262398,  0.52466183, -0.43906533, -0.10468214, -0.31597733]])"
      ]
     },
     "execution_count": 23,
     "metadata": {},
     "output_type": "execute_result"
    }
   ],
   "source": [
    "a = np.random.random((5,5))\n",
    "\n",
    "(a - a.mean()) / ((a.max()) - (a.min()))"
   ]
  },
  {
   "cell_type": "markdown",
   "metadata": {},
   "source": [
    "#### 23. Create a custom dtype that describes a color as four unsigned bytes (RGBA) (★☆☆)\n",
    "色を4つの符号なしバイト（RGBA）として記述するカスタムdtypeを作成します\n"
   ]
  },
  {
   "cell_type": "code",
   "execution_count": 24,
   "metadata": {
    "tags": []
   },
   "outputs": [
    {
     "data": {
      "text/plain": [
       "dtype([('r', 'u1'), ('g', 'u1'), ('b', 'u1'), ('a', 'u1')])"
      ]
     },
     "execution_count": 24,
     "metadata": {},
     "output_type": "execute_result"
    }
   ],
   "source": [
    "color = np.dtype([(\"r\", np.ubyte),\n",
    "                  (\"g\", np.ubyte),\n",
    "                  (\"b\", np.ubyte),\n",
    "                  (\"a\", np.ubyte)])\n",
    "color"
   ]
  },
  {
   "cell_type": "markdown",
   "metadata": {},
   "source": [
    "#### 24. Multiply a 5x3 matrix by a 3x2 matrix (real matrix product) (★☆☆)\n",
    "5x3行列に3x2行列を掛けます（実際の行列の積）"
   ]
  },
  {
   "cell_type": "code",
   "execution_count": 25,
   "metadata": {},
   "outputs": [
    {
     "data": {
      "text/plain": [
       "array([[3., 3.],\n",
       "       [3., 3.],\n",
       "       [3., 3.],\n",
       "       [3., 3.],\n",
       "       [3., 3.]])"
      ]
     },
     "execution_count": 25,
     "metadata": {},
     "output_type": "execute_result"
    }
   ],
   "source": [
    "np.ones((5,3)) @ np.ones((3,2))"
   ]
  },
  {
   "cell_type": "markdown",
   "metadata": {},
   "source": [
    "#### 25. Given a 1D array, negate all elements which are between 3 and 8, in place. (★☆☆)\n",
    "1D配列が与えられた場合、3から8までのすべての要素を適切に無効にします。"
   ]
  },
  {
   "cell_type": "code",
   "execution_count": 26,
   "metadata": {
    "tags": []
   },
   "outputs": [
    {
     "data": {
      "text/plain": [
       "array([ 0,  1,  2,  3, -4, -5, -6, -7,  8,  9, 10])"
      ]
     },
     "execution_count": 26,
     "metadata": {},
     "output_type": "execute_result"
    }
   ],
   "source": [
    "a = np.arange(0,11)\n",
    "a[(a > 3) & (a < 8)] *= -1\n",
    "a"
   ]
  },
  {
   "cell_type": "markdown",
   "metadata": {},
   "source": [
    "#### 26. What is the output of the following script? (★☆☆)\n",
    "次のスクリプトの出力は何ですか？\n",
    "\n",
    "```python\n",
    "# Author: Jake VanderPlas\n",
    "\n",
    "print(sum(range(5),-1))\n",
    "from numpy import *\n",
    "print(sum(range(5),-1))\n",
    "```"
   ]
  },
  {
   "cell_type": "code",
   "execution_count": 27,
   "metadata": {},
   "outputs": [
    {
     "name": "stdout",
     "output_type": "stream",
     "text": [
      "9\n",
      "10\n"
     ]
    }
   ],
   "source": [
    "print(sum(range(5),-1))\n",
    "from numpy import *\n",
    "print(sum(range(5),-1))"
   ]
  },
  {
   "cell_type": "markdown",
   "metadata": {},
   "source": [
    "numpy.sumとsumの挙動の違い"
   ]
  },
  {
   "cell_type": "markdown",
   "metadata": {},
   "source": [
    "#### 27. Consider an integer vector Z, which of these expressions are legal? (★☆☆)\n",
    "整数ベクトルZを考えてみましょう。これらの式のどれが有効ですか？\n",
    "\n",
    "```python\n",
    "Z**Z\n",
    "2 << Z >> 2\n",
    "Z <- Z\n",
    "1j*Z\n",
    "Z/1/1\n",
    "Z<Z>Z\n",
    "```"
   ]
  },
  {
   "cell_type": "code",
   "execution_count": 28,
   "metadata": {},
   "outputs": [
    {
     "name": "stdout",
     "output_type": "stream",
     "text": [
      "[ 1  4 27]\n",
      "[1 2 4]\n",
      "[False False False]\n",
      "[0.+1.j 0.+2.j 0.+3.j]\n",
      "[1. 2. 3.]\n"
     ]
    }
   ],
   "source": [
    "Z = np.array([1,2,3])\n",
    "\n",
    "print(Z**Z)\n",
    "print(2 << Z >>2)\n",
    "print(Z <- Z)\n",
    "print(1j*Z)\n",
    "print(Z/1/1)\n",
    "# print(Z<Z>Z) エラーが出る"
   ]
  },
  {
   "cell_type": "markdown",
   "metadata": {},
   "source": [
    "#### 28. What are the result of the following expressions?\n",
    "次の式の結果は何ですか？\n",
    "\n",
    "```python\n",
    "np.array(0) / np.array(0)\n",
    "np.array(0) // np.array(0)\n",
    "np.array([np.nan]).astype(int).astype(float)\n",
    "```"
   ]
  },
  {
   "cell_type": "code",
   "execution_count": 29,
   "metadata": {},
   "outputs": [
    {
     "name": "stdout",
     "output_type": "stream",
     "text": [
      "nan\n",
      "0\n",
      "[0.]\n"
     ]
    },
    {
     "name": "stderr",
     "output_type": "stream",
     "text": [
      "<ipython-input-29-72dab2b1b7c8>:1: RuntimeWarning: invalid value encountered in true_divide\n",
      "  print(np.array(0) / np.array(0))\n",
      "<ipython-input-29-72dab2b1b7c8>:3: RuntimeWarning: divide by zero encountered in floor_divide\n",
      "  print(np.array(0) // np.array(0))\n"
     ]
    }
   ],
   "source": [
    "print(np.array(0) / np.array(0))\n",
    "\n",
    "print(np.array(0) // np.array(0))\n",
    "\n",
    "print(np.array([np.nan]).astype(int).astype(float))"
   ]
  },
  {
   "cell_type": "markdown",
   "metadata": {},
   "source": [
    "#### 29. How to round away from zero a float array ? (★☆☆)\n",
    "フロート配列をゼロから丸める方法は？\n"
   ]
  },
  {
   "cell_type": "code",
   "execution_count": 30,
   "metadata": {
    "tags": []
   },
   "outputs": [
    {
     "data": {
      "text/plain": [
       "array([0.])"
      ]
     },
     "execution_count": 30,
     "metadata": {},
     "output_type": "execute_result"
    }
   ],
   "source": [
    "np.random.random(1).round()"
   ]
  },
  {
   "cell_type": "markdown",
   "metadata": {},
   "source": [
    "#### 30. How to find common values between two arrays? (★☆☆)\n",
    "2つの配列間で共通の値を見つける方法は？"
   ]
  },
  {
   "cell_type": "code",
   "execution_count": 31,
   "metadata": {
    "tags": []
   },
   "outputs": [
    {
     "name": "stdout",
     "output_type": "stream",
     "text": [
      "a: [4 1 4 3 4]\n",
      "b: [4 2 2 4 2]\n",
      "[4]\n"
     ]
    }
   ],
   "source": [
    "a = np.random.randint(1,5,5)\n",
    "b = np.random.randint(1,5,5)\n",
    "\n",
    "print(\"a:\",a)\n",
    "print(\"b:\",b)\n",
    "print(intersect1d(a,b))"
   ]
  },
  {
   "cell_type": "markdown",
   "metadata": {},
   "source": [
    "#### 31. How to ignore all numpy warnings (not recommended)? (★☆☆)\n",
    "すべてのnumpy警告を無視する方法（非推奨）？"
   ]
  },
  {
   "cell_type": "code",
   "execution_count": 32,
   "metadata": {
    "tags": []
   },
   "outputs": [
    {
     "data": {
      "text/plain": [
       "{'divide': 'warn', 'over': 'warn', 'under': 'ignore', 'invalid': 'warn'}"
      ]
     },
     "execution_count": 32,
     "metadata": {},
     "output_type": "execute_result"
    }
   ],
   "source": [
    "defaults = np.seterr(all=\"ignore\")\n",
    "defaults"
   ]
  },
  {
   "cell_type": "code",
   "execution_count": 33,
   "metadata": {
    "tags": []
   },
   "outputs": [
    {
     "data": {
      "text/plain": [
       "{'divide': 'ignore', 'over': 'ignore', 'under': 'ignore', 'invalid': 'ignore'}"
      ]
     },
     "execution_count": 33,
     "metadata": {},
     "output_type": "execute_result"
    }
   ],
   "source": [
    "np.seterr(**defaults)"
   ]
  },
  {
   "cell_type": "markdown",
   "metadata": {},
   "source": [
    "#### 32. Is the following expressions true? (★☆☆)\n",
    "次の表現は本当ですか？\n",
    "```python\n",
    "np.sqrt(-1) == np.emath.sqrt(-1)\n",
    "```"
   ]
  },
  {
   "cell_type": "code",
   "execution_count": 34,
   "metadata": {
    "tags": []
   },
   "outputs": [
    {
     "name": "stdout",
     "output_type": "stream",
     "text": [
      "nan\n",
      "1j\n"
     ]
    },
    {
     "name": "stderr",
     "output_type": "stream",
     "text": [
      "<ipython-input-34-54f6324019e1>:1: RuntimeWarning: invalid value encountered in sqrt\n",
      "  print(np.sqrt(-1))\n"
     ]
    }
   ],
   "source": [
    "print(np.sqrt(-1))\n",
    "print(np.emath.sqrt(-1))"
   ]
  },
  {
   "cell_type": "markdown",
   "metadata": {},
   "source": [
    "#### 33. How to get the dates of yesterday, today and tomorrow? (★☆☆)\n",
    "昨日、今日、明日の日付を取得するにはどうすればよいですか？"
   ]
  },
  {
   "cell_type": "code",
   "execution_count": 35,
   "metadata": {
    "tags": []
   },
   "outputs": [
    {
     "data": {
      "text/plain": [
       "numpy.datetime64('2021-04-01')"
      ]
     },
     "execution_count": 35,
     "metadata": {},
     "output_type": "execute_result"
    }
   ],
   "source": [
    "today = np.datetime64(\"today\")\n",
    "tomorrow = today - np.timedelta64(-1)\n",
    "yesterday = today - np.timedelta64(1)\n",
    "yesterday"
   ]
  },
  {
   "cell_type": "markdown",
   "metadata": {},
   "source": [
    "#### 34. How to get all the dates corresponding to the month of July 2016? (★★☆)\n",
    "2016年7月に対応するすべての日付を取得するにはどうすればよいですか？"
   ]
  },
  {
   "cell_type": "code",
   "execution_count": 36,
   "metadata": {},
   "outputs": [
    {
     "data": {
      "text/plain": [
       "array(['2016-07-01', '2016-07-02', '2016-07-03', '2016-07-04',\n",
       "       '2016-07-05', '2016-07-06', '2016-07-07', '2016-07-08',\n",
       "       '2016-07-09', '2016-07-10', '2016-07-11', '2016-07-12',\n",
       "       '2016-07-13', '2016-07-14', '2016-07-15', '2016-07-16',\n",
       "       '2016-07-17', '2016-07-18', '2016-07-19', '2016-07-20',\n",
       "       '2016-07-21', '2016-07-22', '2016-07-23', '2016-07-24',\n",
       "       '2016-07-25', '2016-07-26', '2016-07-27', '2016-07-28',\n",
       "       '2016-07-29', '2016-07-30', '2016-07-31'], dtype='datetime64[D]')"
      ]
     },
     "execution_count": 36,
     "metadata": {},
     "output_type": "execute_result"
    }
   ],
   "source": [
    "np.arange(\"2016-07\", \"2016-08\", dtype=\"datetime64[D]\")"
   ]
  },
  {
   "cell_type": "markdown",
   "metadata": {},
   "source": [
    "#### 35. How to compute ((A+B)*(-A/2)) in place (without copy)? (★★☆)\n",
    "（（A + B）*（-A / 2））をその場で（コピーなしで）計算する方法は？"
   ]
  },
  {
   "cell_type": "code",
   "execution_count": 37,
   "metadata": {
    "tags": []
   },
   "outputs": [
    {
     "data": {
      "text/plain": [
       "array([-1.5, -1.5, -1.5])"
      ]
     },
     "execution_count": 37,
     "metadata": {},
     "output_type": "execute_result"
    }
   ],
   "source": [
    "a = np.ones(3) * 1\n",
    "b = np.ones(3) * 2\n",
    "\n",
    "np.add(a,b,out=b)\n",
    "np.divide(a,2,out=a)\n",
    "np.negative(a, out=a)\n",
    "np.multiply(b, a)"
   ]
  },
  {
   "cell_type": "markdown",
   "metadata": {},
   "source": [
    "#### 36. Extract the integer part of a random array of positive numbers using 4 different methods (★★☆)\n",
    "4つの異なる方法を使用して、正の数のランダム配列の整数部分を抽出します"
   ]
  },
  {
   "cell_type": "code",
   "execution_count": 38,
   "metadata": {
    "tags": []
   },
   "outputs": [
    {
     "name": "stdout",
     "output_type": "stream",
     "text": [
      "[4.28258191 2.86730045 3.65136838 2.21738832 4.46165418]\n",
      "[4. 2. 3. 2. 4.]\n",
      "[4. 2. 3. 2. 4.]\n",
      "[4 2 3 2 4]\n",
      "[4. 2. 3. 2. 4.]\n"
     ]
    }
   ],
   "source": [
    "a = np.random.uniform(1,5,5)\n",
    "print(a)\n",
    "print(a - a%1)\n",
    "print(a//1)\n",
    "print(a.astype(int))\n",
    "print(np.floor_divide(a,1))"
   ]
  },
  {
   "cell_type": "markdown",
   "metadata": {},
   "source": [
    "#### 37. Create a 5x5 matrix with row values ranging from 0 to 4 (★★☆)\n",
    "0から4の範囲の行値を持つ5x5行列を作成します"
   ]
  },
  {
   "cell_type": "code",
   "execution_count": 39,
   "metadata": {},
   "outputs": [
    {
     "name": "stdout",
     "output_type": "stream",
     "text": [
      "[[0. 1. 2. 3. 4.]\n",
      " [0. 1. 2. 3. 4.]\n",
      " [0. 1. 2. 3. 4.]\n",
      " [0. 1. 2. 3. 4.]\n",
      " [0. 1. 2. 3. 4.]]\n"
     ]
    }
   ],
   "source": [
    "Z = np.zeros((5,5))\n",
    "Z += np.arange(5)\n",
    "print(Z)"
   ]
  },
  {
   "cell_type": "markdown",
   "metadata": {},
   "source": [
    "#### 38. Consider a generator function that generates 10 integers and use it to build an array (★☆☆)\n",
    "10個の整数を生成し、それを使用して配列を作成するジェネレーター関数について考えてみます。"
   ]
  },
  {
   "cell_type": "code",
   "execution_count": 40,
   "metadata": {},
   "outputs": [
    {
     "data": {
      "text/plain": [
       "array([0., 1., 2., 3., 4., 5., 6., 7., 8., 9.])"
      ]
     },
     "execution_count": 40,
     "metadata": {},
     "output_type": "execute_result"
    }
   ],
   "source": [
    "def abc():\n",
    "    for i in range(10):\n",
    "        yield i\n",
    "        \n",
    "np.fromiter(abc(),dtype=float, count=-1)"
   ]
  },
  {
   "cell_type": "code",
   "execution_count": 41,
   "metadata": {
    "tags": []
   },
   "outputs": [
    {
     "data": {
      "text/plain": [
       "array([0., 1., 2., 3., 4., 5., 6., 7., 8., 9.])"
      ]
     },
     "execution_count": 41,
     "metadata": {},
     "output_type": "execute_result"
    }
   ],
   "source": [
    "def abc():\n",
    "    for i in range(10):\n",
    "        yield i\n",
    "        \n",
    "np.fromiter(abc(), dtype=float, count=-1)"
   ]
  },
  {
   "cell_type": "markdown",
   "metadata": {},
   "source": [
    "#### 39. Create a vector of size 10 with values ranging from 0 to 1, both excluded (★★☆)\n",
    "0から1の範囲の値を持つサイズ10のベクトルを作成し、両方を除外します"
   ]
  },
  {
   "cell_type": "code",
   "execution_count": 42,
   "metadata": {},
   "outputs": [
    {
     "data": {
      "text/plain": [
       "array([0.09090909, 0.18181818, 0.27272727, 0.36363636, 0.45454545,\n",
       "       0.54545455, 0.63636364, 0.72727273, 0.81818182, 0.90909091])"
      ]
     },
     "execution_count": 42,
     "metadata": {},
     "output_type": "execute_result"
    }
   ],
   "source": [
    "np.linspace(0,1,11, endpoint=False)[1:]"
   ]
  },
  {
   "cell_type": "markdown",
   "metadata": {},
   "source": [
    "#### 40. Create a random vector of size 10 and sort it (★★☆)\n",
    "サイズ10のランダムなベクトルを作成し、並べ替えます\n"
   ]
  },
  {
   "cell_type": "code",
   "execution_count": 43,
   "metadata": {
    "tags": []
   },
   "outputs": [
    {
     "data": {
      "text/plain": [
       "array([1, 1, 2, 2, 3, 4, 6, 6, 6, 8])"
      ]
     },
     "execution_count": 43,
     "metadata": {},
     "output_type": "execute_result"
    }
   ],
   "source": [
    "a = np.random.randint(1,10,10)\n",
    "np.sort(a)"
   ]
  },
  {
   "cell_type": "markdown",
   "metadata": {},
   "source": [
    "#### 41. How to sum a small array faster than np.sum? (★★☆)\n",
    "np.sumよりも速く小さな配列を合計する方法は？"
   ]
  },
  {
   "cell_type": "code",
   "execution_count": 44,
   "metadata": {
    "tags": []
   },
   "outputs": [
    {
     "name": "stdout",
     "output_type": "stream",
     "text": [
      "530 ns ± 12.9 ns per loop (mean ± std. dev. of 7 runs, 1000000 loops each)\n",
      "1.52 µs ± 7.78 ns per loop (mean ± std. dev. of 7 runs, 1000000 loops each)\n",
      "1.53 µs ± 16.7 ns per loop (mean ± std. dev. of 7 runs, 1000000 loops each)\n"
     ]
    }
   ],
   "source": [
    "a = np.ones(10)\n",
    "%timeit np.add.reduce(a)\n",
    "\n",
    "%timeit np.sum(a)\n",
    "\n",
    "%timeit sum(a)"
   ]
  },
  {
   "cell_type": "markdown",
   "metadata": {},
   "source": [
    "#### 42. Consider two random array A and B, check if they are equal (★★☆)\n",
    "2つのランダム配列AとBを検討し、それらが等しいかどうかを確認します"
   ]
  },
  {
   "cell_type": "code",
   "execution_count": 45,
   "metadata": {
    "tags": []
   },
   "outputs": [
    {
     "name": "stdout",
     "output_type": "stream",
     "text": [
      "False\n",
      "False\n"
     ]
    }
   ],
   "source": [
    "a = np.random.randint(0,2,5)\n",
    "b = np.random.randint(0,2,5)\n",
    "\n",
    "#完全一致\n",
    "print(np.all(a==b))\n",
    "\n",
    "#多少の猶予あり一致\n",
    "print(np.allclose(a,b))"
   ]
  },
  {
   "cell_type": "markdown",
   "metadata": {},
   "source": [
    "#### 43. Make an array immutable (read-only) (★★☆)\n",
    "配列を不変にする（読み取り専用）"
   ]
  },
  {
   "cell_type": "code",
   "execution_count": 46,
   "metadata": {
    "tags": []
   },
   "outputs": [
    {
     "ename": "ValueError",
     "evalue": "assignment destination is read-only",
     "output_type": "error",
     "traceback": [
      "\u001b[0;31m---------------------------------------------------------------------------\u001b[0m",
      "\u001b[0;31mValueError\u001b[0m                                Traceback (most recent call last)",
      "\u001b[0;32m<ipython-input-46-6a6348e57803>\u001b[0m in \u001b[0;36m<module>\u001b[0;34m\u001b[0m\n\u001b[1;32m      1\u001b[0m \u001b[0ma\u001b[0m \u001b[0;34m=\u001b[0m \u001b[0mnp\u001b[0m\u001b[0;34m.\u001b[0m\u001b[0marange\u001b[0m\u001b[0;34m(\u001b[0m\u001b[0;36m10\u001b[0m\u001b[0;34m)\u001b[0m\u001b[0;34m\u001b[0m\u001b[0;34m\u001b[0m\u001b[0m\n\u001b[1;32m      2\u001b[0m \u001b[0ma\u001b[0m\u001b[0;34m.\u001b[0m\u001b[0mflags\u001b[0m\u001b[0;34m.\u001b[0m\u001b[0mwriteable\u001b[0m \u001b[0;34m=\u001b[0m \u001b[0;32mFalse\u001b[0m\u001b[0;34m\u001b[0m\u001b[0;34m\u001b[0m\u001b[0m\n\u001b[0;32m----> 3\u001b[0;31m \u001b[0ma\u001b[0m\u001b[0;34m[\u001b[0m\u001b[0;36m0\u001b[0m\u001b[0;34m]\u001b[0m \u001b[0;34m=\u001b[0m \u001b[0;36m1\u001b[0m\u001b[0;34m\u001b[0m\u001b[0;34m\u001b[0m\u001b[0m\n\u001b[0m",
      "\u001b[0;31mValueError\u001b[0m: assignment destination is read-only"
     ]
    }
   ],
   "source": [
    "a = np.arange(10)\n",
    "a.flags.writeable = False\n",
    "a[0] = 1"
   ]
  },
  {
   "cell_type": "markdown",
   "metadata": {},
   "source": [
    "#### 44. Consider a random 10x2 matrix representing cartesian coordinates, convert them to polar coordinates (★★☆)\n",
    "デカルト座標を表すランダムな10x2行列を考え、それらを極座標に変換します"
   ]
  },
  {
   "cell_type": "code",
   "execution_count": 47,
   "metadata": {
    "tags": []
   },
   "outputs": [
    {
     "data": {
      "image/png": "[encoded data removed]",
      "text/plain": [
       "<Figure size 432x288 with 1 Axes>"
      ]
     },
     "metadata": {
      "needs_background": "light"
     },
     "output_type": "display_data"
    }
   ],
   "source": [
    "import matplotlib.pyplot as plt\n",
    "\n",
    "\n",
    "z = np.random.random((10, 2))\n",
    "x,y = z[:,0],z[:,1]\n",
    "\n",
    "radii = np.sqrt(x**2 + y**2)\n",
    "theta = np.arctan2(y,x)\n",
    "    \n",
    "# 極座標系グラフ\n",
    "ax2 = plt.subplot(1,1,1,polar=True)\n",
    "ax2.scatter(theta,radii)\n",
    "ax2.set_rmax(1)\n",
    "ax2.grid(True)\n",
    "\n",
    "plt.show()"
   ]
  },
  {
   "cell_type": "markdown",
   "metadata": {},
   "source": [
    "#### 45. Create random vector of size 10 and replace the maximum value by 0 (★★☆)\n",
    "サイズ10のランダムベクトルを作成し、最大値を0に置き換えます"
   ]
  },
  {
   "cell_type": "code",
   "execution_count": 48,
   "metadata": {
    "tags": []
   },
   "outputs": [
    {
     "data": {
      "text/plain": [
       "array([0.10324512, 0.76866322, 0.42067792, 0.        , 0.560927  ,\n",
       "       0.593557  , 0.64865622, 0.65437506, 0.62742049, 0.7187148 ])"
      ]
     },
     "execution_count": 48,
     "metadata": {},
     "output_type": "execute_result"
    }
   ],
   "source": [
    "a = np.random.random(10)\n",
    "a[np.argmax(a)] = 0\n",
    "a"
   ]
  },
  {
   "cell_type": "markdown",
   "metadata": {},
   "source": [
    "#### 46. Create a structured array with `x` and `y` coordinates covering the [0,1]x[0,1] area (★★☆)\n",
    "[0,1] x [0,1]領域をカバーするx座標とy座標を持つ構造化配列を作成します"
   ]
  },
  {
   "cell_type": "code",
   "execution_count": 49,
   "metadata": {
    "tags": []
   },
   "outputs": [
    {
     "name": "stdout",
     "output_type": "stream",
     "text": [
      "[[(0., 0.) (0., 0.) (0., 0.) (0., 0.) (0., 0.)]\n",
      " [(0., 0.) (0., 0.) (0., 0.) (0., 0.) (0., 0.)]\n",
      " [(0., 0.) (0., 0.) (0., 0.) (0., 0.) (0., 0.)]\n",
      " [(0., 0.) (0., 0.) (0., 0.) (0., 0.) (0., 0.)]\n",
      " [(0., 0.) (0., 0.) (0., 0.) (0., 0.) (0., 0.)]]\n",
      "[[(0.  , 0.  ) (0.25, 0.  ) (0.5 , 0.  ) (0.75, 0.  ) (1.  , 0.  )]\n",
      " [(0.  , 0.25) (0.25, 0.25) (0.5 , 0.25) (0.75, 0.25) (1.  , 0.25)]\n",
      " [(0.  , 0.5 ) (0.25, 0.5 ) (0.5 , 0.5 ) (0.75, 0.5 ) (1.  , 0.5 )]\n",
      " [(0.  , 0.75) (0.25, 0.75) (0.5 , 0.75) (0.75, 0.75) (1.  , 0.75)]\n",
      " [(0.  , 1.  ) (0.25, 1.  ) (0.5 , 1.  ) (0.75, 1.  ) (1.  , 1.  )]]\n"
     ]
    }
   ],
   "source": [
    "Z = np.zeros((5,5), [('x',float),('y',float)])\n",
    "print(Z)\n",
    "\n",
    "Z['x'], Z['y'] = np.meshgrid(np.linspace(0,1,5),np.linspace(0,1,5))\n",
    "print(Z)"
   ]
  },
  {
   "cell_type": "markdown",
   "metadata": {},
   "source": [
    "#### 47. Given two arrays, X and Y, construct the Cauchy matrix C (Cij =1/(xi - yj))\n",
    "XとYの2つの配列が与えられた場合、コーシー行列Cを作成します（Cij = 1 /（xi -yj））\n"
   ]
  },
  {
   "cell_type": "code",
   "execution_count": 50,
   "metadata": {
    "tags": []
   },
   "outputs": [
    {
     "data": {
      "text/plain": [
       "-15.17037037037037"
      ]
     },
     "execution_count": 50,
     "metadata": {},
     "output_type": "execute_result"
    }
   ],
   "source": [
    "x = np.arange(3)\n",
    "y = x + 0.5\n",
    "\n",
    "# cの行列を作成\n",
    "c = 1.0/np.subtract.outer(x,y)\n",
    "\n",
    "# cの行列式\n",
    "np.linalg.det(c)"
   ]
  },
  {
   "cell_type": "markdown",
   "metadata": {},
   "source": [
    "#### 48. Print the minimum and maximum representable value for each numpy scalar type (★★☆)\n",
    "各スカラー型numpyの表現可能な最小値と最大値を出力します"
   ]
  },
  {
   "cell_type": "code",
   "execution_count": 51,
   "metadata": {
    "tags": []
   },
   "outputs": [
    {
     "name": "stdout",
     "output_type": "stream",
     "text": [
      "-128\n",
      "127\n",
      "-2147483648\n",
      "2147483647\n",
      "-9223372036854775808\n",
      "9223372036854775807\n",
      "-3.4028235e+38\n",
      "3.4028235e+38\n",
      "1.1920929e-07\n",
      "-1.7976931348623157e+308\n",
      "1.7976931348623157e+308\n",
      "2.220446049250313e-16\n"
     ]
    }
   ],
   "source": [
    "for dtype in [np.int8, np.int32, np.int64]:\n",
    "    print(np.iinfo(dtype).min)\n",
    "    print(np.iinfo(dtype).max)\n",
    "    \n",
    "for dtype in [np.float32, np.float64]:\n",
    "    print(np.finfo(dtype).min)\n",
    "    print(np.finfo(dtype).max)\n",
    "    print(np.finfo(dtype).eps)"
   ]
  },
  {
   "cell_type": "markdown",
   "metadata": {},
   "source": [
    "#### 49. How to print all the values of an array? (★★☆)\n",
    "配列のすべての値を出力するにはどうすればよいですか？"
   ]
  },
  {
   "cell_type": "code",
   "execution_count": 52,
   "metadata": {
    "tags": []
   },
   "outputs": [
    {
     "name": "stdout",
     "output_type": "stream",
     "text": [
      "[   0    1    2 ... 9997 9998 9999]\n"
     ]
    }
   ],
   "source": [
    "import numpy\n",
    "\n",
    "a = numpy.arange(10000)\n",
    "\n",
    "# 全て表示する\n",
    "# numpy.set_printoptions(threshold=float(\"inf\"))\n",
    "\n",
    "# デフォルト値に戻す\n",
    "# numpy.set_printoptions(threshold=1000)\n",
    "\n",
    "print(a)"
   ]
  },
  {
   "cell_type": "markdown",
   "metadata": {},
   "source": [
    "#### 50. How to find the closest value (to a given scalar) in a vector? (★★☆)\n",
    "ベクトル内で（特定のスカラーに）最も近い値を見つける方法は？\n"
   ]
  },
  {
   "cell_type": "code",
   "execution_count": 53,
   "metadata": {},
   "outputs": [
    {
     "name": "stdout",
     "output_type": "stream",
     "text": [
      "[0.4046841  0.48388188 0.67026685 0.65986036 0.26209516 0.16288188\n",
      " 0.46455462 0.1936617  0.10609384 0.5302083 ]\n",
      "0.5\n",
      "719 ns ± 12.7 ns per loop (mean ± std. dev. of 7 runs, 1000000 loops each)\n"
     ]
    }
   ],
   "source": [
    "a = np.random.random(10)\n",
    "print(a)\n",
    "\n",
    "b = 0.5\n",
    "print(b)\n",
    "\n",
    "%timeit a[abs(a - b).argmin()]"
   ]
  },
  {
   "cell_type": "markdown",
   "metadata": {},
   "source": [
    "#### 51. Create a structured array representing a position (x,y) and a color (r,g,b) (★★☆)\n",
    "位置（x、y）と色（r、g、b）を表す構造化配列を作成します"
   ]
  },
  {
   "cell_type": "code",
   "execution_count": 54,
   "metadata": {
    "tags": []
   },
   "outputs": [
    {
     "data": {
      "text/plain": [
       "array([((0., 0.), (0., 0., 0.)), ((0., 0.), (0., 0., 0.)),\n",
       "       ((0., 0.), (0., 0., 0.)), ((0., 0.), (0., 0., 0.)),\n",
       "       ((0., 0.), (0., 0., 0.)), ((0., 0.), (0., 0., 0.)),\n",
       "       ((0., 0.), (0., 0., 0.)), ((0., 0.), (0., 0., 0.)),\n",
       "       ((0., 0.), (0., 0., 0.)), ((0., 0.), (0., 0., 0.))],\n",
       "      dtype=[('position', [('x', '<f8'), ('y', '<f8')]), ('color', [('r', '<f8'), ('g', '<f8'), ('b', '<f8')])])"
      ]
     },
     "execution_count": 54,
     "metadata": {},
     "output_type": "execute_result"
    }
   ],
   "source": [
    "z = np.zeros(10,[(\"position\", [(\"x\", float),\n",
    "                               (\"y\", float)]),\n",
    "                 (\"color\",    [(\"r\", float),\n",
    "                               (\"g\", float),\n",
    "                               (\"b\", float)])])\n",
    "z"
   ]
  },
  {
   "cell_type": "markdown",
   "metadata": {},
   "source": [
    "#### 52. Consider a random vector with shape (100,2) representing coordinates, find point by point distances (★★☆)\n",
    "座標を表す形状（100,2）のランダムベクトルを考え、ポイントごとの距離を見つけます\n"
   ]
  },
  {
   "cell_type": "code",
   "execution_count": 55,
   "metadata": {},
   "outputs": [
    {
     "data": {
      "text/plain": [
       "array([[0.        , 0.49625174, 0.55726935, 0.59189943, 0.61721653,\n",
       "        0.41754223, 1.02139751, 0.68369908, 0.17195151, 0.95004856],\n",
       "       [0.49625174, 0.        , 0.66799571, 0.58421134, 0.1325998 ,\n",
       "        0.44907758, 0.694869  , 0.86261736, 0.48863163, 0.53903372],\n",
       "       [0.55726935, 0.66799571, 0.        , 0.1463768 , 0.78783423,\n",
       "        0.22042541, 0.7050823 , 0.19735635, 0.38535658, 0.76866008],\n",
       "       [0.59189943, 0.58421134, 0.1463768 , 0.        , 0.69267216,\n",
       "        0.18228594, 0.56207573, 0.3245699 , 0.42631594, 0.62340366],\n",
       "       [0.61721653, 0.1325998 , 0.78783423, 0.69267216, 0.        ,\n",
       "        0.57201685, 0.70752059, 0.98421268, 0.62044086, 0.51843232],\n",
       "       [0.41754223, 0.44907758, 0.22042541, 0.18228594, 0.57201685,\n",
       "        0.        , 0.64839275, 0.41354673, 0.26157589, 0.64536409],\n",
       "       [1.02139751, 0.694869  , 0.7050823 , 0.56207573, 0.70752059,\n",
       "        0.64839275, 0.        , 0.84585325, 0.89690904, 0.23115136],\n",
       "       [0.68369908, 0.86261736, 0.19735635, 0.3245699 , 0.98421268,\n",
       "        0.41354673, 0.84585325, 0.        , 0.51963305, 0.94109176],\n",
       "       [0.17195151, 0.48863163, 0.38535658, 0.42631594, 0.62044086,\n",
       "        0.26157589, 0.89690904, 0.51963305, 0.        , 0.85761578],\n",
       "       [0.95004856, 0.53903372, 0.76866008, 0.62340366, 0.51843232,\n",
       "        0.64536409, 0.23115136, 0.94109176, 0.85761578, 0.        ]])"
      ]
     },
     "execution_count": 55,
     "metadata": {},
     "output_type": "execute_result"
    }
   ],
   "source": [
    "from scipy.spatial import distance\n",
    "\n",
    "z = np.random.random((10,2))\n",
    "distance.cdist(z,z)"
   ]
  },
  {
   "cell_type": "markdown",
   "metadata": {},
   "source": [
    "#### 53. How to convert a float (32 bits) array into an integer (32 bits) in place?\n",
    "float（32ビット）配列を整数（32ビット）に変換するにはどうすればよいですか？"
   ]
  },
  {
   "cell_type": "code",
   "execution_count": 56,
   "metadata": {
    "tags": []
   },
   "outputs": [
    {
     "name": "stdout",
     "output_type": "stream",
     "text": [
      "[55.331604  91.700745  75.68266   88.83068   85.69401    3.073706\n",
      " 73.41728    3.2719254 10.003089  72.40359  ]\n",
      "[1113412496 1119315656 1117216134 1118939471 1118528341 1078245273\n",
      " 1116919206 1079076666 1092619431 1116786339]\n",
      "[55 91 75 88 85  3 73  3 10 72]\n"
     ]
    }
   ],
   "source": [
    "# Thanks Vikas (https://stackoverflow.com/a/10622758/5989906)\n",
    "# & unutbu (https://stackoverflow.com/a/4396247/5989906)\n",
    "Z = (np.random.rand(10)*100).astype(np.float32)\n",
    "print(Z)\n",
    "\n",
    "Y = Z.view(np.int32)\n",
    "print(Y)\n",
    "\n",
    "Y[:] = Z\n",
    "print(Y)\n",
    "\n",
    "#理解が出来ない。 astpyeでいいのでは？"
   ]
  },
  {
   "cell_type": "markdown",
   "metadata": {},
   "source": [
    "#### 54. How to read the following file? (★★☆)\n",
    "次のファイルの読み方は？\n",
    "```\n",
    "1, 2, 3, 4, 5\n",
    "6,  ,  , 7, 8\n",
    " ,  , 9,10,11\n",
    "```"
   ]
  },
  {
   "cell_type": "code",
   "execution_count": 57,
   "metadata": {},
   "outputs": [
    {
     "data": {
      "text/plain": [
       "array([[ 1,  2,  3,  4,  5],\n",
       "       [ 6, -1, -1,  7,  8],\n",
       "       [-1, -1,  9, 10, 11]], dtype=int8)"
      ]
     },
     "execution_count": 57,
     "metadata": {},
     "output_type": "execute_result"
    }
   ],
   "source": [
    "from io import StringIO\n",
    "\n",
    "a = StringIO('''\n",
    "             1, 2, 3, 4, 5\n",
    "             6,  ,  , 7, 8\n",
    "              ,  , 9,10,11\n",
    "              ''')\n",
    "\n",
    "np.genfromtxt(a, delimiter=\",\", dtype=int8)"
   ]
  },
  {
   "cell_type": "markdown",
   "metadata": {},
   "source": [
    "#### 55. What is the equivalent of enumerate for numpy arrays? (★★☆)\n",
    "numpy配列の列挙に相当するものは何ですか？"
   ]
  },
  {
   "cell_type": "code",
   "execution_count": 58,
   "metadata": {
    "tags": []
   },
   "outputs": [
    {
     "name": "stdout",
     "output_type": "stream",
     "text": [
      "[[0 1 2]\n",
      " [3 4 5]\n",
      " [6 7 8]]\n",
      "(0, 0) 0\n",
      "(0, 1) 1\n",
      "(0, 2) 2\n",
      "(1, 0) 3\n",
      "(1, 1) 4\n",
      "(1, 2) 5\n",
      "(2, 0) 6\n",
      "(2, 1) 7\n",
      "(2, 2) 8\n"
     ]
    }
   ],
   "source": [
    "Z = np.arange(9).reshape(3,3)\n",
    "print(Z)\n",
    "\n",
    "for index, value in np.ndenumerate(Z):\n",
    "    print(index, value)"
   ]
  },
  {
   "cell_type": "markdown",
   "metadata": {},
   "source": [
    "#### 56. Generate a generic 2D Gaussian-like array (★★☆)"
   ]
  },
  {
   "cell_type": "markdown",
   "metadata": {},
   "source": [
    "#### ２次元ガウス配列(要学習）\n"
   ]
  },
  {
   "cell_type": "markdown",
   "metadata": {},
   "source": [
    "$$確率密度関数\t𝑓(𝑋)=\\frac{1}{\\sqrt2πσ^2}exp[−\\frac{(𝑥−μ)^2}{2σ^2}]$$\n",
    "$$期待値（平均）\t𝐸(𝑋)=μ$$\n",
    "$$分散\t𝑉(𝑋)=σ^2$$\n",
    "$$標準偏差\t𝑆𝐷(𝑋)=σ$$"
   ]
  },
  {
   "cell_type": "code",
   "execution_count": 59,
   "metadata": {
    "tags": []
   },
   "outputs": [
    {
     "name": "stdout",
     "output_type": "stream",
     "text": [
      "[[0.36787944 0.44822088 0.51979489 0.57375342 0.60279818 0.60279818\n",
      "  0.57375342 0.51979489 0.44822088 0.36787944]\n",
      " [0.44822088 0.54610814 0.63331324 0.69905581 0.73444367 0.73444367\n",
      "  0.69905581 0.63331324 0.54610814 0.44822088]\n",
      " [0.51979489 0.63331324 0.73444367 0.81068432 0.85172308 0.85172308\n",
      "  0.81068432 0.73444367 0.63331324 0.51979489]\n",
      " [0.57375342 0.69905581 0.81068432 0.89483932 0.9401382  0.9401382\n",
      "  0.89483932 0.81068432 0.69905581 0.57375342]\n",
      " [0.60279818 0.73444367 0.85172308 0.9401382  0.98773022 0.98773022\n",
      "  0.9401382  0.85172308 0.73444367 0.60279818]\n",
      " [0.60279818 0.73444367 0.85172308 0.9401382  0.98773022 0.98773022\n",
      "  0.9401382  0.85172308 0.73444367 0.60279818]\n",
      " [0.57375342 0.69905581 0.81068432 0.89483932 0.9401382  0.9401382\n",
      "  0.89483932 0.81068432 0.69905581 0.57375342]\n",
      " [0.51979489 0.63331324 0.73444367 0.81068432 0.85172308 0.85172308\n",
      "  0.81068432 0.73444367 0.63331324 0.51979489]\n",
      " [0.44822088 0.54610814 0.63331324 0.69905581 0.73444367 0.73444367\n",
      "  0.69905581 0.63331324 0.54610814 0.44822088]\n",
      " [0.36787944 0.44822088 0.51979489 0.57375342 0.60279818 0.60279818\n",
      "  0.57375342 0.51979489 0.44822088 0.36787944]]\n"
     ]
    }
   ],
   "source": [
    "X, Y = np.meshgrid(np.linspace(-1,1,10), np.linspace(-1,1,10))\n",
    "D = np.sqrt(X*X+Y*Y)\n",
    "\n",
    "sigma, mu = 1.0, 0.0\n",
    "G = np.exp(-( (D-mu)**2 / ( 2.0 * sigma**2 ) ) )\n",
    "print(G)"
   ]
  },
  {
   "cell_type": "markdown",
   "metadata": {},
   "source": [
    "#### 57. How to randomly place p elements in a 2D array? (★★☆)\n",
    "p要素を2D配列にランダムに配置するにはどうすればよいですか？"
   ]
  },
  {
   "cell_type": "code",
   "execution_count": 60,
   "metadata": {
    "tags": []
   },
   "outputs": [
    {
     "name": "stdout",
     "output_type": "stream",
     "text": [
      "[11 18]\n"
     ]
    },
    {
     "data": {
      "text/plain": [
       "array([[0., 0., 0., 0., 0.],\n",
       "       [0., 0., 0., 0., 0.],\n",
       "       [0., 1., 0., 0., 0.],\n",
       "       [0., 0., 0., 1., 0.],\n",
       "       [0., 0., 0., 0., 0.]])"
      ]
     },
     "execution_count": 60,
     "metadata": {},
     "output_type": "execute_result"
    }
   ],
   "source": [
    "n = 5\n",
    "p = 2\n",
    "z = np.zeros((n,n))\n",
    "\n",
    "x = np.random.choice(range(n*n),p,replace=False)\n",
    "print(x)\n",
    "\n",
    "np.put(z, x, 1)\n",
    "z"
   ]
  },
  {
   "cell_type": "markdown",
   "metadata": {},
   "source": [
    "#### 58. Subtract the mean of each row of a matrix (★★☆)  \n",
    "行列の各行の平均を減算します"
   ]
  },
  {
   "cell_type": "code",
   "execution_count": 61,
   "metadata": {
    "tags": []
   },
   "outputs": [
    {
     "name": "stdout",
     "output_type": "stream",
     "text": [
      "[[3 7 7 3]\n",
      " [7 7 4 3]]\n",
      "[[-2.    2.    2.   -2.  ]\n",
      " [ 1.75  1.75 -1.25 -2.25]]\n"
     ]
    }
   ],
   "source": [
    "a = np.random.randint(0,10,(2,4))\n",
    "print(a)\n",
    "\n",
    "print(a - a.mean(axis=1,keepdims=True))"
   ]
  },
  {
   "cell_type": "markdown",
   "metadata": {},
   "source": [
    "#### 59. How to sort an array by the nth column? (★★☆)  \n",
    "n番目の列で配列を並べ替える方法は？"
   ]
  },
  {
   "cell_type": "code",
   "execution_count": 62,
   "metadata": {},
   "outputs": [
    {
     "name": "stdout",
     "output_type": "stream",
     "text": [
      "[[4 7 7 5 1]\n",
      " [1 2 2 1 4]\n",
      " [7 8 8 4 6]\n",
      " [0 9 6 8 4]\n",
      " [9 9 3 0 7]]\n"
     ]
    },
    {
     "data": {
      "text/plain": [
       "array([[1, 2, 2, 1, 4],\n",
       "       [9, 9, 3, 0, 7],\n",
       "       [0, 9, 6, 8, 4],\n",
       "       [4, 7, 7, 5, 1],\n",
       "       [7, 8, 8, 4, 6]])"
      ]
     },
     "execution_count": 62,
     "metadata": {},
     "output_type": "execute_result"
    }
   ],
   "source": [
    "a = np.random.randint(0,10,(5,5))\n",
    "n = 2\n",
    "print(a)\n",
    "\n",
    "a[a[:,n].argsort()]"
   ]
  },
  {
   "cell_type": "markdown",
   "metadata": {},
   "source": [
    "#### 60. How to tell if a given 2D array has null columns? (★★☆)  \n",
    "特定の2D配列にnull列があるかどうかを確認するにはどうすればよいですか？"
   ]
  },
  {
   "cell_type": "code",
   "execution_count": 63,
   "metadata": {
    "tags": []
   },
   "outputs": [
    {
     "name": "stdout",
     "output_type": "stream",
     "text": [
      "[[0 0 1 2 1 2 0 2 2 2]\n",
      " [0 1 0 0 1 2 0 0 1 0]\n",
      " [1 0 0 0 2 1 0 0 0 0]]\n",
      "True\n"
     ]
    }
   ],
   "source": [
    "Z = np.random.randint(0,3,(3,10))\n",
    "print(Z)\n",
    "print((~Z.any(axis=0)).any())"
   ]
  },
  {
   "cell_type": "markdown",
   "metadata": {},
   "source": [
    "#### 61. Find the nearest value from a given value in an array (★★☆)  \n",
    "配列内の指定された値から最も近い値を見つけます"
   ]
  },
  {
   "cell_type": "code",
   "execution_count": 64,
   "metadata": {
    "tags": []
   },
   "outputs": [
    {
     "name": "stdout",
     "output_type": "stream",
     "text": [
      "[[0.20671257 0.26308496 0.99916024]\n",
      " [0.48100881 0.64341893 0.26599261]\n",
      " [0.53754349 0.97747866 0.23638119]]\n",
      "[0.31282034]\n"
     ]
    },
    {
     "data": {
      "text/plain": [
       "0.265992606177451"
      ]
     },
     "execution_count": 64,
     "metadata": {},
     "output_type": "execute_result"
    }
   ],
   "source": [
    "a = np.random.rand(3,3)\n",
    "print(a)\n",
    "z = np.random.rand(1)\n",
    "print(z)\n",
    "\n",
    "# np.absは絶対値をとる、一番差が小さいインデックスを抽出\n",
    "index = np.abs(z - a).argmin()\n",
    "\n",
    "# np.flatはイテレータを返す\n",
    "a.flat[index]"
   ]
  },
  {
   "cell_type": "markdown",
   "metadata": {},
   "source": [
    "#### 62. Considering two arrays with shape (1,3) and (3,1), how to compute their sum using an iterator? (★★☆)  \n",
    "形状が（1,3）と（3,1）の2つの配列を考えると、イテレーターを使用してそれらの合計を計算する方法は？"
   ]
  },
  {
   "cell_type": "code",
   "execution_count": 65,
   "metadata": {
    "tags": []
   },
   "outputs": [],
   "source": [
    "# for以降、理解が出来ない"
   ]
  },
  {
   "cell_type": "code",
   "execution_count": 66,
   "metadata": {
    "tags": []
   },
   "outputs": [
    {
     "name": "stdout",
     "output_type": "stream",
     "text": [
      "[[0]\n",
      " [1]\n",
      " [2]]\n",
      "[[0 1 2]]\n",
      "<numpy.nditer object at 0xffff8b8d1030>\n",
      "[[0 1 2]\n",
      " [1 2 3]\n",
      " [2 3 4]]\n"
     ]
    }
   ],
   "source": [
    "A = np.arange(3).reshape(3,1)\n",
    "print(A)\n",
    "B = np.arange(3).reshape(1,3)\n",
    "print(B)\n",
    "\n",
    "it = np.nditer([A,B,None])\n",
    "print(it)\n",
    "\n",
    "for x,y,z in it: z[...] = x + y\n",
    "print(it.operands[2])"
   ]
  },
  {
   "cell_type": "markdown",
   "metadata": {},
   "source": [
    "#### 63. Create an array class that has a name attribute (★★☆)  \n",
    "name属性を持つ配列クラスを作成します"
   ]
  },
  {
   "cell_type": "code",
   "execution_count": 67,
   "metadata": {
    "tags": []
   },
   "outputs": [
    {
     "name": "stdout",
     "output_type": "stream",
     "text": [
      "range_10\n"
     ]
    }
   ],
   "source": [
    "class NamedArray(np.ndarray):\n",
    "    def __new__(cls, array, name=\"no name\"):\n",
    "        obj = np.asarray(array).view(cls)\n",
    "        obj.name = name\n",
    "        return obj\n",
    "    \n",
    "    def __array_finalize__(self, obj):\n",
    "        if obj is None: return\n",
    "        self.info = getattr(obj, 'name', \"no name\")\n",
    "\n",
    "Z = NamedArray(np.arange(10),\"range_10\")\n",
    "print (Z.name)"
   ]
  },
  {
   "cell_type": "markdown",
   "metadata": {},
   "source": [
    "#### 64. Consider a given vector, how to add 1 to each element indexed by a second vector (be careful with repeated indices)? (★★★)  \n",
    "与えられたベクトルを考えてみましょう。2番目のベクトルでインデックス付けされた各要素に1を追加する方法（インデックスの繰り返しに注意してください）？"
   ]
  },
  {
   "cell_type": "code",
   "execution_count": 68,
   "metadata": {
    "tags": []
   },
   "outputs": [
    {
     "name": "stdout",
     "output_type": "stream",
     "text": [
      "[1. 1. 1. 1. 1. 1. 1. 1. 1. 1.]\n",
      "[3 5 3 9 5 7 1 3 4 2 5 9 6 7 7 0 5 7 3 3]\n",
      "[2. 2. 2. 6. 2. 5. 2. 5. 1. 3.]\n"
     ]
    }
   ],
   "source": [
    "z = np.ones(10)\n",
    "print(z)\n",
    "i = np.random.randint(0,len(z), 20)\n",
    "print(i)\n",
    "z += np.bincount(i, minlength=len(z))\n",
    "print(z)"
   ]
  },
  {
   "cell_type": "markdown",
   "metadata": {},
   "source": [
    "#### 65. How to accumulate elements of a vector (X) to an array (F) based on an index list (I)? (★★★)  \n",
    "インデックスリスト（I）に基づいて、ベクトル（X）の要素を配列（F）に累積する方法は？"
   ]
  },
  {
   "cell_type": "code",
   "execution_count": 69,
   "metadata": {
    "tags": []
   },
   "outputs": [
    {
     "name": "stdout",
     "output_type": "stream",
     "text": [
      "[0. 7. 0. 6. 5. 0. 0. 0. 0. 3.]\n"
     ]
    }
   ],
   "source": [
    "X = [1,2,3,4,5,6]\n",
    "I = [1,3,9,3,4,1]\n",
    "F = np.bincount(I,X)\n",
    "print(F)"
   ]
  },
  {
   "cell_type": "markdown",
   "metadata": {},
   "source": [
    "#### 66. Considering a (w,h,3) image of (dtype=ubyte), compute the number of unique colors (★★★)\n",
    "（dtype = ubyte）の（w、h、3）画像を考慮して、一意の色の数を計算します"
   ]
  },
  {
   "cell_type": "markdown",
   "metadata": {
    "tags": []
   },
   "source": [
    "#理解不能"
   ]
  },
  {
   "cell_type": "code",
   "execution_count": 70,
   "metadata": {
    "tags": []
   },
   "outputs": [
    {
     "name": "stdout",
     "output_type": "stream",
     "text": [
      "[0 1]\n"
     ]
    }
   ],
   "source": [
    "w,h = 16,16\n",
    "i = np.random.randint(0,2,(h,w,3)).astype(np.ubyte)\n",
    "f = i[...,0]*256*256 + i[...,1]*256 + i[...,2]\n",
    "n = len(np.unique(f))\n",
    "print(np.unique(i))"
   ]
  },
  {
   "cell_type": "markdown",
   "metadata": {},
   "source": [
    "#### 67. Considering a four dimensions array, how to get sum over the last two axis at once? (★★★)\n",
    "4次元配列を考えると、最後の2つの軸の合計を一度に取得するにはどうすればよいですか？"
   ]
  },
  {
   "cell_type": "code",
   "execution_count": 71,
   "metadata": {
    "tags": []
   },
   "outputs": [
    {
     "name": "stdout",
     "output_type": "stream",
     "text": [
      "[[[[4 0]\n",
      "   [3 3]]\n",
      "\n",
      "  [[3 1]\n",
      "   [3 2]]]\n",
      "\n",
      "\n",
      " [[[4 0]\n",
      "   [0 4]]\n",
      "\n",
      "  [[2 1]\n",
      "   [0 1]]]]\n",
      "合計\n",
      " [[10  9]\n",
      " [ 8  4]]\n"
     ]
    }
   ],
   "source": [
    "random.seed(0)\n",
    "A = np.random.randint(0,5,(2,2,2,2))\n",
    "print(A)\n",
    "# solution by passing a tuple of axes (introduced in numpy 1.7.0)\n",
    "sum = A.sum(axis=(-1,-2))\n",
    "print(\"合計\\n\",sum)"
   ]
  },
  {
   "cell_type": "markdown",
   "metadata": {},
   "source": [
    "#### 68. Considering a one-dimensional vector D, how to compute means of subsets of D using a vector S of same size describing subset  indices? (★★★)  \n",
    "1次元のベクトルDを考えると、サブセットインデックスを記述する同じサイズのベクトルSを使用して、Dのサブセットの平均を計算する方法は？"
   ]
  },
  {
   "cell_type": "code",
   "execution_count": 72,
   "metadata": {
    "tags": []
   },
   "outputs": [
    {
     "name": "stdout",
     "output_type": "stream",
     "text": [
      "[0.58418375 0.5139626  0.36119673 0.4285821  0.43883858 0.51131167\n",
      " 0.61261829 0.47608844 0.35346    0.50276739]\n"
     ]
    }
   ],
   "source": [
    "D = np.random.uniform(0,1,100)\n",
    "S = np.random.randint(0,10,100)\n",
    "D_sums = np.bincount(S, weights=D)\n",
    "D_counts = np.bincount(S)\n",
    "D_means = D_sums / D_counts\n",
    "print(D_means)"
   ]
  },
  {
   "cell_type": "markdown",
   "metadata": {},
   "source": [
    "#### 69. How to get the diagonal of a dot product? (★★★)  \n",
    "内積の対角線を取得するにはどうすればよいですか？"
   ]
  },
  {
   "cell_type": "code",
   "execution_count": 73,
   "metadata": {
    "tags": []
   },
   "outputs": [
    {
     "name": "stdout",
     "output_type": "stream",
     "text": [
      "[[1 0]\n",
      " [1 2]]\n",
      "[[1 1]\n",
      " [0 0]]\n",
      "[[1 1]\n",
      " [1 1]]\n",
      "[1 1]\n"
     ]
    }
   ],
   "source": [
    "a = np.random.randint(0,3,(2,2))\n",
    "b = np.random.randint(0,3,(2,2))\n",
    "print(a)\n",
    "print(b)\n",
    "c = a@b\n",
    "print(c)\n",
    "print(np.diag(c))"
   ]
  },
  {
   "cell_type": "markdown",
   "metadata": {},
   "source": [
    "#### 70. Consider the vector [1, 2, 3, 4, 5], how to build a new vector with 3 consecutive zeros interleaved between each value? (★★★)\n",
    "ベクトル[1、2、3、4、5]について考えてみましょう。各値の間に、3つの連続するゼロがインターリーブされた新しいベクトルを作成する方法を教えてください。"
   ]
  },
  {
   "cell_type": "code",
   "execution_count": 74,
   "metadata": {
    "tags": []
   },
   "outputs": [
    {
     "name": "stdout",
     "output_type": "stream",
     "text": [
      "[0. 0. 0. 0. 0. 0. 0. 0. 0. 0. 0. 0. 0. 0. 0. 0. 0.]\n",
      "[1. 0. 0. 0. 2. 0. 0. 0. 3. 0. 0. 0. 4. 0. 0. 0. 5.]\n"
     ]
    }
   ],
   "source": [
    "a = [1, 2, 3, 4, 5]\n",
    "nz = 3\n",
    "z0 = np.zeros(len(a) + (len(a)-1)*(nz))\n",
    "print(z0)\n",
    "z0[::nz+1] = a\n",
    "print(z0)"
   ]
  },
  {
   "cell_type": "markdown",
   "metadata": {},
   "source": [
    "#### 71. Consider an array of dimension (5,5,3), how to mulitply it by an array with dimensions (5,5)? (★★★)\n",
    "次元（5,5,3）の配列を考えてみましょう。次元（5,5）の配列でそれを多重化する方法は？"
   ]
  },
  {
   "cell_type": "code",
   "execution_count": 75,
   "metadata": {
    "tags": []
   },
   "outputs": [
    {
     "name": "stdout",
     "output_type": "stream",
     "text": [
      "[[[1. 1. 1.]\n",
      "  [1. 1. 1.]\n",
      "  [1. 1. 1.]\n",
      "  [1. 1. 1.]\n",
      "  [1. 1. 1.]]\n",
      "\n",
      " [[1. 1. 1.]\n",
      "  [1. 1. 1.]\n",
      "  [1. 1. 1.]\n",
      "  [1. 1. 1.]\n",
      "  [1. 1. 1.]]\n",
      "\n",
      " [[1. 1. 1.]\n",
      "  [1. 1. 1.]\n",
      "  [1. 1. 1.]\n",
      "  [1. 1. 1.]\n",
      "  [1. 1. 1.]]\n",
      "\n",
      " [[1. 1. 1.]\n",
      "  [1. 1. 1.]\n",
      "  [1. 1. 1.]\n",
      "  [1. 1. 1.]\n",
      "  [1. 1. 1.]]\n",
      "\n",
      " [[1. 1. 1.]\n",
      "  [1. 1. 1.]\n",
      "  [1. 1. 1.]\n",
      "  [1. 1. 1.]\n",
      "  [1. 1. 1.]]]\n",
      "[[2. 2. 2. 2. 2.]\n",
      " [2. 2. 2. 2. 2.]\n",
      " [2. 2. 2. 2. 2.]\n",
      " [2. 2. 2. 2. 2.]\n",
      " [2. 2. 2. 2. 2.]]\n",
      "[[[2.]\n",
      "  [2.]\n",
      "  [2.]\n",
      "  [2.]\n",
      "  [2.]]\n",
      "\n",
      " [[2.]\n",
      "  [2.]\n",
      "  [2.]\n",
      "  [2.]\n",
      "  [2.]]\n",
      "\n",
      " [[2.]\n",
      "  [2.]\n",
      "  [2.]\n",
      "  [2.]\n",
      "  [2.]]\n",
      "\n",
      " [[2.]\n",
      "  [2.]\n",
      "  [2.]\n",
      "  [2.]\n",
      "  [2.]]\n",
      "\n",
      " [[2.]\n",
      "  [2.]\n",
      "  [2.]\n",
      "  [2.]\n",
      "  [2.]]]\n",
      "[[[2. 2. 2.]\n",
      "  [2. 2. 2.]\n",
      "  [2. 2. 2.]\n",
      "  [2. 2. 2.]\n",
      "  [2. 2. 2.]]\n",
      "\n",
      " [[2. 2. 2.]\n",
      "  [2. 2. 2.]\n",
      "  [2. 2. 2.]\n",
      "  [2. 2. 2.]\n",
      "  [2. 2. 2.]]\n",
      "\n",
      " [[2. 2. 2.]\n",
      "  [2. 2. 2.]\n",
      "  [2. 2. 2.]\n",
      "  [2. 2. 2.]\n",
      "  [2. 2. 2.]]\n",
      "\n",
      " [[2. 2. 2.]\n",
      "  [2. 2. 2.]\n",
      "  [2. 2. 2.]\n",
      "  [2. 2. 2.]\n",
      "  [2. 2. 2.]]\n",
      "\n",
      " [[2. 2. 2.]\n",
      "  [2. 2. 2.]\n",
      "  [2. 2. 2.]\n",
      "  [2. 2. 2.]\n",
      "  [2. 2. 2.]]]\n"
     ]
    }
   ],
   "source": [
    "A = np.ones((5,5,3))\n",
    "print(A)\n",
    "B = 2*np.ones((5,5))\n",
    "print(B)\n",
    "print(B[:,:,None])\n",
    "print(A * B[:,:,None])"
   ]
  },
  {
   "cell_type": "markdown",
   "metadata": {},
   "source": [
    "#### 72. How to swap two rows of an array? (★★★)\n",
    "配列の2つの行を交換する方法は？"
   ]
  },
  {
   "cell_type": "code",
   "execution_count": 76,
   "metadata": {
    "tags": []
   },
   "outputs": [
    {
     "name": "stdout",
     "output_type": "stream",
     "text": [
      "[[ 5  6  7  8  9]\n",
      " [ 0  1  2  3  4]\n",
      " [10 11 12 13 14]\n",
      " [15 16 17 18 19]\n",
      " [20 21 22 23 24]]\n"
     ]
    }
   ],
   "source": [
    "# Author: Eelco Hoogendoorn\n",
    "\n",
    "A = np.arange(25).reshape(5,5)\n",
    "A[[0,1]] = A[[1,0]]\n",
    "print(A)"
   ]
  },
  {
   "cell_type": "markdown",
   "metadata": {},
   "source": [
    "#### 73. Consider a set of 10 triplets describing 10 triangles (with shared vertices), find the set of unique line segments composing all the  triangles (★★★)\n",
    "（頂点が共有されている）10個の三角形を表す10個のトリプレットのセットを検討し、すべての三角形を構成する一意の線分のセットを見つけます。\n"
   ]
  },
  {
   "cell_type": "code",
   "execution_count": 77,
   "metadata": {
    "tags": []
   },
   "outputs": [
    {
     "name": "stdout",
     "output_type": "stream",
     "text": [
      "[( 0, 58) ( 0, 86) (17, 22) (17, 30) (18, 70) (18, 71) (21, 46) (21, 73)\n",
      " (22, 30) (28, 73) (28, 81) (39, 39) (39, 75) (41, 49) (41, 93) (43, 83)\n",
      " (43, 92) (46, 73) (49, 93) (58, 86) (66, 85) (66, 91) (70, 71) (73, 81)\n",
      " (83, 92) (85, 91) (89, 91) (89, 96) (91, 96)]\n"
     ]
    }
   ],
   "source": [
    "# 理解不能\n",
    "# Author: Nicolas P. Rougier\n",
    "\n",
    "faces = np.random.randint(0,100,(10,3))\n",
    "F = np.roll(faces.repeat(2,axis=1),-1,axis=1)\n",
    "F = F.reshape(len(F)*3,2)\n",
    "F = np.sort(F,axis=1)\n",
    "G = F.view( dtype=[('p0',F.dtype),('p1',F.dtype)] )\n",
    "G = np.unique(G)\n",
    "print(G)"
   ]
  },
  {
   "cell_type": "markdown",
   "metadata": {},
   "source": [
    "#### 74. Given a sorted array C that corresponds to a bincount, how to produce an array A such that np.bincount(A) == C? (★★★)\n",
    "bincountに対応するソートされた配列Cが与えられた場合、np.bincount（A）== Cとなるような配列Aを生成するにはどうすればよいですか？"
   ]
  },
  {
   "cell_type": "code",
   "execution_count": 78,
   "metadata": {
    "tags": []
   },
   "outputs": [
    {
     "name": "stdout",
     "output_type": "stream",
     "text": [
      "[0 2 1 1 2 0 1]\n",
      "[0 1 2 3 4 5 6]\n",
      "[1 1 2 3 4 4 6]\n"
     ]
    }
   ],
   "source": [
    "C = np.bincount([1,1,2,3,4,4,6])\n",
    "print(C)\n",
    "\n",
    "\n",
    "print(np.arange(len(C)))\n",
    "# numpy.repeat(a, n) はスカラーや配列 a の各要素を n 回 繰り返す 配列を生成します。\n",
    "A = np.repeat(np.arange(len(C)), C)\n",
    "print(A)"
   ]
  },
  {
   "cell_type": "markdown",
   "metadata": {},
   "source": [
    "#### 75. How to compute averages using a sliding window over an array? (★★★)\n",
    "配列上のスライディングウィンドウを使用して平均を計算するにはどうすればよいですか？\n"
   ]
  },
  {
   "cell_type": "code",
   "execution_count": 79,
   "metadata": {
    "tags": []
   },
   "outputs": [
    {
     "name": "stdout",
     "output_type": "stream",
     "text": [
      "[0 1 2 3 4]\n",
      "[ 0.  1.  3.  6. 10.]\n",
      "[ 6. 10.]\n",
      "[0. 1.]\n",
      "[6. 9.]\n",
      "[3. 6. 9.]\n",
      "[1. 2. 3.]\n"
     ]
    }
   ],
   "source": [
    "# Author: Jaime Fernández del Río\n",
    "\n",
    "def moving_average(a, n=3) :\n",
    "    # np.cumsum()で累積和を取得\n",
    "    ret = np.cumsum(a, dtype=float)\n",
    "    print(ret)\n",
    "    print(ret[n:])\n",
    "    print(ret[:-n])\n",
    "    # スライド幅 -1 の幅を算出（−１は重複している値)\n",
    "    ret[n:] = ret[n:] - ret[:-n]\n",
    "    print(ret[n:])\n",
    "    print(ret[n - 1:])\n",
    "    # 重複して削除された値を補填して平均化\n",
    "    return ret[n - 1:] / n\n",
    "Z = np.arange(5)\n",
    "print(Z)\n",
    "print(moving_average(Z, n=3))"
   ]
  },
  {
   "cell_type": "markdown",
   "metadata": {},
   "source": [
    "#### 76. Consider a one-dimensional array Z, build a two-dimensional array whose first row is (Z[0],Z[1],Z[2]) and each subsequent row is  shifted by 1 (last row should be (Z[-3],Z[-2],Z[-1]) (★★★)\n",
    "1次元配列Zを考え、最初の行が（Z [0]、Z [1]、Z [2]）で、後続の各行が1ずつシフトされる2次元配列を作成します（最後の行は（Z [ -3]、Z [-2]、Z [-1]）\n"
   ]
  },
  {
   "cell_type": "code",
   "execution_count": 80,
   "metadata": {
    "tags": []
   },
   "outputs": [
    {
     "data": {
      "text/plain": [
       "array([[0, 1, 2],\n",
       "       [1, 2, 3],\n",
       "       [2, 3, 4],\n",
       "       [3, 4, 5],\n",
       "       [4, 5, 6],\n",
       "       [5, 6, 7],\n",
       "       [6, 7, 8],\n",
       "       [7, 8, 9]])"
      ]
     },
     "execution_count": 80,
     "metadata": {},
     "output_type": "execute_result"
    }
   ],
   "source": [
    "from numpy.lib.stride_tricks import as_strided\n",
    "\n",
    "def roll(a, window):\n",
    "    # shapeサイズを求める>>>(8,3)\n",
    "    shape = (a.size - window + 1, window)\n",
    "    # stride_tricks.as_stridedの引数strides（スキップ幅)は、byte単位で計算するので、aのbyte数を抽出する。\n",
    "    strides = (a.itemsize, a.itemsize)\n",
    "    return as_strided(a, shape=shape, strides=strides)\n",
    "\n",
    "roll(np.arange(10),3)"
   ]
  },
  {
   "cell_type": "markdown",
   "metadata": {},
   "source": [
    "#### 77. How to negate a boolean, or to change the sign of a float inplace? (★★★)\n",
    "ブール値を無効にする方法、またはフロートの符号をインプレースで変更する方法は？"
   ]
  },
  {
   "cell_type": "code",
   "execution_count": 81,
   "metadata": {
    "tags": []
   },
   "outputs": [
    {
     "name": "stdout",
     "output_type": "stream",
     "text": [
      "[0 1 1 1 1 1 1 0 0 0 1 1 0 0 0 1 0 1 0 1 0 0 0 1 0 1 1 0 1 0 1 1 0 1 1 1 1\n",
      " 1 1 1 1 1 0 1 0 0 1 0 0 0 1 1 0 0 0 0 1 0 1 0 1 1 1 1 0 0 0 0 0 1 0 1 0 1\n",
      " 0 1 0 0 1 1 1 0 0 0 1 1 0 1 1 0 1 1 1 0 1 0 1 0 1 0]\n",
      "[0 1 1 1 1 1 1 0 0 0 1 1 0 0 0 1 0 1 0 1 0 0 0 1 0 1 1 0 1 0 1 1 0 1 1 1 1\n",
      " 1 1 1 1 1 0 1 0 0 1 0 0 0 1 1 0 0 0 0 1 0 1 0 1 1 1 1 0 0 0 0 0 1 0 1 0 1\n",
      " 0 1 0 0 1 1 1 0 0 0 1 1 0 1 1 0 1 1 1 0 1 0 1 0 1 0]\n",
      "[-0.96714074  0.85905863  0.33983309  0.57030582 -0.43653979  0.17282033\n",
      " -0.87208947 -0.02874481  0.95499028  0.75301049 -0.3236821   0.92314031\n",
      " -0.53659675  0.89863764  0.88275541  0.59840517  0.26089587  0.74857593\n",
      " -0.41395943  0.69788711  0.23575338 -0.97352628 -0.30553296 -0.70371828\n",
      "  0.96365878 -0.04325939 -0.00521727  0.27894503 -0.26283079 -0.72619946\n",
      "  0.64423547 -0.62030418  0.02263797 -0.55136594 -0.80431103  0.72438303\n",
      "  0.94583898  0.92166932  0.813111    0.54809467 -0.3337097  -0.83779722\n",
      " -0.18551766 -0.53553172 -0.73502473 -0.89314564  0.45118873 -0.97714508\n",
      "  0.5411615  -0.70610671 -0.84095583 -0.82079393  0.34409561 -0.50926558\n",
      " -0.15892107  0.11473758  0.72110235  0.45408853 -0.45934419 -0.7370344\n",
      " -0.88925136 -0.39680273 -0.4757637  -0.08771887  0.36656267  0.39125089\n",
      " -0.43296231 -0.24014609 -0.63769808  0.57709102 -0.88630385  0.39399448\n",
      "  0.55739079  0.55481512 -0.48115487 -0.25237372  0.17519927 -0.4543562\n",
      " -0.2582944  -0.60589144 -0.08028823 -0.9107754   0.59959177 -0.84608711\n",
      "  0.0376703  -0.3863798   0.1550859   0.91886668  0.29114049 -0.92927513\n",
      " -0.13919512  0.0200337   0.07235499  0.36278502 -0.4448078  -0.74227887\n",
      " -0.21464865  0.91281145 -0.62573822  0.80796791]\n",
      "[ 0 -1 -1 -1 -1 -1 -1  0  0  0 -1 -1  0  0  0 -1  0 -1  0 -1  0  0  0 -1\n",
      "  0 -1 -1  0 -1  0 -1 -1  0 -1 -1 -1 -1 -1 -1 -1 -1 -1  0 -1  0  0 -1  0\n",
      "  0  0 -1 -1  0  0  0  0 -1  0 -1  0 -1 -1 -1 -1  0  0  0  0  0 -1  0 -1\n",
      "  0 -1  0 -1  0  0 -1 -1 -1  0  0  0 -1 -1  0 -1 -1  0 -1 -1 -1  0 -1  0\n",
      " -1  0 -1  0]\n"
     ]
    }
   ],
   "source": [
    "# Author: Nathaniel J. Smith\n",
    "\n",
    "#ブール値の無効（否定）\n",
    "Z = np.random.randint(0,2,100)\n",
    "z = np.logical_not(Z, out=Z)\n",
    "print(Z)\n",
    "print(z)\n",
    "\n",
    "#インプレース\n",
    "A = np.random.uniform(-1.0,1.0,100)\n",
    "a = np.negative(Z, out=Z)\n",
    "print(A)\n",
    "print(a)"
   ]
  },
  {
   "cell_type": "markdown",
   "metadata": {},
   "source": [
    "#### 78. Consider 2 sets of points P0,P1 describing lines (2d) and a point p, how to compute distance from p to each line i (P0[i],P1[i])? (★★★)\n",
    "線（2d）と点pを表す2組の点P0、P1を考えてみましょう。pから各線i（P0 [i]、P1 [i]）までの距離を計算する方法は？\n"
   ]
  },
  {
   "cell_type": "markdown",
   "metadata": {},
   "source": [
    "点と直線の公式  \n",
    "https://okimath.com/tento"
   ]
  },
  {
   "cell_type": "code",
   "execution_count": 82,
   "metadata": {},
   "outputs": [],
   "source": [
    "# 理解不能\n",
    "\n",
    "p = np.array([[1, 2]])\n",
    "P0 = np.array([[3, 5]])\n",
    "P1 = np.array([[3, -3]])"
   ]
  },
  {
   "cell_type": "code",
   "execution_count": 83,
   "metadata": {
    "tags": []
   },
   "outputs": [
    {
     "name": "stdout",
     "output_type": "stream",
     "text": [
      "[0.375]\n",
      "[[0.375]]\n",
      "[2.]\n"
     ]
    }
   ],
   "source": [
    "p = np.array([[1, 2]])\n",
    "P0 = np.array([[3, 5]])\n",
    "P1 = np.array([[3, -3]])\n",
    "\n",
    "def distance(P0, P1, p):\n",
    "    T = P1 - P0\n",
    "    L = (T**2).sum(axis=1)\n",
    "    U = -((P0[:,0]-p[...,0])*T[:,0] + (P0[:,1]-p[...,1])*T[:,1]) / L\n",
    "    print(U)\n",
    "    U = U.reshape(len(U),1)\n",
    "    print(U)\n",
    "    D = P0 + U*T - p\n",
    "    return np.sqrt((D**2).sum(axis=1))\n",
    "\n",
    "print(distance(P0, P1, p))"
   ]
  },
  {
   "cell_type": "markdown",
   "metadata": {},
   "source": [
    "#### 79. Consider 2 sets of points P0,P1 describing lines (2d) and a set of points P, how to compute distance from each point j (P[j]) to each line i (P0[i],P1[i])? (★★★)\n",
    "線（2d）を表す2組の点P0、P1と1組の点Pを考えてみましょう。各点j（P [j]）から各線i（P0 [i]、P1 [i]）までの距離を計算する方法は？\n"
   ]
  },
  {
   "cell_type": "code",
   "execution_count": 84,
   "metadata": {
    "jupyter": {
     "source_hidden": true
    },
    "tags": []
   },
   "outputs": [
    {
     "name": "stdout",
     "output_type": "stream",
     "text": [
      "[[  8   3]\n",
      " [  3  -8]\n",
      " [ -7  -1]\n",
      " [  2   5]\n",
      " [ -8   9]\n",
      " [ -4   4]\n",
      " [  6   5]\n",
      " [ -2 -10]\n",
      " [  0   1]\n",
      " [  3  -3]]\n",
      "[0.25]\n",
      "[[0.25]]\n",
      "[1.625]\n",
      "[[1.625]]\n",
      "[0.75]\n",
      "[[0.75]]\n",
      "[0.]\n",
      "[[0.]]\n",
      "[-0.5]\n",
      "[[-0.5]]\n",
      "[0.125]\n",
      "[[0.125]]\n",
      "[0.]\n",
      "[[0.]]\n",
      "[1.875]\n",
      "[[1.875]]\n",
      "[0.5]\n",
      "[[0.5]]\n",
      "[1.]\n",
      "[[1.]]\n",
      "[[ 5.]\n",
      " [ 0.]\n",
      " [10.]\n",
      " [ 1.]\n",
      " [11.]\n",
      " [ 7.]\n",
      " [ 3.]\n",
      " [ 5.]\n",
      " [ 3.]\n",
      " [ 0.]]\n"
     ]
    }
   ],
   "source": [
    "p = np.random.randint(-10,10,(10,2))\n",
    "print(p)\n",
    "\n",
    "print(np.array([distance(P0,P1,p_i) for p_i in p]))"
   ]
  },
  {
   "cell_type": "markdown",
   "metadata": {},
   "source": [
    "#### 80. Consider an arbitrary array, write a function that extract a subpart with a fixed shape and centered on a given element (pad with a `fill` value when necessary) (★★★)\n",
    "任意の配列を検討し、固定された形状で特定の要素を中心とするサブパーツを抽出する関数を記述します（必要に応じて塗りつぶし値のあるパッド）"
   ]
  },
  {
   "cell_type": "code",
   "execution_count": 85,
   "metadata": {},
   "outputs": [],
   "source": [
    "# 理解は出来たが難しい"
   ]
  },
  {
   "cell_type": "code",
   "execution_count": 86,
   "metadata": {
    "tags": []
   },
   "outputs": [
    {
     "name": "stdout",
     "output_type": "stream",
     "text": [
      "[[2 2 1 1 2 1 2 1 2 0]\n",
      " [1 1 2 2 0 2 1 2 0 1]\n",
      " [2 0 2 1 2 1 0 0 1 0]\n",
      " [2 0 1 2 0 2 0 0 1 0]\n",
      " [1 0 2 0 2 1 0 2 0 2]\n",
      " [0 2 2 0 0 2 1 1 1 1]\n",
      " [0 2 1 1 1 1 2 0 2 1]\n",
      " [1 1 1 2 0 1 2 1 1 1]\n",
      " [2 0 2 2 2 2 2 0 1 1]\n",
      " [2 2 2 1 1 1 2 2 1 2]]\n",
      "\n",
      "[[0 0 0 0 0]\n",
      " [0 2 2 1 1]\n",
      " [0 1 1 2 2]\n",
      " [0 2 0 2 1]\n",
      " [0 2 0 1 2]]\n"
     ]
    },
    {
     "name": "stderr",
     "output_type": "stream",
     "text": [
      "<ipython-input-86-35f4714c35ad>:43: FutureWarning: Using a non-tuple sequence for multidimensional indexing is deprecated; use `arr[tuple(seq)]` instead of `arr[seq]`. In the future this will be interpreted as an array index, `arr[np.array(seq)]`, which will result either in an error or a different result.\n",
      "  R[r] = Z[z]\n"
     ]
    }
   ],
   "source": [
    "Z = np.random.randint(0,3,(10,10))\n",
    "print(Z)\n",
    "print()\n",
    "shape = (5,5)\n",
    "fill  = 0\n",
    "position = (1,1)\n",
    "\n",
    "# Rが新しく作るパディング\n",
    "# Zは元の配列\n",
    "\n",
    "R  = np.ones(shape, dtype=Z.dtype)*fill\n",
    "# >> 0の(5,5)配列\n",
    "P  = np.array(list(position)).astype(int)\n",
    "# >> [1 1]\n",
    "Rs = np.array(list(R.shape)).astype(int)\n",
    "# >> [5 5]\n",
    "Zs = np.array(list(Z.shape)).astype(int)\n",
    "# >> [10 10]\n",
    "\n",
    "\n",
    "R_start = np.zeros((len(shape),)).astype(int)\n",
    "# >> [0 0]\n",
    "R_stop  = np.array(list(shape)).astype(int)\n",
    "# >> [5,5]\n",
    "Z_start = (P-Rs//2)\n",
    "# >> [-1 -1]\n",
    "Z_stop  = (P+Rs//2)+Rs%2\n",
    "# >> [4 4]\n",
    "\n",
    "# minimum()、maximun()は、引数に渡した2つの配列の各要素のうち、値が小さい方(大きい方)を取得する関数です。\n",
    "R_start = (R_start - np.minimum(Z_start,0)).tolist()\n",
    "# >> [1,1]\n",
    "Z_start = (np.maximum(Z_start,0)).tolist()\n",
    "# >> [0,0]\n",
    "R_stop = np.maximum(R_start, (R_stop - np.maximum(Z_stop-Zs,0))).tolist()\n",
    "# >> [5,5]\n",
    "Z_stop = (np.minimum(Z_stop,Zs)).tolist()\n",
    "# >> [4,4]\n",
    "\n",
    "#組み込み関数slice()を使うとスライスオブジェクトを生成できる。同じ位置の要素を繰り返し取得したい場合はスライスオブジェクトを一度生成しておくだけでよいので便利。\n",
    "r = [slice(start,stop) for start,stop in zip(R_start,R_stop)]\n",
    "z = [slice(start,stop) for start,stop in zip(Z_start,Z_stop)]\n",
    "R[r] = Z[z]\n",
    "print(R)"
   ]
  },
  {
   "cell_type": "markdown",
   "metadata": {},
   "source": [
    "#### 81. Consider an array Z = [1,2,3,4,5,6,7,8,9,10,11,12,13,14], how to generate an array R = [[1,2,3,4], [2,3,4,5], [3,4,5,6], ..., [11,12,13,14]]? (★★★)\n",
    "配列Z = [1,2,3,4,5,6,7,8,9,10,11,12,13,14]を考えてみましょう。配列を生成する方法は、R = [[1,2,3、 4]、[2,3,4,5]、[3,4,5,6]、...、[11,12,13,14]]？"
   ]
  },
  {
   "cell_type": "code",
   "execution_count": 87,
   "metadata": {
    "tags": []
   },
   "outputs": [
    {
     "name": "stdout",
     "output_type": "stream",
     "text": [
      "[[ 1  2  3  4]\n",
      " [ 2  3  4  5]\n",
      " [ 3  4  5  6]\n",
      " [ 4  5  6  7]\n",
      " [ 5  6  7  8]\n",
      " [ 6  7  8  9]\n",
      " [ 7  8  9 10]\n",
      " [ 8  9 10 11]\n",
      " [ 9 10 11 12]\n",
      " [10 11 12 13]\n",
      " [11 12 13 14]]\n"
     ]
    }
   ],
   "source": [
    "Z = np.arange(1,15,dtype=np.uint32)\n",
    "R = as_strided(Z,(11,4),(4,4))\n",
    "print(R)"
   ]
  },
  {
   "cell_type": "markdown",
   "metadata": {},
   "source": [
    "#### 82. Compute a matrix rank (★★★)\n",
    "行列の階数を計算する"
   ]
  },
  {
   "cell_type": "code",
   "execution_count": 88,
   "metadata": {},
   "outputs": [
    {
     "name": "stdout",
     "output_type": "stream",
     "text": [
      "[[1 2 2]\n",
      " [3 1 2]\n",
      " [1 1 3]]\n"
     ]
    },
    {
     "data": {
      "text/plain": [
       "3"
      ]
     },
     "execution_count": 88,
     "metadata": {},
     "output_type": "execute_result"
    }
   ],
   "source": [
    "a = np.random.randint(1,4,(3,3))\n",
    "print(a)\n",
    "\n",
    "np.linalg.matrix_rank(a)"
   ]
  },
  {
   "cell_type": "markdown",
   "metadata": {},
   "source": [
    "#### 83. How to find the most frequent value in an array?\n",
    "配列内で最も頻度の高い値を見つける方法\n"
   ]
  },
  {
   "cell_type": "code",
   "execution_count": 89,
   "metadata": {
    "tags": []
   },
   "outputs": [
    {
     "name": "stdout",
     "output_type": "stream",
     "text": [
      "[1 7 8 1 2 1 1 7 5 0 4 1 1 6 6 0 2 3 7 9 2 4 9 0 6 9 2 4 7 3]\n"
     ]
    },
    {
     "data": {
      "text/plain": [
       "7"
      ]
     },
     "execution_count": 89,
     "metadata": {},
     "output_type": "execute_result"
    }
   ],
   "source": [
    "a = np.random.randint(0,10,30)\n",
    "print(a)\n",
    "\n",
    "a[np.bincount(a).argmax()]"
   ]
  },
  {
   "cell_type": "markdown",
   "metadata": {},
   "source": [
    "#### 84. Extract all the contiguous 3x3 blocks from a random 10x10 matrix (★★★)\n",
    "ランダムな10x10行列からすべての隣接する3x3ブロックを抽出します\n"
   ]
  },
  {
   "cell_type": "code",
   "execution_count": 91,
   "metadata": {
    "tags": []
   },
   "outputs": [
    {
     "name": "stdout",
     "output_type": "stream",
     "text": [
      "[[2 4 0 2 3]\n",
      " [4 3 4 4 4]\n",
      " [2 1 3 4 4]\n",
      " [0 0 2 4 3]\n",
      " [3 0 0 1 4]]\n",
      "[[[[2 4 0]\n",
      "   [4 3 4]\n",
      "   [2 1 3]]\n",
      "\n",
      "  [[4 0 2]\n",
      "   [3 4 4]\n",
      "   [1 3 4]]\n",
      "\n",
      "  [[0 2 3]\n",
      "   [4 4 4]\n",
      "   [3 4 4]]]\n",
      "\n",
      "\n",
      " [[[4 3 4]\n",
      "   [2 1 3]\n",
      "   [0 0 2]]\n",
      "\n",
      "  [[3 4 4]\n",
      "   [1 3 4]\n",
      "   [0 2 4]]\n",
      "\n",
      "  [[4 4 4]\n",
      "   [3 4 4]\n",
      "   [2 4 3]]]\n",
      "\n",
      "\n",
      " [[[2 1 3]\n",
      "   [0 0 2]\n",
      "   [3 0 0]]\n",
      "\n",
      "  [[1 3 4]\n",
      "   [0 2 4]\n",
      "   [0 0 1]]\n",
      "\n",
      "  [[3 4 4]\n",
      "   [2 4 3]\n",
      "   [0 1 4]]]]\n"
     ]
    }
   ],
   "source": [
    "Z = np.random.randint(0,5,(5,5))\n",
    "print(Z)\n",
    "n = 3\n",
    "i = 1 + (Z.shape[0]-3)\n",
    "j = 1 + (Z.shape[1]-3)\n",
    "C = as_strided(Z, shape=(i, j, n, n), strides=Z.strides + Z.strides)\n",
    "print(C)"
   ]
  },
  {
   "cell_type": "markdown",
   "metadata": {},
   "source": [
    "#### 85. Create a 2D array subclass such that Z[i,j] == Z[j,i] (★★★)\n",
    "Z [i、j] == Z [j、i]となるような2D配列サブクラスを作成します"
   ]
  },
  {
   "cell_type": "markdown",
   "metadata": {},
   "source": [
    "#スーパークラスの作り方を復習"
   ]
  },
  {
   "cell_type": "code",
   "execution_count": 104,
   "metadata": {},
   "outputs": [
    {
     "ename": "NameError",
     "evalue": "name 'aaa' is not defined",
     "output_type": "error",
     "traceback": [
      "\u001b[0;31m---------------------------------------------------------------------------\u001b[0m",
      "\u001b[0;31mNameError\u001b[0m                                 Traceback (most recent call last)",
      "\u001b[0;32m<ipython-input-104-972a1a11f199>\u001b[0m in \u001b[0;36m<module>\u001b[0;34m\u001b[0m\n\u001b[0;32m----> 1\u001b[0;31m \u001b[0maaa\u001b[0m\u001b[0;34m\u001b[0m\u001b[0;34m\u001b[0m\u001b[0m\n\u001b[0m",
      "\u001b[0;31mNameError\u001b[0m: name 'aaa' is not defined"
     ]
    }
   ],
   "source": [
    "aaa"
   ]
  },
  {
   "cell_type": "code",
   "execution_count": 105,
   "metadata": {
    "tags": []
   },
   "outputs": [
    {
     "name": "stdout",
     "output_type": "stream",
     "text": [
      "[[ 1 13 12  6 12]\n",
      " [13  0  6  6 12]\n",
      " [12  6  8 42 12]\n",
      " [ 6  6 42  5  7]\n",
      " [12 12 12  7  8]]\n"
     ]
    }
   ],
   "source": [
    "class Symetric(np.ndarray):\n",
    "    def __setitem__(self, index, value):\n",
    "        i,j = index\n",
    "        super(Symetric, self).__setitem__((i,j), value)\n",
    "        super(Symetric, self).__setitem__((j,i), value)\n",
    "\n",
    "def symetric(Z):\n",
    "    return np.asarray(Z + Z.T - np.diag(Z.diagonal())).view(Symetric)\n",
    "\n",
    "s = np.random.randint(0,10,(5,5))\n",
    "S = symetric(s)\n",
    "S[2,3] = 42\n",
    "print(S)"
   ]
  },
  {
   "cell_type": "markdown",
   "metadata": {},
   "source": [
    "#### 86. Consider a set of p matrices wich shape (n,n) and a set of p vectors with shape (n,1). How to compute the sum of of the p matrix products at once? (result has shape (n,1)) (★★★)\n",
    "形状（n、n）を持つp行列のセットと、形状（n、1）を持つpベクトルのセットについて考えてみます。 p行列積の合計を一度に計算する方法は？ （結果の形状は（n、1））"
   ]
  },
  {
   "cell_type": "markdown",
   "metadata": {},
   "source": [
    "テンソル積の理解_参考  \n",
    "https://qiita.com/nyandora/items/0fac6e307edc16c3cb91"
   ]
  },
  {
   "cell_type": "code",
   "execution_count": 106,
   "metadata": {
    "tags": []
   },
   "outputs": [
    {
     "name": "stdout",
     "output_type": "stream",
     "text": [
      "[[[1 4]\n",
      "  [2 1]]\n",
      "\n",
      " [[4 1]\n",
      "  [0 2]]]\n",
      "\n",
      "[[[3]\n",
      "  [3]]\n",
      "\n",
      " [[3]\n",
      "  [4]]]\n"
     ]
    },
    {
     "data": {
      "text/plain": [
       "array([[31],\n",
       "       [17]])"
      ]
     },
     "execution_count": 106,
     "metadata": {},
     "output_type": "execute_result"
    }
   ],
   "source": [
    "n = 2\n",
    "p = np.random.randint(0,5,(2,n,n))\n",
    "print(p)\n",
    "print()\n",
    "b = np.random.randint(0,5,(2,n,1))\n",
    "print(b)\n",
    "\n",
    "# 行列aの1次元、3次元の中間行列*ベクトルbの3次元、２次元で積をとる。\n",
    "np.tensordot(p, b, axes = [[0,2],[0,1]])"
   ]
  },
  {
   "cell_type": "markdown",
   "metadata": {},
   "source": [
    "#### 87. Consider a 16x16 array, how to get the block-sum (block size is 4x4)? (★★★)\n",
    "16x16配列を考えてみましょう。ブロック合計（ブロックサイズは4x4）を取得する方法は？  "
   ]
  },
  {
   "cell_type": "markdown",
   "metadata": {},
   "source": [
    "### ヒント  \n",
    "\n",
    "ufunc.reduceat（配列、インデックス、軸= 0、dtype =なし、out =なし）  \n",
    "単一の軸上で指定されたスライスを使用して（ローカル）縮小を実行します。  \n",
    "https://numpy.org/doc/stable/reference/generated/numpy.ufunc.reduceat.html"
   ]
  },
  {
   "cell_type": "code",
   "execution_count": 115,
   "metadata": {},
   "outputs": [
    {
     "ename": "NameError",
     "evalue": "name 'aaaa' is not defined",
     "output_type": "error",
     "traceback": [
      "\u001b[0;31m---------------------------------------------------------------------------\u001b[0m",
      "\u001b[0;31mNameError\u001b[0m                                 Traceback (most recent call last)",
      "\u001b[0;32m<ipython-input-115-7bae8076a577>\u001b[0m in \u001b[0;36m<module>\u001b[0;34m\u001b[0m\n\u001b[0;32m----> 1\u001b[0;31m \u001b[0maaaa\u001b[0m\u001b[0;34m\u001b[0m\u001b[0;34m\u001b[0m\u001b[0m\n\u001b[0m",
      "\u001b[0;31mNameError\u001b[0m: name 'aaaa' is not defined"
     ]
    }
   ],
   "source": [
    "aaaa"
   ]
  },
  {
   "cell_type": "code",
   "execution_count": 116,
   "metadata": {
    "tags": []
   },
   "outputs": [
    {
     "name": "stdout",
     "output_type": "stream",
     "text": [
      "[[1. 1. 1. 1. 1. 1. 1. 1. 1. 1. 1. 1. 1. 1. 1. 1.]\n",
      " [1. 1. 1. 1. 1. 1. 1. 1. 1. 1. 1. 1. 1. 1. 1. 1.]\n",
      " [1. 1. 1. 1. 1. 1. 1. 1. 1. 1. 1. 1. 1. 1. 1. 1.]\n",
      " [1. 1. 1. 1. 1. 1. 1. 1. 1. 1. 1. 1. 1. 1. 1. 1.]\n",
      " [1. 1. 1. 1. 1. 1. 1. 1. 1. 1. 1. 1. 1. 1. 1. 1.]\n",
      " [1. 1. 1. 1. 1. 1. 1. 1. 1. 1. 1. 1. 1. 1. 1. 1.]\n",
      " [1. 1. 1. 1. 1. 1. 1. 1. 1. 1. 1. 1. 1. 1. 1. 1.]\n",
      " [1. 1. 1. 1. 1. 1. 1. 1. 1. 1. 1. 1. 1. 1. 1. 1.]\n",
      " [1. 1. 1. 1. 1. 1. 1. 1. 1. 1. 1. 1. 1. 1. 1. 1.]\n",
      " [1. 1. 1. 1. 1. 1. 1. 1. 1. 1. 1. 1. 1. 1. 1. 1.]\n",
      " [1. 1. 1. 1. 1. 1. 1. 1. 1. 1. 1. 1. 1. 1. 1. 1.]\n",
      " [1. 1. 1. 1. 1. 1. 1. 1. 1. 1. 1. 1. 1. 1. 1. 1.]\n",
      " [1. 1. 1. 1. 1. 1. 1. 1. 1. 1. 1. 1. 1. 1. 1. 1.]\n",
      " [1. 1. 1. 1. 1. 1. 1. 1. 1. 1. 1. 1. 1. 1. 1. 1.]\n",
      " [1. 1. 1. 1. 1. 1. 1. 1. 1. 1. 1. 1. 1. 1. 1. 1.]\n",
      " [1. 1. 1. 1. 1. 1. 1. 1. 1. 1. 1. 1. 1. 1. 1. 1.]]\n",
      "[[4. 4. 4. 4. 4. 4. 4. 4. 4. 4. 4. 4. 4. 4. 4. 4.]\n",
      " [4. 4. 4. 4. 4. 4. 4. 4. 4. 4. 4. 4. 4. 4. 4. 4.]\n",
      " [4. 4. 4. 4. 4. 4. 4. 4. 4. 4. 4. 4. 4. 4. 4. 4.]\n",
      " [4. 4. 4. 4. 4. 4. 4. 4. 4. 4. 4. 4. 4. 4. 4. 4.]]\n",
      "[[16. 16. 16. 16.]\n",
      " [16. 16. 16. 16.]\n",
      " [16. 16. 16. 16.]\n",
      " [16. 16. 16. 16.]]\n"
     ]
    }
   ],
   "source": [
    "z = np.ones((16,16))\n",
    "print(z)\n",
    "\n",
    "k = 4\n",
    "# reduceat(単一の軸上で指定されたスライスを使用して（ローカル）縮小を実行します。)\n",
    "s1 = np.add.reduceat(z, np.arange(0, z.shape[0],k), axis=0)\n",
    "print(s1)\n",
    "s2 = np.add.reduceat(s1,np.arange(0, s1.shape[1],k), axis=1)\n",
    "\n",
    "print(s2)"
   ]
  },
  {
   "cell_type": "markdown",
   "metadata": {},
   "source": [
    "#### 88. How to implement the Game of Life using numpy arrays? (★★★)\n",
    "numpy配列を使用してGameof Lifeを実装するにはどうすればよいですか？  \n",
    "Game of Lifeのwiki  \n",
    "https://ja.wikipedia.org/wiki/%E3%83%A9%E3%82%A4%E3%83%95%E3%82%B2%E3%83%BC%E3%83%A0"
   ]
  },
  {
   "cell_type": "code",
   "execution_count": 117,
   "metadata": {},
   "outputs": [],
   "source": [
    "#意味不明"
   ]
  },
  {
   "cell_type": "code",
   "execution_count": 118,
   "metadata": {},
   "outputs": [
    {
     "name": "stdout",
     "output_type": "stream",
     "text": [
      "[[1 0 0 1 0]\n",
      " [1 0 0 0 1]\n",
      " [1 1 1 0 1]\n",
      " [1 0 0 1 0]\n",
      " [1 0 1 0 1]]\n",
      "[[0 0 0 0 0]\n",
      " [0 0 0 0 0]\n",
      " [0 0 0 0 0]\n",
      " [0 0 0 0 0]\n",
      " [0 0 0 0 0]]\n"
     ]
    }
   ],
   "source": [
    "def iterate(Z):\n",
    "    # Count neighbours\n",
    "    N = (Z[0:-2,0:-2] + Z[0:-2,1:-1] + Z[0:-2,2:] +\n",
    "         Z[1:-1,0:-2]                + Z[1:-1,2:] +\n",
    "         Z[2:  ,0:-2] + Z[2:  ,1:-1] + Z[2:  ,2:])\n",
    "\n",
    "    # Apply rules\n",
    "    birth = (N==3) & (Z[1:-1,1:-1]==0)\n",
    "    survive = ((N==2) | (N==3)) & (Z[1:-1,1:-1]==1)\n",
    "    Z[...] = 0\n",
    "    Z[1:-1,1:-1][birth | survive] = 1\n",
    "    return Z\n",
    "\n",
    "a = np.random.randint(0,2,(5,5))\n",
    "print(a)\n",
    "\n",
    "for i in range(10): Z = iterate(a)\n",
    "print(Z)"
   ]
  },
  {
   "cell_type": "markdown",
   "metadata": {},
   "source": [
    "#### 89. How to get the n largest values of an array (★★★)\n",
    "配列のn個の最大値を取得する方法"
   ]
  },
  {
   "cell_type": "code",
   "execution_count": 228,
   "metadata": {},
   "outputs": [
    {
     "ename": "NameError",
     "evalue": "name 'aaaaa' is not defined",
     "output_type": "error",
     "traceback": [
      "\u001b[0;31m---------------------------------------------------------------------------\u001b[0m",
      "\u001b[0;31mNameError\u001b[0m                                 Traceback (most recent call last)",
      "\u001b[0;32m<ipython-input-228-5cafdebe4e78>\u001b[0m in \u001b[0;36m<module>\u001b[0;34m\u001b[0m\n\u001b[0;32m----> 1\u001b[0;31m \u001b[0maaaaa\u001b[0m\u001b[0;34m\u001b[0m\u001b[0;34m\u001b[0m\u001b[0m\n\u001b[0m",
      "\u001b[0;31mNameError\u001b[0m: name 'aaaaa' is not defined"
     ]
    }
   ],
   "source": [
    "aaaaa"
   ]
  },
  {
   "cell_type": "code",
   "execution_count": 175,
   "metadata": {
    "jupyter": {
     "source_hidden": true
    },
    "tags": []
   },
   "outputs": [
    {
     "name": "stdout",
     "output_type": "stream",
     "text": [
      "393 µs ± 2.96 µs per loop (mean ± std. dev. of 7 runs, 1000 loops each)\n",
      "16.8 µs ± 1.18 µs per loop (mean ± std. dev. of 7 runs, 100000 loops each)\n"
     ]
    }
   ],
   "source": [
    "Z = np.arange(10000)\n",
    "np.random.shuffle(Z)\n",
    "n = 5\n",
    "\n",
    "# Slow\n",
    "%timeit Z[np.argsort(Z)[-n:]]\n",
    "\n",
    "# Fast\n",
    "%timeit Z[np.argpartition(-Z,n)[:n]]"
   ]
  },
  {
   "cell_type": "markdown",
   "metadata": {},
   "source": [
    "#### 90. Given an arbitrary number of vectors, build the cartesian product (every combinations of every item) (★★★)  \n",
    "任意の数のベクトルを指定して、デカルト積を作成します（すべてのアイテムのすべての組み合わせ）\n"
   ]
  },
  {
   "cell_type": "code",
   "execution_count": 229,
   "metadata": {},
   "outputs": [
    {
     "ename": "NameError",
     "evalue": "name 'aaaa' is not defined",
     "output_type": "error",
     "traceback": [
      "\u001b[0;31m---------------------------------------------------------------------------\u001b[0m",
      "\u001b[0;31mNameError\u001b[0m                                 Traceback (most recent call last)",
      "\u001b[0;32m<ipython-input-229-7bae8076a577>\u001b[0m in \u001b[0;36m<module>\u001b[0;34m\u001b[0m\n\u001b[0;32m----> 1\u001b[0;31m \u001b[0maaaa\u001b[0m\u001b[0;34m\u001b[0m\u001b[0;34m\u001b[0m\u001b[0m\n\u001b[0m",
      "\u001b[0;31mNameError\u001b[0m: name 'aaaa' is not defined"
     ]
    }
   ],
   "source": [
    "aaaa"
   ]
  },
  {
   "cell_type": "code",
   "execution_count": 202,
   "metadata": {
    "jupyter": {
     "source_hidden": true
    },
    "tags": []
   },
   "outputs": [
    {
     "data": {
      "text/plain": [
       "array([[1, 4, 6],\n",
       "       [1, 4, 7],\n",
       "       [1, 5, 6],\n",
       "       [1, 5, 7],\n",
       "       [2, 4, 6],\n",
       "       [2, 4, 7],\n",
       "       [2, 5, 6],\n",
       "       [2, 5, 7],\n",
       "       [3, 4, 6],\n",
       "       [3, 4, 7],\n",
       "       [3, 5, 6],\n",
       "       [3, 5, 7]])"
      ]
     },
     "execution_count": 202,
     "metadata": {},
     "output_type": "execute_result"
    }
   ],
   "source": [
    "from sklearn.utils.extmath import cartesian\n",
    "cartesian(([1, 2, 3], [4, 5], [6, 7]))"
   ]
  },
  {
   "cell_type": "markdown",
   "metadata": {},
   "source": [
    "#### 91. How to create a record array from a regular array? (★★★)  \n",
    "通常の配列からレコード配列を作成するにはどうすればよいですか？\n"
   ]
  },
  {
   "cell_type": "code",
   "execution_count": null,
   "metadata": {},
   "outputs": [],
   "source": [
    "aaaa"
   ]
  },
  {
   "cell_type": "code",
   "execution_count": 224,
   "metadata": {
    "jupyter": {
     "source_hidden": true
    },
    "tags": []
   },
   "outputs": [
    {
     "name": "stdout",
     "output_type": "stream",
     "text": [
      "[(b'Hello', 2.5, 3) (b'World', 3.6, 2)]\n"
     ]
    }
   ],
   "source": [
    "Z = np.array([(\"Hello\", 2.5, 3),\n",
    "              (\"World\", 3.6, 2)])\n",
    "\n",
    "\n",
    "R = np.core.records.fromarrays(Z.T,\n",
    "                               names='col1, col2, col3',\n",
    "                               formats = 'S8, f8, i8')\n",
    "print(R)"
   ]
  },
  {
   "cell_type": "code",
   "execution_count": 227,
   "metadata": {},
   "outputs": [
    {
     "name": "stdout",
     "output_type": "stream",
     "text": [
      "[5 6 1 1 6 3 7 4 9 0]\n",
      "[5 6 1 1 6 3 7 4 9 0]\n",
      "[(6, -10) (7, -10) (0,  -7) (1,  -5) (4,  -4) (1,  -3) (9,  -3) (3,  -2)\n",
      " (5,  -2) (6,  -1)]\n"
     ]
    }
   ],
   "source": [
    "# 新しく作る方法\n",
    "mydtype = np.dtype(\"i4,i8\")\n",
    "mydtype.names = (\"x\",\"y\")\n",
    "N = 10\n",
    "\n",
    "a = np.zeros(N, dtype = mydtype)\n",
    "a[\"x\"] = np.random.randint(0,10,N)\n",
    "a[\"y\"] = np.random.randint(-10,0,N)\n",
    "\n",
    "print(a[\"x\"])\n",
    "print(a[\"x\"])\n",
    "\n",
    "b = np.lexsort((a[\"x\"],a[\"y\"]))\n",
    "\n",
    "print(a[b])"
   ]
  },
  {
   "cell_type": "markdown",
   "metadata": {},
   "source": [
    "#### 92. Consider a large vector Z, compute Z to the power of 3 using 3 different methods (★★★)  \n",
    "大きなベクトルZを考え、3つの異なる方法を使用してZを3の累乗で計算します。\n"
   ]
  },
  {
   "cell_type": "code",
   "execution_count": 252,
   "metadata": {},
   "outputs": [
    {
     "name": "stdout",
     "output_type": "stream",
     "text": [
      "[8.13073897e-01 5.61313661e-01 1.83990178e-01 2.65065387e-01\n",
      " 7.52639209e-01 7.88185085e-01 9.11883314e-01 1.02617489e-01\n",
      " 7.72931736e-01 1.42536843e-01 1.32720478e-01 2.85182543e-01\n",
      " 3.65061771e-01 5.82564271e-01 1.11737888e-01 7.95380262e-01\n",
      " 4.86861602e-01 9.99808383e-01 3.10398828e-01 4.96113484e-01\n",
      " 9.30193835e-01 7.31429581e-01 8.69486999e-01 8.55846865e-04\n",
      " 2.16765780e-01 6.13345791e-01 2.62754827e-01 3.48566856e-01\n",
      " 7.83197286e-01 7.23864645e-01 6.50577600e-01 4.55045098e-01\n",
      " 9.20973708e-01 3.88522058e-02 4.40967670e-01 3.54470984e-03\n",
      " 1.02220273e-01 2.76648942e-01 5.94870961e-01 7.65769071e-01\n",
      " 9.43419608e-01 8.63954332e-01 3.95533342e-01 3.54803644e-02\n",
      " 6.45869914e-01 8.18326029e-01 5.88241926e-01 5.13285177e-01\n",
      " 4.19820255e-01 3.15439254e-01]\n"
     ]
    }
   ],
   "source": [
    "x = np.random.rand(int(5e1))\n",
    "\n",
    "%timeit x*x*x\n",
    "%timeit np.einsum('i,i,i->i',x,x,x)\n",
    "%timeit x**3\n",
    "%timeit np.power(x,3)"
   ]
  },
  {
   "cell_type": "markdown",
   "metadata": {},
   "source": [
    "#### 93. Consider two arrays A and B of shape (8,3) and (2,2). How to find rows of A that contain elements of each row of B regardless of the order of the elements in B? (★★★)  \n",
    "形状（8,3）と（2,2）の2つの配列AとBについて考えてみます。 Bの要素の順序に関係なく、Bの各行の要素を含むAの行を見つける方法は？"
   ]
  },
  {
   "cell_type": "code",
   "execution_count": null,
   "metadata": {},
   "outputs": [],
   "source": [
    "aaaa"
   ]
  },
  {
   "cell_type": "code",
   "execution_count": 274,
   "metadata": {
    "jupyter": {
     "source_hidden": true
    },
    "tags": []
   },
   "outputs": [
    {
     "name": "stdout",
     "output_type": "stream",
     "text": [
      "[[1 3 0]\n",
      " [4 1 3]\n",
      " [0 4 2]\n",
      " [2 2 1]\n",
      " [4 1 3]\n",
      " [3 2 0]\n",
      " [3 0 2]\n",
      " [0 3 0]]\n",
      "--------------------\n",
      "[[3 0]\n",
      " [3 3]]\n",
      "\n",
      "[0 1 4 5 6 7]\n"
     ]
    }
   ],
   "source": [
    "A = np.random.randint(0,5,(8,3))\n",
    "B = np.random.randint(0,5,(2,2))\n",
    "print(A)\n",
    "print(\"--------------------\")\n",
    "print(B)\n",
    "print()\n",
    "\n",
    "C = (A[..., np.newaxis, np.newaxis] == B)\n",
    "rows = np.where(C.any((3,1)).all(1))[0]\n",
    "print(rows)"
   ]
  },
  {
   "cell_type": "markdown",
   "metadata": {},
   "source": [
    "#### 94. Considering a 10x3 matrix, extract rows with unequal values (e.g. [2,2,3]) (★★★)  \n",
    "10x3の行列を考慮して、値が等しくない行を抽出します（例：[2,2,3]）"
   ]
  },
  {
   "cell_type": "code",
   "execution_count": 295,
   "metadata": {},
   "outputs": [
    {
     "ename": "NameError",
     "evalue": "name 'aaaaa' is not defined",
     "output_type": "error",
     "traceback": [
      "\u001b[0;31m---------------------------------------------------------------------------\u001b[0m",
      "\u001b[0;31mNameError\u001b[0m                                 Traceback (most recent call last)",
      "\u001b[0;32m<ipython-input-295-5cafdebe4e78>\u001b[0m in \u001b[0;36m<module>\u001b[0;34m\u001b[0m\n\u001b[0;32m----> 1\u001b[0;31m \u001b[0maaaaa\u001b[0m\u001b[0;34m\u001b[0m\u001b[0;34m\u001b[0m\u001b[0m\n\u001b[0m",
      "\u001b[0;31mNameError\u001b[0m: name 'aaaaa' is not defined"
     ]
    }
   ],
   "source": [
    "aaaaa"
   ]
  },
  {
   "cell_type": "code",
   "execution_count": 294,
   "metadata": {},
   "outputs": [
    {
     "name": "stdout",
     "output_type": "stream",
     "text": [
      "[[4 4 3]\n",
      " [2 4 0]\n",
      " [4 0 3]\n",
      " [4 4 3]\n",
      " [3 2 0]\n",
      " [2 0 4]\n",
      " [3 4 1]\n",
      " [2 0 3]\n",
      " [3 1 2]\n",
      " [1 4 1]]\n",
      "[[4 4 3]\n",
      " [2 4 0]\n",
      " [4 0 3]\n",
      " [4 4 3]\n",
      " [3 2 0]\n",
      " [2 0 4]\n",
      " [3 4 1]\n",
      " [2 0 3]\n",
      " [3 1 2]\n",
      " [1 4 1]]\n",
      "[[4 4 3]\n",
      " [2 4 0]\n",
      " [4 0 3]\n",
      " [4 4 3]\n",
      " [3 2 0]\n",
      " [2 0 4]\n",
      " [3 4 1]\n",
      " [2 0 3]\n",
      " [3 1 2]\n",
      " [1 4 1]]\n"
     ]
    }
   ],
   "source": [
    "Z = np.random.randint(0,5,(10,3))\n",
    "print(Z)\n",
    "# すべてのdtypeの配列（文字列配列とレコード配列を含む）のソリューション\n",
    "E = np.all(Z[:,1:] == Z[:,:-1], axis=1)\n",
    "U = Z[~E]\n",
    "print(U)\n",
    "# 数値配列のみのソリューションは、Zの任意の数の列で機能します\n",
    "U = Z[Z.max(axis=1) != Z.min(axis=1),:]\n",
    "print(U)"
   ]
  },
  {
   "cell_type": "markdown",
   "metadata": {},
   "source": [
    "#### 95. Convert a vector of ints into a matrix binary representation (★★★)"
   ]
  },
  {
   "cell_type": "code",
   "execution_count": null,
   "metadata": {},
   "outputs": [],
   "source": []
  },
  {
   "cell_type": "markdown",
   "metadata": {},
   "source": [
    "#### 96. Given a two dimensional array, how to extract unique rows? (★★★)"
   ]
  },
  {
   "cell_type": "code",
   "execution_count": null,
   "metadata": {},
   "outputs": [],
   "source": []
  },
  {
   "cell_type": "markdown",
   "metadata": {},
   "source": [
    "#### 97. Considering 2 vectors A & B, write the einsum equivalent of inner, outer, sum, and mul function (★★★)"
   ]
  },
  {
   "cell_type": "code",
   "execution_count": null,
   "metadata": {},
   "outputs": [],
   "source": []
  },
  {
   "cell_type": "markdown",
   "metadata": {},
   "source": [
    "#### 98. Considering a path described by two vectors (X,Y), how to sample it using equidistant samples (★★★)?"
   ]
  },
  {
   "cell_type": "code",
   "execution_count": null,
   "metadata": {},
   "outputs": [],
   "source": []
  },
  {
   "cell_type": "markdown",
   "metadata": {},
   "source": [
    "#### 99. Given an integer n and a 2D array X, select from X the rows which can be interpreted as draws from a multinomial distribution with n degrees, i.e., the rows which only contain integers and which sum to n. (★★★)"
   ]
  },
  {
   "cell_type": "code",
   "execution_count": null,
   "metadata": {},
   "outputs": [],
   "source": []
  },
  {
   "cell_type": "markdown",
   "metadata": {},
   "source": [
    "#### 100. Compute bootstrapped 95% confidence intervals for the mean of a 1D array X (i.e., resample the elements of an array with replacement N times, compute the mean of each sample, and then compute percentiles over the means). (★★★)"
   ]
  },
  {
   "cell_type": "code",
   "execution_count": null,
   "metadata": {},
   "outputs": [],
   "source": []
  }
 ],
 "metadata": {
  "kernelspec": {
   "display_name": "Python 3",
   "language": "python",
   "name": "python3"
  },
  "language_info": {
   "codemirror_mode": {
    "name": "ipython",
    "version": 3
   },
   "file_extension": ".py",
   "mimetype": "text/x-python",
   "name": "python",
   "nbconvert_exporter": "python",
   "pygments_lexer": "ipython3",
   "version": "3.9.2"
  }
 },
 "nbformat": 4,
 "nbformat_minor": 4
}
